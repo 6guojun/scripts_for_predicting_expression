{
 "cells": [
  {
   "cell_type": "code",
   "execution_count": 16,
   "metadata": {
    "collapsed": true
   },
   "outputs": [],
   "source": [
    "echo \"Running FUSION on chr1\" &>> bcac_fusion.out\n",
    "Rscript FUSION.assoc_test.R \\\n",
    "--sumstats ~/bcac/bcac_filtered.sumstats \\\n",
    "--weights ./WEIGHTS/GTEx.Breast_Mammary_Tissue.pos \\\n",
    "--weights_dir ./WEIGHTS/ \\\n",
    "--ref_ld_chr ./LDREF/1000G.EUR. \\\n",
    "--chr 1 \\\n",
    "--out bcac-chr1.dat &>> bcac_fusion.out"
   ]
  },
  {
   "cell_type": "code",
   "execution_count": 18,
   "metadata": {
    "collapsed": true
   },
   "outputs": [],
   "source": [
    "echo \"Running FUSION on chr2\" &>> bcac_fusion.out\n",
    "Rscript FUSION.assoc_test.R \\\n",
    "--sumstats ~/bcac/bcac_filtered.sumstats \\\n",
    "--weights ./WEIGHTS/GTEx.Breast_Mammary_Tissue.pos \\\n",
    "--weights_dir ./WEIGHTS/ \\\n",
    "--ref_ld_chr ./LDREF/1000G.EUR. \\\n",
    "--chr 2 \\\n",
    "--out bcac-chr2.dat &>> bcac_fusion.out"
   ]
  },
  {
   "cell_type": "code",
   "execution_count": 21,
   "metadata": {
    "collapsed": true
   },
   "outputs": [],
   "source": [
    "echo \"Running FUSION on chr3\" &>> bcac_fusion.out\n",
    "Rscript FUSION.assoc_test.R \\\n",
    "--sumstats ~/bcac/bcac_filtered.sumstats \\\n",
    "--weights ./WEIGHTS/GTEx.Breast_Mammary_Tissue.pos \\\n",
    "--weights_dir ./WEIGHTS/ \\\n",
    "--ref_ld_chr ./LDREF/1000G.EUR. \\\n",
    "--chr 3 \\\n",
    "--out bcac-chr3.dat &>> bcac_fusion.out"
   ]
  },
  {
   "cell_type": "code",
   "execution_count": 22,
   "metadata": {
    "collapsed": true
   },
   "outputs": [],
   "source": [
    "echo \"Running FUSION on chr4\" &>> bcac_fusion.out\n",
    "Rscript FUSION.assoc_test.R \\\n",
    "--sumstats ~/bcac/bcac_filtered.sumstats \\\n",
    "--weights ./WEIGHTS/GTEx.Breast_Mammary_Tissue.pos \\\n",
    "--weights_dir ./WEIGHTS/ \\\n",
    "--ref_ld_chr ./LDREF/1000G.EUR. \\\n",
    "--chr 4 \\\n",
    "--out bcac-chr4.dat &>> bcac_fusion.out"
   ]
  },
  {
   "cell_type": "code",
   "execution_count": 23,
   "metadata": {
    "collapsed": true
   },
   "outputs": [],
   "source": [
    "echo \"Running FUSION on chr5\" &>> bcac_fusion.out\n",
    "Rscript FUSION.assoc_test.R \\\n",
    "--sumstats ~/bcac/bcac_filtered.sumstats \\\n",
    "--weights ./WEIGHTS/GTEx.Breast_Mammary_Tissue.pos \\\n",
    "--weights_dir ./WEIGHTS/ \\\n",
    "--ref_ld_chr ./LDREF/1000G.EUR. \\\n",
    "--chr 5 \\\n",
    "--out bcac-chr5.dat &>> bcac_fusion.out"
   ]
  },
  {
   "cell_type": "code",
   "execution_count": 24,
   "metadata": {
    "collapsed": true
   },
   "outputs": [],
   "source": [
    "echo \"Running FUSION on chr6\" &>> bcac_fusion.out\n",
    "Rscript FUSION.assoc_test.R \\\n",
    "--sumstats ~/bcac/bcac_filtered.sumstats \\\n",
    "--weights ./WEIGHTS/GTEx.Breast_Mammary_Tissue.pos \\\n",
    "--weights_dir ./WEIGHTS/ \\\n",
    "--ref_ld_chr ./LDREF/1000G.EUR. \\\n",
    "--chr 6 \\\n",
    "--out bcac-chr6.dat &>> bcac_fusion.out"
   ]
  },
  {
   "cell_type": "code",
   "execution_count": 25,
   "metadata": {
    "collapsed": true
   },
   "outputs": [],
   "source": [
    "echo \"Running FUSION on chr7\" &>> bcac_fusion.out\n",
    "Rscript FUSION.assoc_test.R \\\n",
    "--sumstats ~/bcac/bcac_filtered.sumstats \\\n",
    "--weights ./WEIGHTS/GTEx.Breast_Mammary_Tissue.pos \\\n",
    "--weights_dir ./WEIGHTS/ \\\n",
    "--ref_ld_chr ./LDREF/1000G.EUR. \\\n",
    "--chr 7 \\\n",
    "--out bcac-chr7.dat &>> bcac_fusion.out"
   ]
  },
  {
   "cell_type": "code",
   "execution_count": 26,
   "metadata": {
    "collapsed": true
   },
   "outputs": [],
   "source": [
    "echo \"Running FUSION on chr8\" &>> bcac_fusion.out\n",
    "Rscript FUSION.assoc_test.R \\\n",
    "--sumstats ~/bcac/bcac_filtered.sumstats \\\n",
    "--weights ./WEIGHTS/GTEx.Breast_Mammary_Tissue.pos \\\n",
    "--weights_dir ./WEIGHTS/ \\\n",
    "--ref_ld_chr ./LDREF/1000G.EUR. \\\n",
    "--chr 8 \\\n",
    "--out bcac-chr8.dat &>> bcac_fusion.out"
   ]
  },
  {
   "cell_type": "code",
   "execution_count": 27,
   "metadata": {
    "collapsed": true
   },
   "outputs": [],
   "source": [
    "echo \"Running FUSION on chr9\" &>> bcac_fusion.out\n",
    "Rscript FUSION.assoc_test.R \\\n",
    "--sumstats ~/bcac/bcac_filtered.sumstats \\\n",
    "--weights ./WEIGHTS/GTEx.Breast_Mammary_Tissue.pos \\\n",
    "--weights_dir ./WEIGHTS/ \\\n",
    "--ref_ld_chr ./LDREF/1000G.EUR. \\\n",
    "--chr 9 \\\n",
    "--out bcac-chr9.dat &>> bcac_fusion.out"
   ]
  },
  {
   "cell_type": "code",
   "execution_count": 30,
   "metadata": {
    "collapsed": true
   },
   "outputs": [],
   "source": [
    "echo \"Running FUSION on chr10\" &>> bcac_fusion.out\n",
    "Rscript FUSION.assoc_test.R \\\n",
    "--sumstats ~/bcac/bcac_filtered.sumstats \\\n",
    "--weights ./WEIGHTS/GTEx.Breast_Mammary_Tissue.pos \\\n",
    "--weights_dir ./WEIGHTS/ \\\n",
    "--ref_ld_chr ./LDREF/1000G.EUR. \\\n",
    "--chr 10 \\\n",
    "--out bcac-chr10.dat &>> bcac_fusion.out"
   ]
  },
  {
   "cell_type": "code",
   "execution_count": 2,
   "metadata": {},
   "outputs": [],
   "source": [
    "echo \"Running FUSION on chr11\" &>> bcac_fusion.out\n",
    "Rscript FUSION.assoc_test.R \\\n",
    "--sumstats ~/bcac/bcac_filtered.sumstats \\\n",
    "--weights ./WEIGHTS/GTEx.Breast_Mammary_Tissue.pos \\\n",
    "--weights_dir ./WEIGHTS/ \\\n",
    "--ref_ld_chr ./LDREF/1000G.EUR. \\\n",
    "--chr 11 \\\n",
    "--out bcac-chr11.dat &>> bcac_fusion.out"
   ]
  },
  {
   "cell_type": "code",
   "execution_count": 34,
   "metadata": {
    "collapsed": true
   },
   "outputs": [],
   "source": [
    "echo \"Running FUSION on chr12\" &>> bcac_fusion.out\n",
    "Rscript FUSION.assoc_test.R \\\n",
    "--sumstats ~/bcac/bcac_filtered.sumstats \\\n",
    "--weights ./WEIGHTS/GTEx.Breast_Mammary_Tissue.pos \\\n",
    "--weights_dir ./WEIGHTS/ \\\n",
    "--ref_ld_chr ./LDREF/1000G.EUR. \\\n",
    "--chr 12 \\\n",
    "--out bcac-chr12.dat &>> bcac_fusion.out"
   ]
  },
  {
   "cell_type": "code",
   "execution_count": 35,
   "metadata": {
    "collapsed": true
   },
   "outputs": [],
   "source": [
    "echo \"Running FUSION on chr13\" &>> bcac_fusion.out\n",
    "Rscript FUSION.assoc_test.R \\\n",
    "--sumstats ~/bcac/bcac_filtered.sumstats \\\n",
    "--weights ./WEIGHTS/GTEx.Breast_Mammary_Tissue.pos \\\n",
    "--weights_dir ./WEIGHTS/ \\\n",
    "--ref_ld_chr ./LDREF/1000G.EUR. \\\n",
    "--chr 13 \\\n",
    "--out bcac-chr13.dat &>> bcac_fusion.out"
   ]
  },
  {
   "cell_type": "code",
   "execution_count": 36,
   "metadata": {
    "collapsed": true
   },
   "outputs": [],
   "source": [
    "echo \"Running FUSION on chr14\" &>> bcac_fusion.out\n",
    "Rscript FUSION.assoc_test.R \\\n",
    "--sumstats ~/bcac/bcac_filtered.sumstats \\\n",
    "--weights ./WEIGHTS/GTEx.Breast_Mammary_Tissue.pos \\\n",
    "--weights_dir ./WEIGHTS/ \\\n",
    "--ref_ld_chr ./LDREF/1000G.EUR. \\\n",
    "--chr 14 \\\n",
    "--out bcac-chr14.dat &>> bcac_fusion.out"
   ]
  },
  {
   "cell_type": "code",
   "execution_count": 37,
   "metadata": {
    "collapsed": true
   },
   "outputs": [],
   "source": [
    "echo \"Running FUSION on chr15\" &>> bcac_fusion.out\n",
    "Rscript FUSION.assoc_test.R \\\n",
    "--sumstats ~/bcac/bcac_filtered.sumstats \\\n",
    "--weights ./WEIGHTS/GTEx.Breast_Mammary_Tissue.pos \\\n",
    "--weights_dir ./WEIGHTS/ \\\n",
    "--ref_ld_chr ./LDREF/1000G.EUR. \\\n",
    "--chr 15 \\\n",
    "--out bcac-chr15.dat &>> bcac_fusion.out"
   ]
  },
  {
   "cell_type": "code",
   "execution_count": 38,
   "metadata": {
    "collapsed": true
   },
   "outputs": [],
   "source": [
    "echo \"Running FUSION on chr16\" &>> bcac_fusion.out\n",
    "Rscript FUSION.assoc_test.R \\\n",
    "--sumstats ~/bcac/bcac_filtered.sumstats \\\n",
    "--weights ./WEIGHTS/GTEx.Breast_Mammary_Tissue.pos \\\n",
    "--weights_dir ./WEIGHTS/ \\\n",
    "--ref_ld_chr ./LDREF/1000G.EUR. \\\n",
    "--chr 16 \\\n",
    "--out bcac-chr16.dat &>> bcac_fusion.out"
   ]
  },
  {
   "cell_type": "code",
   "execution_count": 39,
   "metadata": {
    "collapsed": true
   },
   "outputs": [],
   "source": [
    "echo \"Running FUSION on chr17\" &>> bcac_fusion.out\n",
    "Rscript FUSION.assoc_test.R \\\n",
    "--sumstats ~/bcac/bcac_filtered.sumstats \\\n",
    "--weights ./WEIGHTS/GTEx.Breast_Mammary_Tissue.pos \\\n",
    "--weights_dir ./WEIGHTS/ \\\n",
    "--ref_ld_chr ./LDREF/1000G.EUR. \\\n",
    "--chr 17 \\\n",
    "--out bcac-chr17.dat &>> bcac_fusion.out"
   ]
  },
  {
   "cell_type": "code",
   "execution_count": 40,
   "metadata": {
    "collapsed": true
   },
   "outputs": [],
   "source": [
    "echo \"Running FUSION on chr18\" &>> bcac_fusion.out\n",
    "Rscript FUSION.assoc_test.R \\\n",
    "--sumstats ~/bcac/bcac_filtered.sumstats \\\n",
    "--weights ./WEIGHTS/GTEx.Breast_Mammary_Tissue.pos \\\n",
    "--weights_dir ./WEIGHTS/ \\\n",
    "--ref_ld_chr ./LDREF/1000G.EUR. \\\n",
    "--chr 18 \\\n",
    "--out bcac-chr18.dat &>> bcac_fusion.out"
   ]
  },
  {
   "cell_type": "code",
   "execution_count": 41,
   "metadata": {
    "collapsed": true
   },
   "outputs": [],
   "source": [
    "echo \"Running FUSION on chr19\" &>> bcac_fusion.out\n",
    "Rscript FUSION.assoc_test.R \\\n",
    "--sumstats ~/bcac/bcac_filtered.sumstats \\\n",
    "--weights ./WEIGHTS/GTEx.Breast_Mammary_Tissue.pos \\\n",
    "--weights_dir ./WEIGHTS/ \\\n",
    "--ref_ld_chr ./LDREF/1000G.EUR. \\\n",
    "--chr 19 \\\n",
    "--out bcac-chr19.dat &>> bcac_fusion.out"
   ]
  },
  {
   "cell_type": "code",
   "execution_count": 42,
   "metadata": {
    "collapsed": true
   },
   "outputs": [],
   "source": [
    "echo \"Running FUSION on chr20\" &>> bcac_fusion.out\n",
    "Rscript FUSION.assoc_test.R \\\n",
    "--sumstats ~/bcac/bcac_filtered.sumstats \\\n",
    "--weights ./WEIGHTS/GTEx.Breast_Mammary_Tissue.pos \\\n",
    "--weights_dir ./WEIGHTS/ \\\n",
    "--ref_ld_chr ./LDREF/1000G.EUR. \\\n",
    "--chr 20 \\\n",
    "--out bcac-chr20.dat &>> bcac_fusion.out"
   ]
  },
  {
   "cell_type": "code",
   "execution_count": 43,
   "metadata": {
    "collapsed": true
   },
   "outputs": [],
   "source": [
    "echo \"Running FUSION on chr21\" &>> bcac_fusion.out\n",
    "Rscript FUSION.assoc_test.R \\\n",
    "--sumstats ~/bcac/bcac_filtered.sumstats \\\n",
    "--weights ./WEIGHTS/GTEx.Breast_Mammary_Tissue.pos \\\n",
    "--weights_dir ./WEIGHTS/ \\\n",
    "--ref_ld_chr ./LDREF/1000G.EUR. \\\n",
    "--chr 21 \\\n",
    "--out bcac-chr21.dat &>> bcac_fusion.out"
   ]
  },
  {
   "cell_type": "code",
   "execution_count": 44,
   "metadata": {
    "collapsed": true
   },
   "outputs": [],
   "source": [
    "echo \"Running FUSION on chr22\" &>> bcac_fusion.out\n",
    "Rscript FUSION.assoc_test.R \\\n",
    "--sumstats ~/bcac/bcac_filtered.sumstats \\\n",
    "--weights ./WEIGHTS/GTEx.Breast_Mammary_Tissue.pos \\\n",
    "--weights_dir ./WEIGHTS/ \\\n",
    "--ref_ld_chr ./LDREF/1000G.EUR. \\\n",
    "--chr 22 \\\n",
    "--out bcac-chr22.dat &>> bcac_fusion.out"
   ]
  },
  {
   "cell_type": "code",
   "execution_count": 45,
   "metadata": {},
   "outputs": [
    {
     "name": "stdout",
     "output_type": "stream",
     "text": [
      "Running FUSION on chr1\n",
      "WARNING :  GTEx.Breast_Mammary_Tissue/GTEx.Breast_Mammary_Tissue.ENSG00000134690.6.CDCA8.wgt.RDat CDCA8 1 38158090 38175391 had 453 overlapping SNPs, but none with non-zero expression weights, try more SNPS or a different model\n",
      "WARNING :  GTEx.Breast_Mammary_Tissue/GTEx.Breast_Mammary_Tissue.ENSG00000143153.8.ATP1B1.wgt.RDat ATP1B1 1 169074935 169099328 had 605 overlapping SNPs, but none with non-zero expression weights, try more SNPS or a different model\n",
      "Analysis completed.\n",
      "NOTE: 2 / 186 genes were skipped\n",
      "Running FUSION on chr2\n",
      "WARNING :  GTEx.Breast_Mammary_Tissue/GTEx.Breast_Mammary_Tissue.ENSG00000197872.7.FAM49A.wgt.RDat FAM49A 2 16730727 16847599 had 483 overlapping SNPs, but none with non-zero expression weights, try more SNPS or a different model\n",
      "WARNING :  GTEx.Breast_Mammary_Tissue/GTEx.Breast_Mammary_Tissue.ENSG00000241399.2.CD302.wgt.RDat CD302 2 160637946 160654753 had 450 overlapping SNPs, but none with non-zero expression weights, try more SNPS or a different model\n",
      "Analysis completed.\n",
      "NOTE: 2 / 139 genes were skipped\n",
      "Running FUSION on chr3\n",
      "WARNING :  GTEx.Breast_Mammary_Tissue/GTEx.Breast_Mammary_Tissue.ENSG00000271020.1.RP11-10C24.1.wgt.RDat RP11-10C24.1 3 33838641 33839173 had 347 overlapping SNPs, but none with non-zero expression weights, try more SNPS or a different model\n",
      "Analysis completed.\n",
      "NOTE: 1 / 111 genes were skipped\n",
      "Running FUSION on chr4\n",
      "Analysis completed.\n",
      "NOTE: 0 / 92 genes were skipped\n",
      "Running FUSION on chr5\n",
      "Analysis completed.\n",
      "NOTE: 0 / 88 genes were skipped\n",
      "Running FUSION on chr6\n",
      "Analysis completed.\n",
      "NOTE: 0 / 122 genes were skipped\n",
      "Results in the MHC are written to bcac-chr6.dat.MHC , evaluate with caution due to complex LD structure\n",
      "Running FUSION on chr7\n",
      "WARNING :  GTEx.Breast_Mammary_Tissue/GTEx.Breast_Mammary_Tissue.ENSG00000106018.9.VIPR2.wgt.RDat VIPR2 7 158820866 158937649 had 332 overlapping SNPs, but none with non-zero expression weights, try more SNPS or a different model\n",
      "Analysis completed.\n",
      "NOTE: 1 / 128 genes were skipped\n",
      "Running FUSION on chr8\n",
      "Analysis completed.\n",
      "NOTE: 0 / 66 genes were skipped\n",
      "Running FUSION on chr9\n",
      "WARNING :  GTEx.Breast_Mammary_Tissue/GTEx.Breast_Mammary_Tissue.ENSG00000165695.5.AK8.wgt.RDat AK8 9 135600965 135750586 had 608 overlapping SNPs, but none with non-zero expression weights, try more SNPS or a different model\n",
      "Analysis completed.\n",
      "NOTE: 1 / 64 genes were skipped\n",
      "Running FUSION on chr10\n",
      "FUSION.assoc_test.R: command not found\n",
      "Running FUSION on chr10\n",
      "Analysis completed.\n",
      "NOTE: 0 / 88 genes were skipped\n",
      "Running FUSION on chr11\n",
      "--out: command not found\n",
      "Running FUSION on chr12\n",
      "WARNING :  GTEx.Breast_Mammary_Tissue/GTEx.Breast_Mammary_Tissue.ENSG00000182993.3.C12orf60.wgt.RDat C12orf60 12 14956506 15059520 had 380 overlapping SNPs, but none with non-zero expression weights, try more SNPS or a different model\n",
      "Analysis completed.\n",
      "NOTE: 1 / 88 genes were skipped\n",
      "Running FUSION on chr13\n",
      "Analysis completed.\n",
      "NOTE: 0 / 32 genes were skipped\n",
      "Running FUSION on chr14\n",
      "Analysis completed.\n",
      "NOTE: 0 / 60 genes were skipped\n",
      "Running FUSION on chr15\n",
      "Analysis completed.\n",
      "NOTE: 0 / 101 genes were skipped\n",
      "Running FUSION on chr16\n",
      "WARNING :  GTEx.Breast_Mammary_Tissue/GTEx.Breast_Mammary_Tissue.ENSG00000183549.6.ACSM5.wgt.RDat ACSM5 16 20420856 20452658 had 399 overlapping SNPs, but none with non-zero expression weights, try more SNPS or a different model\n",
      "WARNING :  GTEx.Breast_Mammary_Tissue/GTEx.Breast_Mammary_Tissue.ENSG00000103034.10.NDRG4.wgt.RDat NDRG4 16 58496750 58547532 had 491 overlapping SNPs, but none with non-zero expression weights, try more SNPS or a different model\n",
      "Analysis completed.\n",
      "NOTE: 2 / 107 genes were skipped\n",
      "Running FUSION on chr17\n",
      "WARNING :  GTEx.Breast_Mammary_Tissue/GTEx.Breast_Mammary_Tissue.ENSG00000108510.5.MED13.wgt.RDat MED13 17 60019966 60142643 had 300 overlapping SNPs, but none with non-zero expression weights, try more SNPS or a different model\n",
      "Analysis completed.\n",
      "NOTE: 1 / 129 genes were skipped\n",
      "Running FUSION on chr18\n",
      "Analysis completed.\n",
      "NOTE: 0 / 30 genes were skipped\n",
      "Running FUSION on chr19\n",
      "WARNING :  GTEx.Breast_Mammary_Tissue/GTEx.Breast_Mammary_Tissue.ENSG00000130544.7.ZNF557.wgt.RDat ZNF557 19 7069455 7082063 had 425 overlapping SNPs, but none with non-zero expression weights, try more SNPS or a different model\n",
      "WARNING :  GTEx.Breast_Mammary_Tissue/GTEx.Breast_Mammary_Tissue.ENSG00000130529.11.TRPM4.wgt.RDat TRPM4 19 49660998 49715093 had 396 overlapping SNPs, but none with non-zero expression weights, try more SNPS or a different model\n",
      "WARNING :  GTEx.Breast_Mammary_Tissue/GTEx.Breast_Mammary_Tissue.ENSG00000186230.6.ZNF749.wgt.RDat ZNF749 19 57946697 57956853 had 473 overlapping SNPs, but none with non-zero expression weights, try more SNPS or a different model\n",
      "Analysis completed.\n",
      "NOTE: 3 / 145 genes were skipped\n",
      "Running FUSION on chr20\n",
      "Analysis completed.\n",
      "NOTE: 0 / 48 genes were skipped\n",
      "Running FUSION on chr21\n",
      "WARNING :  GTEx.Breast_Mammary_Tissue/GTEx.Breast_Mammary_Tissue.ENSG00000241945.3.PWP2.wgt.RDat PWP2 21 45527171 45551063 had 410 overlapping SNPs, but none with non-zero expression weights, try more SNPS or a different model\n",
      "Analysis completed.\n",
      "NOTE: 1 / 26 genes were skipped\n",
      "Running FUSION on chr22\n",
      "Analysis completed.\n",
      "NOTE: 0 / 77 genes were skipped\n"
     ]
    }
   ],
   "source": [
    "cat bcac_fusion.out"
   ]
  },
  {
   "cell_type": "code",
   "execution_count": 5,
   "metadata": {},
   "outputs": [
    {
     "name": "stdout",
     "output_type": "stream",
     "text": [
      "FUSION_commands.ipynb  bcac-chr10.dat      PGC2.SCZ.sumstats\n",
      "bcac_fusion.out        bcac-chr9.dat       \u001b[0m\u001b[01;34mexamples\u001b[0m\n",
      "bcac-chr11.dat         bcac-chr8.dat       \u001b[01;31mmaster.zip\u001b[0m\n",
      "bcac-chr22.dat         bcac-chr7.dat       FUSION.assoc_test.R\n",
      "bcac-chr21.dat         bcac-chr6.dat       FUSION.compute_weights.R\n",
      "bcac-chr20.dat         bcac-chr6.dat.MHC   FUSION.post_process.R\n",
      "bcac-chr19.dat         bcac-chr5.dat       \u001b[01;32mgcta_nr_robust\u001b[0m\n",
      "bcac-chr18.dat         bcac-chr4.dat       glist-hg19\n",
      "bcac-chr17.dat         bcac-chr3.dat       LICENSE\n",
      "bcac-chr16.dat         bcac-chr2.dat       README.md\n",
      "bcac-chr15.dat         bcac-chr1.dat       \u001b[01;34mutils\u001b[0m\n",
      "bcac-chr14.dat         FUSION_commands.sh  \u001b[01;31mLDREF.tar.bz2\u001b[0m\n",
      "bcac-chr13.dat         \u001b[01;34mWEIGHTS\u001b[0m             \u001b[01;34mLDREF\u001b[0m\n",
      "bcac-chr12.dat         PGC2.SCZ.22.dat     \u001b[01;34mplink2R-master\u001b[0m\n"
     ]
    }
   ],
   "source": [
    "rm test2.out\n",
    "ls -t"
   ]
  },
  {
   "cell_type": "code",
   "execution_count": 6,
   "metadata": {},
   "outputs": [
    {
     "name": "stdout",
     "output_type": "stream",
     "text": [
      "20 strictly non-overlapping loci\n",
      "consolidated to 1 non-overlapping loci with 100000 bp buffer\n",
      "locus 1 best GWAS Chisq\t35.3\n",
      "locus 1 best GWAS Chisq conditioned\t12.4\n",
      "locus 1 best conditioned Chisq\t12.4\n"
     ]
    }
   ],
   "source": [
    "cat PGC2.SCZ.22.dat | awk 'NR == 1 || $NF < 0.05/2058' > PGC2.SCZ.22.top\n",
    "\n",
    "Rscript FUSION.post_process.R \\\n",
    "--sumstats PGC2.SCZ.sumstats \\\n",
    "--input PGC2.SCZ.22.top \\\n",
    "--out PGC2.SCZ.22.top.analysis \\\n",
    "--ref_ld_chr ./LDREF/1000G.EUR. \\\n",
    "--chr 22 \\\n",
    "--plot --locus_win 100000"
   ]
  },
  {
   "cell_type": "code",
   "execution_count": 8,
   "metadata": {},
   "outputs": [
    {
     "name": "stdout",
     "output_type": "stream",
     "text": [
      "PGC2.SCZ.22.top.analysis.loc_1.pdf           bcac-chr6.dat.MHC\n",
      "PGC2.SCZ.22.top.analysis.joint_dropped.dat   bcac-chr5.dat\n",
      "PGC2.SCZ.22.top.analysis.joint_included.dat  bcac-chr4.dat\n",
      "PGC2.SCZ.22.top                              bcac-chr3.dat\n",
      "FUSION_commands.ipynb                        bcac-chr2.dat\n",
      "bcac_fusion.out                              bcac-chr1.dat\n",
      "bcac-chr11.dat                               FUSION_commands.sh\n",
      "bcac-chr22.dat                               \u001b[0m\u001b[01;34mWEIGHTS\u001b[0m\n",
      "bcac-chr21.dat                               PGC2.SCZ.22.dat\n",
      "bcac-chr20.dat                               PGC2.SCZ.sumstats\n",
      "bcac-chr19.dat                               \u001b[01;34mexamples\u001b[0m\n",
      "bcac-chr18.dat                               \u001b[01;31mmaster.zip\u001b[0m\n",
      "bcac-chr17.dat                               FUSION.assoc_test.R\n",
      "bcac-chr16.dat                               FUSION.compute_weights.R\n",
      "bcac-chr15.dat                               FUSION.post_process.R\n",
      "bcac-chr14.dat                               \u001b[01;32mgcta_nr_robust\u001b[0m\n",
      "bcac-chr13.dat                               glist-hg19\n",
      "bcac-chr12.dat                               LICENSE\n",
      "bcac-chr10.dat                               README.md\n",
      "bcac-chr9.dat                                \u001b[01;34mutils\u001b[0m\n",
      "bcac-chr8.dat                                \u001b[01;31mLDREF.tar.bz2\u001b[0m\n",
      "bcac-chr7.dat                                \u001b[01;34mLDREF\u001b[0m\n",
      "bcac-chr6.dat                                \u001b[01;34mplink2R-master\u001b[0m\n"
     ]
    }
   ],
   "source": [
    "ls -t"
   ]
  },
  {
   "cell_type": "code",
   "execution_count": 16,
   "metadata": {},
   "outputs": [
    {
     "name": "stdout",
     "output_type": "stream",
     "text": [
      "FILE\tID\tTWAS.Z\tTWAS.P\tJOINT.BETA\tJOINT.BETA.SE\tJOINT.Z\tJOINT.P\n",
      "./WEIGHTS//GTEx.Whole_Blood/GTEx.Whole_Blood.ENSG00000177096.4.FAM109B.wgt.RDat\tFAM109B\t5.1\t3.2e-07\t5.1\t1\t5.1\t3.2e-07\n",
      "2 PGC2.SCZ.22.top.analysis.joint_included.dat\n",
      "FILE\tID\tTWAS.Z\tTWAS.P\tCOND.BETA\tCOND.BETA.SE\tCOND.Z\tCOND.P\n",
      "./WEIGHTS//GTEx.Whole_Blood/GTEx.Whole_Blood.ENSG00000183172.8.SMDT1.wgt.RDat\tSMDT1\t 5.1\t3.5e-07\t 0.15\t0.25\t 0.59\t0.56\n",
      "./WEIGHTS//GTEx.Whole_Blood/GTEx.Whole_Blood.ENSG00000100197.16.CYP2D6.wgt.RDat\tCYP2D6\t-4.4\t1.2e-05\t-0.67\t0.69\t-0.98\t0.33\n",
      "3 PGC2.SCZ.22.top.analysis.joint_dropped.dat\n",
      "FILE\tID\tCHR\tP0\tP1\tHSQ\tBEST.GWAS.ID\tBEST.GWAS.Z\tEQTL.ID\tEQTL.R2\tEQTL.Z\tEQTL.GWAS.Z\tNSNP\tNWGT\tMODEL\tMODELCV.R2\tMODELCV.PV\tTWAS.Z\tTWAS.P\n",
      "./WEIGHTS//GTEx.Whole_Blood/GTEx.Whole_Blood.ENSG00000177096.4.FAM109B.wgt.RDat\tFAM109B\t22\t42470255\t42475445\t0.0447\trs1023500\t-5.94\trs5758566\t 0.058680\t -5.16\t-5.0835\t327\t 2\tlasso\t 0.058870\t3.94e-06\t 5.1100\t3.22e-07\n",
      "./WEIGHTS//GTEx.Whole_Blood/GTEx.Whole_Blood.ENSG00000183172.8.SMDT1.wgt.RDat\tSMDT1\t22\t42475695\t42480288\t0.3675\trs1023500\t-5.94\trs4147638\t 0.364317\t-11.24\t-4.9978\t327\t 3\tlasso\t 0.368850\t1.44e-35\t 5.0961\t3.47e-07\n",
      "./WEIGHTS//GTEx.Whole_Blood/GTEx.Whole_Blood.ENSG00000100197.16.CYP2D6.wgt.RDat\tCYP2D6\t22\t42522501\t42526908\t0.2730\trs1023500\t-5.94\trs5758589\t 0.335088\t-10.68\t 4.4343\t341\t 7\tlasso\t 0.339786\t2.82e-32\t-4.3844\t1.16e-05\n",
      "4 PGC2.SCZ.22.top\n"
     ]
    }
   ],
   "source": [
    "cat *included.dat\n",
    "wc -l *included.dat\n",
    "cat *dropped.dat\n",
    "wc -l *dropped.dat\n",
    "cat *.top\n",
    "wc -l *.top"
   ]
  },
  {
   "cell_type": "code",
   "execution_count": 17,
   "metadata": {},
   "outputs": [
    {
     "name": "stdout",
     "output_type": "stream",
     "text": [
      "FILE\tID\tCHR\tP0\tP1\tHSQ\tBEST.GWAS.ID\tBEST.GWAS.Z\tEQTL.ID\tEQTL.R2\tEQTL.Z\tEQTL.GWAS.Z\tNSNP\tNWGT\tMODEL\tMODELCV.R2\tMODELCV.PV\tTWAS.Z\tTWAS.P\n",
      "./WEIGHTS//GTEx.Whole_Blood/GTEx.Whole_Blood.ENSG00000273311.1.DGCR11.wgt.RDat\tDGCR11\t22\t19033675\t19035888\t0.0551\trs2238767\t-2.98\trs2283641\t 0.013728\t  4.33\t 2.5818\t408\t 6\tenet\t 0.002847\t1.63e-01\t 2.6623\t7.76e-03\n",
      "./WEIGHTS//GTEx.Whole_Blood/GTEx.Whole_Blood.ENSG00000100075.5.SLC25A1.wgt.RDat\tSLC25A1\t22\t19163095\t19166343\t0.0740\trs2238767\t-2.98\trs762523\t 0.080367\t  5.36\t-1.8211\t406\t 2\tlasso\t 0.075539\t1.77e-07\t-1.8547\t6.36e-02\n",
      "./WEIGHTS//GTEx.Whole_Blood/GTEx.Whole_Blood.ENSG00000070371.11.CLTCL1.wgt.RDat\tCLTCL1\t22\t19166986\t19279239\t0.1620\trs4819843\t 3.04\trs809901\t 0.072193\t  5.53\t-1.9928\t456\t19\tenet\t 0.085305\t2.83e-08\t-1.8804\t6.00e-02\n",
      "./WEIGHTS//GTEx.Whole_Blood/GTEx.Whole_Blood.ENSG00000232926.1.AC000078.5.wgt.RDat\tAC000078.5\t22\t19874812\t19875493\t0.2226\trs5748555\t-3.15\trs13057784\t 0.052796\t  5.60\t-0.1652\t514\t44\tenet\t 0.099315\t1.99e-09\t 0.0524\t9.58e-01\n",
      "./WEIGHTS//GTEx.Whole_Blood/GTEx.Whole_Blood.ENSG00000185252.13.ZNF74.wgt.RDat\tZNF74\t22\t20748405\t20762745\t0.1120\trs595272\t 4.09\trs1005640\t 0.001422\t  3.44\t-1.3677\t301\t 8\tenet\t 0.008042\t5.45e-02\t-0.8550\t3.93e-01\n",
      "./WEIGHTS//GTEx.Whole_Blood/GTEx.Whole_Blood.ENSG00000099940.7.SNAP29.wgt.RDat\tSNAP29\t22\t21213771\t21245506\t0.1286\trs595272\t 4.09\trs4820575\t 0.061763\t  5.94\t-1.1978\t416\t27\tenet\t 0.078915\t9.40e-08\t-1.0354\t3.00e-01\n",
      "./WEIGHTS//GTEx.Whole_Blood/GTEx.Whole_Blood.ENSG00000272600.1.AC007308.7.wgt.RDat\tAC007308.7\t22\t21243494\t21245502\t0.2076\trs595272\t 4.09\trs165783\t 0.100625\t  6.79\t-0.8871\t408\t12\tlasso\t 0.164447\t5.44e-15\t-1.2049\t2.28e-01\n",
      "./WEIGHTS//GTEx.Whole_Blood/GTEx.Whole_Blood.ENSG00000183773.11.AIFM3.wgt.RDat\tAIFM3\t22\t21319396\t21335649\t0.0676\trs595272\t 4.09\trs565979\t 0.036672\t  4.50\t-0.4474\t362\t 5\tlasso\t 0.025126\t2.04e-03\t-0.3667\t7.14e-01\n",
      "./WEIGHTS//GTEx.Whole_Blood/GTEx.Whole_Blood.ENSG00000230513.1.THAP7-AS1.wgt.RDat\tTHAP7-AS1\t22\t21356175\t21357118\t0.2382\trs595272\t 4.09\trs2239961\t 0.105307\t -7.04\t-0.3783\t347\t 5\tlasso\t 0.151404\t7.57e-14\t 0.2292\t8.19e-01\n"
     ]
    }
   ],
   "source": [
    "head PGC2.SCZ.22.dat"
   ]
  },
  {
   "cell_type": "code",
   "execution_count": null,
   "metadata": {
    "collapsed": true
   },
   "outputs": [],
   "source": []
  }
 ],
 "metadata": {
  "kernelspec": {
   "display_name": "Bash",
   "language": "bash",
   "name": "bash"
  },
  "language_info": {
   "codemirror_mode": "shell",
   "file_extension": ".sh",
   "mimetype": "text/x-sh",
   "name": "bash"
  }
 },
 "nbformat": 4,
 "nbformat_minor": 2
}
