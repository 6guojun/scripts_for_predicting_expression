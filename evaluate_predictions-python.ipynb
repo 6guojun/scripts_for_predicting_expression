{
 "cells": [
  {
   "cell_type": "code",
   "execution_count": 2,
   "metadata": {},
   "outputs": [],
   "source": [
    "from sklearn.metrics import r2_score\n",
    "import pandas as pd\n",
    "import numpy as np\n",
    "import glob\n",
    "import matplotlib.pyplot as plt\n",
    "%matplotlib inline"
   ]
  },
  {
   "cell_type": "code",
   "execution_count": 33,
   "metadata": {},
   "outputs": [
    {
     "data": {
      "text/html": [
       "<div>\n",
       "<style scoped>\n",
       "    .dataframe tbody tr th:only-of-type {\n",
       "        vertical-align: middle;\n",
       "    }\n",
       "\n",
       "    .dataframe tbody tr th {\n",
       "        vertical-align: top;\n",
       "    }\n",
       "\n",
       "    .dataframe thead th {\n",
       "        text-align: right;\n",
       "    }\n",
       "</style>\n",
       "<table border=\"1\" class=\"dataframe\">\n",
       "  <thead>\n",
       "    <tr style=\"text-align: right;\">\n",
       "      <th></th>\n",
       "      <th>chr</th>\n",
       "      <th>start</th>\n",
       "      <th>end</th>\n",
       "      <th>TCGA-OL-A5RZ</th>\n",
       "      <th>TCGA-C8-A27A</th>\n",
       "      <th>TCGA-BH-A2L8</th>\n",
       "      <th>TCGA-AR-A5QP</th>\n",
       "      <th>TCGA-E9-A1RE</th>\n",
       "      <th>TCGA-S3-AA0Z</th>\n",
       "      <th>TCGA-E9-A1R6</th>\n",
       "      <th>...</th>\n",
       "      <th>TCGA-AC-A3EH</th>\n",
       "      <th>TCGA-A2-A0YD</th>\n",
       "      <th>TCGA-D8-A1XB</th>\n",
       "      <th>TCGA-E9-A24A</th>\n",
       "      <th>TCGA-E9-A3X8</th>\n",
       "      <th>TCGA-A2-A0EY</th>\n",
       "      <th>TCGA-A8-A07W</th>\n",
       "      <th>TCGA-D8-A27V</th>\n",
       "      <th>TCGA-A1-A0SI</th>\n",
       "      <th>TCGA-C8-A12T</th>\n",
       "    </tr>\n",
       "    <tr>\n",
       "      <th>gene</th>\n",
       "      <th></th>\n",
       "      <th></th>\n",
       "      <th></th>\n",
       "      <th></th>\n",
       "      <th></th>\n",
       "      <th></th>\n",
       "      <th></th>\n",
       "      <th></th>\n",
       "      <th></th>\n",
       "      <th></th>\n",
       "      <th></th>\n",
       "      <th></th>\n",
       "      <th></th>\n",
       "      <th></th>\n",
       "      <th></th>\n",
       "      <th></th>\n",
       "      <th></th>\n",
       "      <th></th>\n",
       "      <th></th>\n",
       "      <th></th>\n",
       "      <th></th>\n",
       "    </tr>\n",
       "  </thead>\n",
       "  <tbody>\n",
       "    <tr>\n",
       "      <th>ENSG00000002016</th>\n",
       "      <td>12</td>\n",
       "      <td>1034628</td>\n",
       "      <td>1042224</td>\n",
       "      <td>0.304152</td>\n",
       "      <td>-1.484149</td>\n",
       "      <td>-1.979164</td>\n",
       "      <td>0.122465</td>\n",
       "      <td>0.150922</td>\n",
       "      <td>1.520452</td>\n",
       "      <td>1.003046</td>\n",
       "      <td>...</td>\n",
       "      <td>0.467542</td>\n",
       "      <td>-0.375093</td>\n",
       "      <td>0.233504</td>\n",
       "      <td>0.239544</td>\n",
       "      <td>-1.661902</td>\n",
       "      <td>0.699026</td>\n",
       "      <td>0.039948</td>\n",
       "      <td>-0.760346</td>\n",
       "      <td>-1.752647</td>\n",
       "      <td>-0.546362</td>\n",
       "    </tr>\n",
       "    <tr>\n",
       "      <th>ENSG00000002587</th>\n",
       "      <td>4</td>\n",
       "      <td>11401381</td>\n",
       "      <td>11430221</td>\n",
       "      <td>-0.497897</td>\n",
       "      <td>-2.987616</td>\n",
       "      <td>-0.177114</td>\n",
       "      <td>0.614486</td>\n",
       "      <td>-0.628736</td>\n",
       "      <td>1.449702</td>\n",
       "      <td>-0.171151</td>\n",
       "      <td>...</td>\n",
       "      <td>-1.361413</td>\n",
       "      <td>0.757213</td>\n",
       "      <td>-1.301566</td>\n",
       "      <td>0.539556</td>\n",
       "      <td>-1.022664</td>\n",
       "      <td>-0.370057</td>\n",
       "      <td>0.608821</td>\n",
       "      <td>-1.491253</td>\n",
       "      <td>0.524670</td>\n",
       "      <td>0.079959</td>\n",
       "    </tr>\n",
       "    <tr>\n",
       "      <th>ENSG00000003393</th>\n",
       "      <td>2</td>\n",
       "      <td>202593340</td>\n",
       "      <td>202603447</td>\n",
       "      <td>0.139051</td>\n",
       "      <td>0.972435</td>\n",
       "      <td>0.390259</td>\n",
       "      <td>-0.782490</td>\n",
       "      <td>-0.237127</td>\n",
       "      <td>0.049354</td>\n",
       "      <td>-0.028194</td>\n",
       "      <td>...</td>\n",
       "      <td>0.438904</td>\n",
       "      <td>0.625876</td>\n",
       "      <td>0.847999</td>\n",
       "      <td>0.139051</td>\n",
       "      <td>-2.565279</td>\n",
       "      <td>0.882152</td>\n",
       "      <td>0.628736</td>\n",
       "      <td>0.876964</td>\n",
       "      <td>-0.248014</td>\n",
       "      <td>-1.240960</td>\n",
       "    </tr>\n",
       "    <tr>\n",
       "      <th>ENSG00000004455</th>\n",
       "      <td>1</td>\n",
       "      <td>33489720</td>\n",
       "      <td>33502469</td>\n",
       "      <td>-3.308728</td>\n",
       "      <td>0.271097</td>\n",
       "      <td>-0.057588</td>\n",
       "      <td>0.008222</td>\n",
       "      <td>-0.926350</td>\n",
       "      <td>-0.392796</td>\n",
       "      <td>-0.411900</td>\n",
       "      <td>...</td>\n",
       "      <td>-0.513917</td>\n",
       "      <td>0.432446</td>\n",
       "      <td>0.094108</td>\n",
       "      <td>-0.074068</td>\n",
       "      <td>-0.662008</td>\n",
       "      <td>-0.966797</td>\n",
       "      <td>0.143797</td>\n",
       "      <td>1.073523</td>\n",
       "      <td>0.482004</td>\n",
       "      <td>-0.049354</td>\n",
       "    </tr>\n",
       "    <tr>\n",
       "      <th>ENSG00000005801</th>\n",
       "      <td>11</td>\n",
       "      <td>3392209</td>\n",
       "      <td>3400384</td>\n",
       "      <td>1.484149</td>\n",
       "      <td>1.786370</td>\n",
       "      <td>-0.450575</td>\n",
       "      <td>-0.896105</td>\n",
       "      <td>0.939052</td>\n",
       "      <td>0.564177</td>\n",
       "      <td>-0.718657</td>\n",
       "      <td>...</td>\n",
       "      <td>-1.574913</td>\n",
       "      <td>-0.215435</td>\n",
       "      <td>0.699026</td>\n",
       "      <td>0.955611</td>\n",
       "      <td>-1.298831</td>\n",
       "      <td>-0.155676</td>\n",
       "      <td>1.810034</td>\n",
       "      <td>-0.566934</td>\n",
       "      <td>0.169959</td>\n",
       "      <td>0.386459</td>\n",
       "    </tr>\n",
       "  </tbody>\n",
       "</table>\n",
       "<p>5 rows × 217 columns</p>\n",
       "</div>"
      ],
      "text/plain": [
       "                 chr      start        end  TCGA-OL-A5RZ  TCGA-C8-A27A  \\\n",
       "gene                                                                     \n",
       "ENSG00000002016   12    1034628    1042224      0.304152     -1.484149   \n",
       "ENSG00000002587    4   11401381   11430221     -0.497897     -2.987616   \n",
       "ENSG00000003393    2  202593340  202603447      0.139051      0.972435   \n",
       "ENSG00000004455    1   33489720   33502469     -3.308728      0.271097   \n",
       "ENSG00000005801   11    3392209    3400384      1.484149      1.786370   \n",
       "\n",
       "                 TCGA-BH-A2L8  TCGA-AR-A5QP  TCGA-E9-A1RE  TCGA-S3-AA0Z  \\\n",
       "gene                                                                      \n",
       "ENSG00000002016     -1.979164      0.122465      0.150922      1.520452   \n",
       "ENSG00000002587     -0.177114      0.614486     -0.628736      1.449702   \n",
       "ENSG00000003393      0.390259     -0.782490     -0.237127      0.049354   \n",
       "ENSG00000004455     -0.057588      0.008222     -0.926350     -0.392796   \n",
       "ENSG00000005801     -0.450575     -0.896105      0.939052      0.564177   \n",
       "\n",
       "                 TCGA-E9-A1R6      ...       TCGA-AC-A3EH  TCGA-A2-A0YD  \\\n",
       "gene                               ...                                    \n",
       "ENSG00000002016      1.003046      ...           0.467542     -0.375093   \n",
       "ENSG00000002587     -0.171151      ...          -1.361413      0.757213   \n",
       "ENSG00000003393     -0.028194      ...           0.438904      0.625876   \n",
       "ENSG00000004455     -0.411900      ...          -0.513917      0.432446   \n",
       "ENSG00000005801     -0.718657      ...          -1.574913     -0.215435   \n",
       "\n",
       "                 TCGA-D8-A1XB  TCGA-E9-A24A  TCGA-E9-A3X8  TCGA-A2-A0EY  \\\n",
       "gene                                                                      \n",
       "ENSG00000002016      0.233504      0.239544     -1.661902      0.699026   \n",
       "ENSG00000002587     -1.301566      0.539556     -1.022664     -0.370057   \n",
       "ENSG00000003393      0.847999      0.139051     -2.565279      0.882152   \n",
       "ENSG00000004455      0.094108     -0.074068     -0.662008     -0.966797   \n",
       "ENSG00000005801      0.699026      0.955611     -1.298831     -0.155676   \n",
       "\n",
       "                 TCGA-A8-A07W  TCGA-D8-A27V  TCGA-A1-A0SI  TCGA-C8-A12T  \n",
       "gene                                                                     \n",
       "ENSG00000002016      0.039948     -0.760346     -1.752647     -0.546362  \n",
       "ENSG00000002587      0.608821     -1.491253      0.524670      0.079959  \n",
       "ENSG00000003393      0.628736      0.876964     -0.248014     -1.240960  \n",
       "ENSG00000004455      0.143797      1.073523      0.482004     -0.049354  \n",
       "ENSG00000005801      1.810034     -0.566934      0.169959      0.386459  \n",
       "\n",
       "[5 rows x 217 columns]"
      ]
     },
     "execution_count": 33,
     "metadata": {},
     "output_type": "execute_result"
    }
   ],
   "source": [
    "# load test expression data subset to contain genes which were predicted\n",
    "filtered_test_expr = pd.read_table('/data/cellardata/users/jlz014/TCGA/expression/TCGA-BRCA.ENSG.chr1-22.median-filt.log2RPKM.qnorm.test.for_predictions.txt', index_col=0)\n",
    "filtered_test_expr.head()"
   ]
  },
  {
   "cell_type": "code",
   "execution_count": 34,
   "metadata": {},
   "outputs": [
    {
     "data": {
      "text/plain": [
       "(1882, 217)"
      ]
     },
     "execution_count": 34,
     "metadata": {},
     "output_type": "execute_result"
    }
   ],
   "source": [
    "filtered_test_expr.shape"
   ]
  },
  {
   "cell_type": "code",
   "execution_count": 23,
   "metadata": {},
   "outputs": [],
   "source": [
    "def score_predictions(gene,expr_table = filtered_test_expr):\n",
    "    predictions_fh = '/cellar/users/jlz014/fusion_twas-master/TCGA-BRCA_normed_weights/prediction_results/'+gene+'.predictions.txt'\n",
    "    predicted = pd.read_table(predictions_fh,header=None, index_col=0)\n",
    "    target_full = expr_table.loc[gene]\n",
    "    # subset target expression to patients in predicted set, in the same order\n",
    "    target_sub = []\n",
    "    for index,row in predicted.iterrows():\n",
    "        target_sub.append(target_full.loc[index])\n",
    "    target_sub=np.array(target_sub)\n",
    "    # compute r2 of prediction\n",
    "    score = r2_score(target_sub, predicted.values) \n",
    "    return score"
   ]
  },
  {
   "cell_type": "code",
   "execution_count": 28,
   "metadata": {},
   "outputs": [],
   "source": [
    "prediction_r2 = list(zip(filtered_test_expr.index, [score_predictions(g) for g in filtered_test_expr.index]))"
   ]
  },
  {
   "cell_type": "code",
   "execution_count": 31,
   "metadata": {},
   "outputs": [
    {
     "data": {
      "text/html": [
       "<div>\n",
       "<style scoped>\n",
       "    .dataframe tbody tr th:only-of-type {\n",
       "        vertical-align: middle;\n",
       "    }\n",
       "\n",
       "    .dataframe tbody tr th {\n",
       "        vertical-align: top;\n",
       "    }\n",
       "\n",
       "    .dataframe thead th {\n",
       "        text-align: right;\n",
       "    }\n",
       "</style>\n",
       "<table border=\"1\" class=\"dataframe\">\n",
       "  <thead>\n",
       "    <tr style=\"text-align: right;\">\n",
       "      <th></th>\n",
       "      <th>0</th>\n",
       "      <th>1</th>\n",
       "    </tr>\n",
       "  </thead>\n",
       "  <tbody>\n",
       "    <tr>\n",
       "      <th>0</th>\n",
       "      <td>ENSG00000002016</td>\n",
       "      <td>0.030352</td>\n",
       "    </tr>\n",
       "    <tr>\n",
       "      <th>1</th>\n",
       "      <td>ENSG00000002587</td>\n",
       "      <td>0.004744</td>\n",
       "    </tr>\n",
       "    <tr>\n",
       "      <th>2</th>\n",
       "      <td>ENSG00000003393</td>\n",
       "      <td>-0.024895</td>\n",
       "    </tr>\n",
       "    <tr>\n",
       "      <th>3</th>\n",
       "      <td>ENSG00000004455</td>\n",
       "      <td>0.002800</td>\n",
       "    </tr>\n",
       "    <tr>\n",
       "      <th>4</th>\n",
       "      <td>ENSG00000005801</td>\n",
       "      <td>0.004989</td>\n",
       "    </tr>\n",
       "  </tbody>\n",
       "</table>\n",
       "</div>"
      ],
      "text/plain": [
       "                 0         1\n",
       "0  ENSG00000002016  0.030352\n",
       "1  ENSG00000002587  0.004744\n",
       "2  ENSG00000003393 -0.024895\n",
       "3  ENSG00000004455  0.002800\n",
       "4  ENSG00000005801  0.004989"
      ]
     },
     "execution_count": 31,
     "metadata": {},
     "output_type": "execute_result"
    }
   ],
   "source": [
    "out_df = pd.DataFrame(prediction_r2)\n",
    "out_df.to_csv('tcga-brca_prediction_r2.txt',sep='\\t',header=False, index=False)"
   ]
  },
  {
   "cell_type": "markdown",
   "metadata": {},
   "source": [
    "# Plot distribution of output"
   ]
  },
  {
   "cell_type": "code",
   "execution_count": 3,
   "metadata": {},
   "outputs": [
    {
     "data": {
      "text/html": [
       "<div>\n",
       "<style scoped>\n",
       "    .dataframe tbody tr th:only-of-type {\n",
       "        vertical-align: middle;\n",
       "    }\n",
       "\n",
       "    .dataframe tbody tr th {\n",
       "        vertical-align: top;\n",
       "    }\n",
       "\n",
       "    .dataframe thead th {\n",
       "        text-align: right;\n",
       "    }\n",
       "</style>\n",
       "<table border=\"1\" class=\"dataframe\">\n",
       "  <thead>\n",
       "    <tr style=\"text-align: right;\">\n",
       "      <th></th>\n",
       "      <th>1</th>\n",
       "    </tr>\n",
       "    <tr>\n",
       "      <th>0</th>\n",
       "      <th></th>\n",
       "    </tr>\n",
       "  </thead>\n",
       "  <tbody>\n",
       "    <tr>\n",
       "      <th>ENSG00000002016</th>\n",
       "      <td>0.030352</td>\n",
       "    </tr>\n",
       "    <tr>\n",
       "      <th>ENSG00000002587</th>\n",
       "      <td>0.004744</td>\n",
       "    </tr>\n",
       "    <tr>\n",
       "      <th>ENSG00000003393</th>\n",
       "      <td>-0.024895</td>\n",
       "    </tr>\n",
       "    <tr>\n",
       "      <th>ENSG00000004455</th>\n",
       "      <td>0.002800</td>\n",
       "    </tr>\n",
       "    <tr>\n",
       "      <th>ENSG00000005801</th>\n",
       "      <td>0.004989</td>\n",
       "    </tr>\n",
       "  </tbody>\n",
       "</table>\n",
       "</div>"
      ],
      "text/plain": [
       "                        1\n",
       "0                        \n",
       "ENSG00000002016  0.030352\n",
       "ENSG00000002587  0.004744\n",
       "ENSG00000003393 -0.024895\n",
       "ENSG00000004455  0.002800\n",
       "ENSG00000005801  0.004989"
      ]
     },
     "execution_count": 3,
     "metadata": {},
     "output_type": "execute_result"
    }
   ],
   "source": [
    "all_r2 = pd.read_table('tcga-brca_prediction_r2.txt',header=None,index_col=0)\n",
    "all_r2.head()"
   ]
  },
  {
   "cell_type": "code",
   "execution_count": 32,
   "metadata": {},
   "outputs": [
    {
     "data": {
      "image/png": "[encoded data removed]",
      "text/plain": [
       "<matplotlib.figure.Figure at 0x7ff1f6629898>"
      ]
     },
     "metadata": {},
     "output_type": "display_data"
    }
   ],
   "source": [
    "plt.figure(figsize=(12,10))\n",
    "plt.hist(all_r2.values, bins=50)\n",
    "plt.axvline(x=0.01,c='red')\n",
    "plt.title(\"Distribution of prediction $r^2$\")\n",
    "plt.savefig('distr_of_tcga-brca_prediction_r2.png')"
   ]
  },
  {
   "cell_type": "code",
   "execution_count": 28,
   "metadata": {},
   "outputs": [
    {
     "data": {
      "text/plain": [
       "Text(0.5,1,'Distribution of prediction $r^2$')"
      ]
     },
     "execution_count": 28,
     "metadata": {},
     "output_type": "execute_result"
    },
    {
     "data": {
      "image/png": "[encoded data removed]",
      "text/plain": [
       "<matplotlib.figure.Figure at 0x7ff1f8aac470>"
      ]
     },
     "metadata": {},
     "output_type": "display_data"
    }
   ],
   "source": [
    "plt.hist(sorted(all_r2.iloc[:,0].values)[2:],bins=50)\n",
    "plt.axvline(x=0.01,c='red')\n",
    "plt.title(\"Distribution of prediction $r^2$\")"
   ]
  },
  {
   "cell_type": "code",
   "execution_count": null,
   "metadata": {},
   "outputs": [],
   "source": []
  }
 ],
 "metadata": {
  "kernelspec": {
   "display_name": "Python 3",
   "language": "python",
   "name": "python3"
  },
  "language_info": {
   "codemirror_mode": {
    "name": "ipython",
    "version": 3
   },
   "file_extension": ".py",
   "mimetype": "text/x-python",
   "name": "python",
   "nbconvert_exporter": "python",
   "pygments_lexer": "ipython3",
   "version": "3.6.4"
  }
 },
 "nbformat": 4,
 "nbformat_minor": 2
}
