{
 "cells": [
  {
   "cell_type": "code",
   "execution_count": 1,
   "metadata": {},
   "outputs": [],
   "source": [
    "suppressMessages(library(dplyr))\n",
    "suppressMessages(library('glmnet'))\n",
    "suppressMessages(library(data.table))\n",
    "suppressMessages(library('plink2R'))"
   ]
  },
  {
   "cell_type": "code",
   "execution_count": 2,
   "metadata": {},
   "outputs": [],
   "source": [
    "MODELS_DIR <- '/cellar/users/jlz014/fusion_twas-master/TCGA-BRCA_normed_weights/EUR'\n",
    "TMP_DIR <- '/cellar/users/jlz014/fusion_twas-master/tmp/TCGA_BRCA_EUR_imputed_females_filtered'"
   ]
  },
  {
   "cell_type": "code",
   "execution_count": 3,
   "metadata": {},
   "outputs": [],
   "source": [
    "models_files <- Sys.glob(file.path(MODELS_DIR,'*.RDat'))\n",
    "tmp_bedfiles <- Sys.glob(file.path(TMP_DIR,'*tmp.bed'))\n",
    "plink_base <- c(lapply(tmp_bedfiles, function(x) substr(x, 1, nchar(x)-4)))"
   ]
  },
  {
   "cell_type": "code",
   "execution_count": 4,
   "metadata": {},
   "outputs": [],
   "source": [
    "# LUT for paths to weights and plink files for test set\n",
    "files_lut <- fread('tcga-brca_enet_models_files_test_patients.txt',col.names=c('ensg','weights','plink'))"
   ]
  },
  {
   "cell_type": "markdown",
   "metadata": {},
   "source": [
    "# Parse file to read in to bash script"
   ]
  },
  {
   "cell_type": "code",
   "execution_count": 5,
   "metadata": {},
   "outputs": [],
   "source": [
    "significant_models <- read.table('tcga-brca_enet_models_significant_qval_with_gene_names.txt',header=T)"
   ]
  },
  {
   "cell_type": "code",
   "execution_count": 6,
   "metadata": {},
   "outputs": [
    {
     "data": {
      "text/html": [
       "<table>\n",
       "<thead><tr><th scope=col>ensg</th><th scope=col>weights</th><th scope=col>plink</th></tr></thead>\n",
       "<tbody>\n",
       "\t<tr><td>ENSG00000149084                                                                                                                                                         </td><td>/cellar/users/jlz014/fusion_twas-master/TCGA-BRCA_normed_weights/EUR/EUR.ENSG00000149084.wgt.RDat                                                                       </td><td>/cellar/users/jlz014/fusion_twas-master/TCGA-BRCA_normed_weights/brca_test_patients_tmp_plink/TCGA-BRCA.ENSG.chr1-22.median-filt.log2RPKM.qnorm.test.txt.ENSG00000149084</td></tr>\n",
       "\t<tr><td>ENSG00000128039                                                                                                                                                         </td><td>/cellar/users/jlz014/fusion_twas-master/TCGA-BRCA_normed_weights/EUR/EUR.ENSG00000128039.wgt.RDat                                                                       </td><td>/cellar/users/jlz014/fusion_twas-master/TCGA-BRCA_normed_weights/brca_test_patients_tmp_plink/TCGA-BRCA.ENSG.chr1-22.median-filt.log2RPKM.qnorm.test.txt.ENSG00000128039</td></tr>\n",
       "\t<tr><td>ENSG00000065308                                                                                                                                                         </td><td>/cellar/users/jlz014/fusion_twas-master/TCGA-BRCA_normed_weights/EUR/EUR.ENSG00000065308.wgt.RDat                                                                       </td><td>/cellar/users/jlz014/fusion_twas-master/TCGA-BRCA_normed_weights/brca_test_patients_tmp_plink/TCGA-BRCA.ENSG.chr1-22.median-filt.log2RPKM.qnorm.test.txt.ENSG00000065308</td></tr>\n",
       "\t<tr><td>ENSG00000184743                                                                                                                                                         </td><td>/cellar/users/jlz014/fusion_twas-master/TCGA-BRCA_normed_weights/EUR/EUR.ENSG00000184743.wgt.RDat                                                                       </td><td>/cellar/users/jlz014/fusion_twas-master/TCGA-BRCA_normed_weights/brca_test_patients_tmp_plink/TCGA-BRCA.ENSG.chr1-22.median-filt.log2RPKM.qnorm.test.txt.ENSG00000184743</td></tr>\n",
       "\t<tr><td>ENSG00000143256                                                                                                                                                         </td><td>/cellar/users/jlz014/fusion_twas-master/TCGA-BRCA_normed_weights/EUR/EUR.ENSG00000143256.wgt.RDat                                                                       </td><td>/cellar/users/jlz014/fusion_twas-master/TCGA-BRCA_normed_weights/brca_test_patients_tmp_plink/TCGA-BRCA.ENSG.chr1-22.median-filt.log2RPKM.qnorm.test.txt.ENSG00000143256</td></tr>\n",
       "\t<tr><td>ENSG00000114544                                                                                                                                                         </td><td>/cellar/users/jlz014/fusion_twas-master/TCGA-BRCA_normed_weights/EUR/EUR.ENSG00000114544.wgt.RDat                                                                       </td><td>/cellar/users/jlz014/fusion_twas-master/TCGA-BRCA_normed_weights/brca_test_patients_tmp_plink/TCGA-BRCA.ENSG.chr1-22.median-filt.log2RPKM.qnorm.test.txt.ENSG00000114544</td></tr>\n",
       "</tbody>\n",
       "</table>\n"
      ],
      "text/latex": [
       "\\begin{tabular}{r|lll}\n",
       " ensg & weights & plink\\\\\n",
       "\\hline\n",
       "\t ENSG00000149084                                                                                                                                                                        & /cellar/users/jlz014/fusion\\_twas-master/TCGA-BRCA\\_normed\\_weights/EUR/EUR.ENSG00000149084.wgt.RDat                                                                                & /cellar/users/jlz014/fusion\\_twas-master/TCGA-BRCA\\_normed\\_weights/brca\\_test\\_patients\\_tmp\\_plink/TCGA-BRCA.ENSG.chr1-22.median-filt.log2RPKM.qnorm.test.txt.ENSG00000149084\\\\\n",
       "\t ENSG00000128039                                                                                                                                                                        & /cellar/users/jlz014/fusion\\_twas-master/TCGA-BRCA\\_normed\\_weights/EUR/EUR.ENSG00000128039.wgt.RDat                                                                                & /cellar/users/jlz014/fusion\\_twas-master/TCGA-BRCA\\_normed\\_weights/brca\\_test\\_patients\\_tmp\\_plink/TCGA-BRCA.ENSG.chr1-22.median-filt.log2RPKM.qnorm.test.txt.ENSG00000128039\\\\\n",
       "\t ENSG00000065308                                                                                                                                                                        & /cellar/users/jlz014/fusion\\_twas-master/TCGA-BRCA\\_normed\\_weights/EUR/EUR.ENSG00000065308.wgt.RDat                                                                                & /cellar/users/jlz014/fusion\\_twas-master/TCGA-BRCA\\_normed\\_weights/brca\\_test\\_patients\\_tmp\\_plink/TCGA-BRCA.ENSG.chr1-22.median-filt.log2RPKM.qnorm.test.txt.ENSG00000065308\\\\\n",
       "\t ENSG00000184743                                                                                                                                                                        & /cellar/users/jlz014/fusion\\_twas-master/TCGA-BRCA\\_normed\\_weights/EUR/EUR.ENSG00000184743.wgt.RDat                                                                                & /cellar/users/jlz014/fusion\\_twas-master/TCGA-BRCA\\_normed\\_weights/brca\\_test\\_patients\\_tmp\\_plink/TCGA-BRCA.ENSG.chr1-22.median-filt.log2RPKM.qnorm.test.txt.ENSG00000184743\\\\\n",
       "\t ENSG00000143256                                                                                                                                                                        & /cellar/users/jlz014/fusion\\_twas-master/TCGA-BRCA\\_normed\\_weights/EUR/EUR.ENSG00000143256.wgt.RDat                                                                                & /cellar/users/jlz014/fusion\\_twas-master/TCGA-BRCA\\_normed\\_weights/brca\\_test\\_patients\\_tmp\\_plink/TCGA-BRCA.ENSG.chr1-22.median-filt.log2RPKM.qnorm.test.txt.ENSG00000143256\\\\\n",
       "\t ENSG00000114544                                                                                                                                                                        & /cellar/users/jlz014/fusion\\_twas-master/TCGA-BRCA\\_normed\\_weights/EUR/EUR.ENSG00000114544.wgt.RDat                                                                                & /cellar/users/jlz014/fusion\\_twas-master/TCGA-BRCA\\_normed\\_weights/brca\\_test\\_patients\\_tmp\\_plink/TCGA-BRCA.ENSG.chr1-22.median-filt.log2RPKM.qnorm.test.txt.ENSG00000114544\\\\\n",
       "\\end{tabular}\n"
      ],
      "text/markdown": [
       "\n",
       "ensg | weights | plink | \n",
       "|---|---|---|---|---|---|\n",
       "| ENSG00000149084                                                                                                                                                          | /cellar/users/jlz014/fusion_twas-master/TCGA-BRCA_normed_weights/EUR/EUR.ENSG00000149084.wgt.RDat                                                                        | /cellar/users/jlz014/fusion_twas-master/TCGA-BRCA_normed_weights/brca_test_patients_tmp_plink/TCGA-BRCA.ENSG.chr1-22.median-filt.log2RPKM.qnorm.test.txt.ENSG00000149084 | \n",
       "| ENSG00000128039                                                                                                                                                          | /cellar/users/jlz014/fusion_twas-master/TCGA-BRCA_normed_weights/EUR/EUR.ENSG00000128039.wgt.RDat                                                                        | /cellar/users/jlz014/fusion_twas-master/TCGA-BRCA_normed_weights/brca_test_patients_tmp_plink/TCGA-BRCA.ENSG.chr1-22.median-filt.log2RPKM.qnorm.test.txt.ENSG00000128039 | \n",
       "| ENSG00000065308                                                                                                                                                          | /cellar/users/jlz014/fusion_twas-master/TCGA-BRCA_normed_weights/EUR/EUR.ENSG00000065308.wgt.RDat                                                                        | /cellar/users/jlz014/fusion_twas-master/TCGA-BRCA_normed_weights/brca_test_patients_tmp_plink/TCGA-BRCA.ENSG.chr1-22.median-filt.log2RPKM.qnorm.test.txt.ENSG00000065308 | \n",
       "| ENSG00000184743                                                                                                                                                          | /cellar/users/jlz014/fusion_twas-master/TCGA-BRCA_normed_weights/EUR/EUR.ENSG00000184743.wgt.RDat                                                                        | /cellar/users/jlz014/fusion_twas-master/TCGA-BRCA_normed_weights/brca_test_patients_tmp_plink/TCGA-BRCA.ENSG.chr1-22.median-filt.log2RPKM.qnorm.test.txt.ENSG00000184743 | \n",
       "| ENSG00000143256                                                                                                                                                          | /cellar/users/jlz014/fusion_twas-master/TCGA-BRCA_normed_weights/EUR/EUR.ENSG00000143256.wgt.RDat                                                                        | /cellar/users/jlz014/fusion_twas-master/TCGA-BRCA_normed_weights/brca_test_patients_tmp_plink/TCGA-BRCA.ENSG.chr1-22.median-filt.log2RPKM.qnorm.test.txt.ENSG00000143256 | \n",
       "| ENSG00000114544                                                                                                                                                          | /cellar/users/jlz014/fusion_twas-master/TCGA-BRCA_normed_weights/EUR/EUR.ENSG00000114544.wgt.RDat                                                                        | /cellar/users/jlz014/fusion_twas-master/TCGA-BRCA_normed_weights/brca_test_patients_tmp_plink/TCGA-BRCA.ENSG.chr1-22.median-filt.log2RPKM.qnorm.test.txt.ENSG00000114544 | \n",
       "\n",
       "\n"
      ],
      "text/plain": [
       "  ensg           \n",
       "1 ENSG00000149084\n",
       "2 ENSG00000128039\n",
       "3 ENSG00000065308\n",
       "4 ENSG00000184743\n",
       "5 ENSG00000143256\n",
       "6 ENSG00000114544\n",
       "  weights                                                                                          \n",
       "1 /cellar/users/jlz014/fusion_twas-master/TCGA-BRCA_normed_weights/EUR/EUR.ENSG00000149084.wgt.RDat\n",
       "2 /cellar/users/jlz014/fusion_twas-master/TCGA-BRCA_normed_weights/EUR/EUR.ENSG00000128039.wgt.RDat\n",
       "3 /cellar/users/jlz014/fusion_twas-master/TCGA-BRCA_normed_weights/EUR/EUR.ENSG00000065308.wgt.RDat\n",
       "4 /cellar/users/jlz014/fusion_twas-master/TCGA-BRCA_normed_weights/EUR/EUR.ENSG00000184743.wgt.RDat\n",
       "5 /cellar/users/jlz014/fusion_twas-master/TCGA-BRCA_normed_weights/EUR/EUR.ENSG00000143256.wgt.RDat\n",
       "6 /cellar/users/jlz014/fusion_twas-master/TCGA-BRCA_normed_weights/EUR/EUR.ENSG00000114544.wgt.RDat\n",
       "  plink                                                                                                                                                                   \n",
       "1 /cellar/users/jlz014/fusion_twas-master/TCGA-BRCA_normed_weights/brca_test_patients_tmp_plink/TCGA-BRCA.ENSG.chr1-22.median-filt.log2RPKM.qnorm.test.txt.ENSG00000149084\n",
       "2 /cellar/users/jlz014/fusion_twas-master/TCGA-BRCA_normed_weights/brca_test_patients_tmp_plink/TCGA-BRCA.ENSG.chr1-22.median-filt.log2RPKM.qnorm.test.txt.ENSG00000128039\n",
       "3 /cellar/users/jlz014/fusion_twas-master/TCGA-BRCA_normed_weights/brca_test_patients_tmp_plink/TCGA-BRCA.ENSG.chr1-22.median-filt.log2RPKM.qnorm.test.txt.ENSG00000065308\n",
       "4 /cellar/users/jlz014/fusion_twas-master/TCGA-BRCA_normed_weights/brca_test_patients_tmp_plink/TCGA-BRCA.ENSG.chr1-22.median-filt.log2RPKM.qnorm.test.txt.ENSG00000184743\n",
       "5 /cellar/users/jlz014/fusion_twas-master/TCGA-BRCA_normed_weights/brca_test_patients_tmp_plink/TCGA-BRCA.ENSG.chr1-22.median-filt.log2RPKM.qnorm.test.txt.ENSG00000143256\n",
       "6 /cellar/users/jlz014/fusion_twas-master/TCGA-BRCA_normed_weights/brca_test_patients_tmp_plink/TCGA-BRCA.ENSG.chr1-22.median-filt.log2RPKM.qnorm.test.txt.ENSG00000114544"
      ]
     },
     "metadata": {},
     "output_type": "display_data"
    }
   ],
   "source": [
    "# subset LUT to genes with significant models\n",
    "sub_lut <- filter(files_lut, ensg %in% significant_models$ensg)\n",
    "head(sub_lut)"
   ]
  },
  {
   "cell_type": "code",
   "execution_count": 9,
   "metadata": {},
   "outputs": [
    {
     "data": {
      "text/html": [
       "<table>\n",
       "<thead><tr><th></th><th scope=col>ensg</th><th scope=col>weights</th><th scope=col>plink</th></tr></thead>\n",
       "<tbody>\n",
       "\t<tr><th scope=row>1450</th><td>ENSG00000214617                                                                                                                                                         </td><td>/cellar/users/jlz014/fusion_twas-master/TCGA-BRCA_normed_weights/EUR/EUR.ENSG00000214617.wgt.RDat                                                                       </td><td>/cellar/users/jlz014/fusion_twas-master/TCGA-BRCA_normed_weights/brca_test_patients_tmp_plink/TCGA-BRCA.ENSG.chr1-22.median-filt.log2RPKM.qnorm.test.txt.ENSG00000214617</td></tr>\n",
       "\t<tr><th scope=row>1451</th><td>ENSG00000134061                                                                                                                                                         </td><td>/cellar/users/jlz014/fusion_twas-master/TCGA-BRCA_normed_weights/EUR/EUR.ENSG00000134061.wgt.RDat                                                                       </td><td>/cellar/users/jlz014/fusion_twas-master/TCGA-BRCA_normed_weights/brca_test_patients_tmp_plink/TCGA-BRCA.ENSG.chr1-22.median-filt.log2RPKM.qnorm.test.txt.ENSG00000134061</td></tr>\n",
       "\t<tr><th scope=row>1452</th><td>ENSG00000180155                                                                                                                                                         </td><td>/cellar/users/jlz014/fusion_twas-master/TCGA-BRCA_normed_weights/EUR/EUR.ENSG00000180155.wgt.RDat                                                                       </td><td>/cellar/users/jlz014/fusion_twas-master/TCGA-BRCA_normed_weights/brca_test_patients_tmp_plink/TCGA-BRCA.ENSG.chr1-22.median-filt.log2RPKM.qnorm.test.txt.ENSG00000180155</td></tr>\n",
       "\t<tr><th scope=row>1453</th><td>ENSG00000092094                                                                                                                                                         </td><td>/cellar/users/jlz014/fusion_twas-master/TCGA-BRCA_normed_weights/EUR/EUR.ENSG00000092094.wgt.RDat                                                                       </td><td>/cellar/users/jlz014/fusion_twas-master/TCGA-BRCA_normed_weights/brca_test_patients_tmp_plink/TCGA-BRCA.ENSG.chr1-22.median-filt.log2RPKM.qnorm.test.txt.ENSG00000092094</td></tr>\n",
       "\t<tr><th scope=row>1454</th><td>ENSG00000144596                                                                                                                                                         </td><td>/cellar/users/jlz014/fusion_twas-master/TCGA-BRCA_normed_weights/EUR/EUR.ENSG00000144596.wgt.RDat                                                                       </td><td>/cellar/users/jlz014/fusion_twas-master/TCGA-BRCA_normed_weights/brca_test_patients_tmp_plink/TCGA-BRCA.ENSG.chr1-22.median-filt.log2RPKM.qnorm.test.txt.ENSG00000144596</td></tr>\n",
       "\t<tr><th scope=row>1455</th><td>ENSG00000215124                                                                                                                                                         </td><td>/cellar/users/jlz014/fusion_twas-master/TCGA-BRCA_normed_weights/EUR/EUR.ENSG00000215124.wgt.RDat                                                                       </td><td>/cellar/users/jlz014/fusion_twas-master/TCGA-BRCA_normed_weights/brca_test_patients_tmp_plink/TCGA-BRCA.ENSG.chr1-22.median-filt.log2RPKM.qnorm.test.txt.ENSG00000215124</td></tr>\n",
       "</tbody>\n",
       "</table>\n"
      ],
      "text/latex": [
       "\\begin{tabular}{r|lll}\n",
       "  & ensg & weights & plink\\\\\n",
       "\\hline\n",
       "\t1450 & ENSG00000214617                                                                                                                                                                        & /cellar/users/jlz014/fusion\\_twas-master/TCGA-BRCA\\_normed\\_weights/EUR/EUR.ENSG00000214617.wgt.RDat                                                                                & /cellar/users/jlz014/fusion\\_twas-master/TCGA-BRCA\\_normed\\_weights/brca\\_test\\_patients\\_tmp\\_plink/TCGA-BRCA.ENSG.chr1-22.median-filt.log2RPKM.qnorm.test.txt.ENSG00000214617\\\\\n",
       "\t1451 & ENSG00000134061                                                                                                                                                                        & /cellar/users/jlz014/fusion\\_twas-master/TCGA-BRCA\\_normed\\_weights/EUR/EUR.ENSG00000134061.wgt.RDat                                                                                & /cellar/users/jlz014/fusion\\_twas-master/TCGA-BRCA\\_normed\\_weights/brca\\_test\\_patients\\_tmp\\_plink/TCGA-BRCA.ENSG.chr1-22.median-filt.log2RPKM.qnorm.test.txt.ENSG00000134061\\\\\n",
       "\t1452 & ENSG00000180155                                                                                                                                                                        & /cellar/users/jlz014/fusion\\_twas-master/TCGA-BRCA\\_normed\\_weights/EUR/EUR.ENSG00000180155.wgt.RDat                                                                                & /cellar/users/jlz014/fusion\\_twas-master/TCGA-BRCA\\_normed\\_weights/brca\\_test\\_patients\\_tmp\\_plink/TCGA-BRCA.ENSG.chr1-22.median-filt.log2RPKM.qnorm.test.txt.ENSG00000180155\\\\\n",
       "\t1453 & ENSG00000092094                                                                                                                                                                        & /cellar/users/jlz014/fusion\\_twas-master/TCGA-BRCA\\_normed\\_weights/EUR/EUR.ENSG00000092094.wgt.RDat                                                                                & /cellar/users/jlz014/fusion\\_twas-master/TCGA-BRCA\\_normed\\_weights/brca\\_test\\_patients\\_tmp\\_plink/TCGA-BRCA.ENSG.chr1-22.median-filt.log2RPKM.qnorm.test.txt.ENSG00000092094\\\\\n",
       "\t1454 & ENSG00000144596                                                                                                                                                                        & /cellar/users/jlz014/fusion\\_twas-master/TCGA-BRCA\\_normed\\_weights/EUR/EUR.ENSG00000144596.wgt.RDat                                                                                & /cellar/users/jlz014/fusion\\_twas-master/TCGA-BRCA\\_normed\\_weights/brca\\_test\\_patients\\_tmp\\_plink/TCGA-BRCA.ENSG.chr1-22.median-filt.log2RPKM.qnorm.test.txt.ENSG00000144596\\\\\n",
       "\t1455 & ENSG00000215124                                                                                                                                                                        & /cellar/users/jlz014/fusion\\_twas-master/TCGA-BRCA\\_normed\\_weights/EUR/EUR.ENSG00000215124.wgt.RDat                                                                                & /cellar/users/jlz014/fusion\\_twas-master/TCGA-BRCA\\_normed\\_weights/brca\\_test\\_patients\\_tmp\\_plink/TCGA-BRCA.ENSG.chr1-22.median-filt.log2RPKM.qnorm.test.txt.ENSG00000215124\\\\\n",
       "\\end{tabular}\n"
      ],
      "text/markdown": [
       "\n",
       "| <!--/--> | ensg | weights | plink | \n",
       "|---|---|---|---|---|---|\n",
       "| 1450 | ENSG00000214617                                                                                                                                                          | /cellar/users/jlz014/fusion_twas-master/TCGA-BRCA_normed_weights/EUR/EUR.ENSG00000214617.wgt.RDat                                                                        | /cellar/users/jlz014/fusion_twas-master/TCGA-BRCA_normed_weights/brca_test_patients_tmp_plink/TCGA-BRCA.ENSG.chr1-22.median-filt.log2RPKM.qnorm.test.txt.ENSG00000214617 | \n",
       "| 1451 | ENSG00000134061                                                                                                                                                          | /cellar/users/jlz014/fusion_twas-master/TCGA-BRCA_normed_weights/EUR/EUR.ENSG00000134061.wgt.RDat                                                                        | /cellar/users/jlz014/fusion_twas-master/TCGA-BRCA_normed_weights/brca_test_patients_tmp_plink/TCGA-BRCA.ENSG.chr1-22.median-filt.log2RPKM.qnorm.test.txt.ENSG00000134061 | \n",
       "| 1452 | ENSG00000180155                                                                                                                                                          | /cellar/users/jlz014/fusion_twas-master/TCGA-BRCA_normed_weights/EUR/EUR.ENSG00000180155.wgt.RDat                                                                        | /cellar/users/jlz014/fusion_twas-master/TCGA-BRCA_normed_weights/brca_test_patients_tmp_plink/TCGA-BRCA.ENSG.chr1-22.median-filt.log2RPKM.qnorm.test.txt.ENSG00000180155 | \n",
       "| 1453 | ENSG00000092094                                                                                                                                                          | /cellar/users/jlz014/fusion_twas-master/TCGA-BRCA_normed_weights/EUR/EUR.ENSG00000092094.wgt.RDat                                                                        | /cellar/users/jlz014/fusion_twas-master/TCGA-BRCA_normed_weights/brca_test_patients_tmp_plink/TCGA-BRCA.ENSG.chr1-22.median-filt.log2RPKM.qnorm.test.txt.ENSG00000092094 | \n",
       "| 1454 | ENSG00000144596                                                                                                                                                          | /cellar/users/jlz014/fusion_twas-master/TCGA-BRCA_normed_weights/EUR/EUR.ENSG00000144596.wgt.RDat                                                                        | /cellar/users/jlz014/fusion_twas-master/TCGA-BRCA_normed_weights/brca_test_patients_tmp_plink/TCGA-BRCA.ENSG.chr1-22.median-filt.log2RPKM.qnorm.test.txt.ENSG00000144596 | \n",
       "| 1455 | ENSG00000215124                                                                                                                                                          | /cellar/users/jlz014/fusion_twas-master/TCGA-BRCA_normed_weights/EUR/EUR.ENSG00000215124.wgt.RDat                                                                        | /cellar/users/jlz014/fusion_twas-master/TCGA-BRCA_normed_weights/brca_test_patients_tmp_plink/TCGA-BRCA.ENSG.chr1-22.median-filt.log2RPKM.qnorm.test.txt.ENSG00000215124 | \n",
       "\n",
       "\n"
      ],
      "text/plain": [
       "     ensg           \n",
       "1450 ENSG00000214617\n",
       "1451 ENSG00000134061\n",
       "1452 ENSG00000180155\n",
       "1453 ENSG00000092094\n",
       "1454 ENSG00000144596\n",
       "1455 ENSG00000215124\n",
       "     weights                                                                                          \n",
       "1450 /cellar/users/jlz014/fusion_twas-master/TCGA-BRCA_normed_weights/EUR/EUR.ENSG00000214617.wgt.RDat\n",
       "1451 /cellar/users/jlz014/fusion_twas-master/TCGA-BRCA_normed_weights/EUR/EUR.ENSG00000134061.wgt.RDat\n",
       "1452 /cellar/users/jlz014/fusion_twas-master/TCGA-BRCA_normed_weights/EUR/EUR.ENSG00000180155.wgt.RDat\n",
       "1453 /cellar/users/jlz014/fusion_twas-master/TCGA-BRCA_normed_weights/EUR/EUR.ENSG00000092094.wgt.RDat\n",
       "1454 /cellar/users/jlz014/fusion_twas-master/TCGA-BRCA_normed_weights/EUR/EUR.ENSG00000144596.wgt.RDat\n",
       "1455 /cellar/users/jlz014/fusion_twas-master/TCGA-BRCA_normed_weights/EUR/EUR.ENSG00000215124.wgt.RDat\n",
       "     plink                                                                                                                                                                   \n",
       "1450 /cellar/users/jlz014/fusion_twas-master/TCGA-BRCA_normed_weights/brca_test_patients_tmp_plink/TCGA-BRCA.ENSG.chr1-22.median-filt.log2RPKM.qnorm.test.txt.ENSG00000214617\n",
       "1451 /cellar/users/jlz014/fusion_twas-master/TCGA-BRCA_normed_weights/brca_test_patients_tmp_plink/TCGA-BRCA.ENSG.chr1-22.median-filt.log2RPKM.qnorm.test.txt.ENSG00000134061\n",
       "1452 /cellar/users/jlz014/fusion_twas-master/TCGA-BRCA_normed_weights/brca_test_patients_tmp_plink/TCGA-BRCA.ENSG.chr1-22.median-filt.log2RPKM.qnorm.test.txt.ENSG00000180155\n",
       "1453 /cellar/users/jlz014/fusion_twas-master/TCGA-BRCA_normed_weights/brca_test_patients_tmp_plink/TCGA-BRCA.ENSG.chr1-22.median-filt.log2RPKM.qnorm.test.txt.ENSG00000092094\n",
       "1454 /cellar/users/jlz014/fusion_twas-master/TCGA-BRCA_normed_weights/brca_test_patients_tmp_plink/TCGA-BRCA.ENSG.chr1-22.median-filt.log2RPKM.qnorm.test.txt.ENSG00000144596\n",
       "1455 /cellar/users/jlz014/fusion_twas-master/TCGA-BRCA_normed_weights/brca_test_patients_tmp_plink/TCGA-BRCA.ENSG.chr1-22.median-filt.log2RPKM.qnorm.test.txt.ENSG00000215124"
      ]
     },
     "metadata": {},
     "output_type": "display_data"
    }
   ],
   "source": [
    "tail(sub_lut)"
   ]
  },
  {
   "cell_type": "code",
   "execution_count": 8,
   "metadata": {},
   "outputs": [],
   "source": [
    "write.table(sub_lut, file='tcga-brca_enet_models_files_test_patients_significant_models.txt',quote=F, row.names=F, sep='\\t')"
   ]
  },
  {
   "cell_type": "markdown",
   "metadata": {},
   "source": [
    "# Test prediction"
   ]
  },
  {
   "cell_type": "code",
   "execution_count": null,
   "metadata": {},
   "outputs": [],
   "source": [
    "# test on ENSG00000204310\n",
    "test_gene <- 'ENSG00000204310'\n",
    "files <- files_lut[which(files_lut$ensg==test_gene),]\n",
    "files"
   ]
  },
  {
   "cell_type": "code",
   "execution_count": null,
   "metadata": {},
   "outputs": [],
   "source": [
    "load(files$weights,verbose=T)\n",
    "head(wgt.matrix)"
   ]
  },
  {
   "cell_type": "code",
   "execution_count": null,
   "metadata": {},
   "outputs": [],
   "source": [
    "# load expression data for test set\n",
    "test_expr <- fread('/data/cellardata/users/jlz014/TCGA/expression/TCGA-BRCA.ENSG.chr1-22.median-filt.log2RPKM.qnorm.test.txt')"
   ]
  },
  {
   "cell_type": "code",
   "execution_count": null,
   "metadata": {},
   "outputs": [],
   "source": [
    "# get list of all patients in test set\n",
    "test_patients <- colnames(test_expr)[-c(1:4)]"
   ]
  },
  {
   "cell_type": "code",
   "execution_count": null,
   "metadata": {},
   "outputs": [],
   "source": [
    "# print row corresponding to test gene\n",
    "test_row <- test_expr[which(test_expr$gene==test_gene),]\n",
    "test_row"
   ]
  },
  {
   "cell_type": "code",
   "execution_count": null,
   "metadata": {},
   "outputs": [],
   "source": [
    "# read plink files for test_gene\n",
    "genos <- read_plink('/cellar/users/jlz014/fusion_twas-master/TCGA-BRCA_normed_weights/brca_test_patients_tmp_plink/1_10/TCGA-BRCA.ENSG.chr1-22.median-filt.log2RPKM.qnorm.test.txt.ENSG00000204310', impute='avg')\n",
    "rownames(genos$bed) <- sapply(rownames(genos$bed), function(x) unlist(strsplit(x,':'))[1])"
   ]
  },
  {
   "cell_type": "code",
   "execution_count": null,
   "metadata": {},
   "outputs": [],
   "source": [
    "test_out <- t(t(genos$bed) * wgt.matrix[, 'enet'])"
   ]
  },
  {
   "cell_type": "code",
   "execution_count": null,
   "metadata": {},
   "outputs": [],
   "source": [
    "write.table(head(as.data.frame(rowSums(test_out))), file='test.txt', sep='\\t', col.names=F, quote=F)"
   ]
  }
 ],
 "metadata": {
  "kernelspec": {
   "display_name": "R",
   "language": "R",
   "name": "ir"
  },
  "language_info": {
   "codemirror_mode": "r",
   "file_extension": ".r",
   "mimetype": "text/x-r-source",
   "name": "R",
   "pygments_lexer": "r",
   "version": "3.4.3"
  }
 },
 "nbformat": 4,
 "nbformat_minor": 2
}
