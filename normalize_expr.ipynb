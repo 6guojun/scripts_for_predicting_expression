{
 "cells": [
  {
   "cell_type": "code",
   "execution_count": 2,
   "metadata": {},
   "outputs": [],
   "source": [
    "library(preprocessCore)\n",
    "library(data.table)"
   ]
  },
  {
   "cell_type": "code",
   "execution_count": 19,
   "metadata": {},
   "outputs": [
    {
     "data": {
      "text/html": [
       "<table>\n",
       "<thead><tr><th scope=col>gene</th><th scope=col>chr</th><th scope=col>start</th><th scope=col>end</th><th scope=col>TCGA-GM-A2DO</th><th scope=col>TCGA-OL-A6VQ</th><th scope=col>TCGA-E9-A295</th><th scope=col>TCGA-A2-A0YL</th><th scope=col>TCGA-AQ-A54O</th><th scope=col>TCGA-BH-A0E7</th><th scope=col>⋯</th><th scope=col>TCGA-OL-A5RV</th><th scope=col>TCGA-AR-A1AX</th><th scope=col>TCGA-D8-A27N</th><th scope=col>TCGA-A8-A08C</th><th scope=col>TCGA-E2-A150</th><th scope=col>TCGA-LL-A8F5</th><th scope=col>TCGA-AQ-A1H3</th><th scope=col>TCGA-A2-A1FW</th><th scope=col>TCGA-B6-A0X5</th><th scope=col>TCGA-S3-AA17</th></tr></thead>\n",
       "<tbody>\n",
       "\t<tr><td>ENSG00000000003</td><td>X              </td><td> 99888438      </td><td> 99894988      </td><td> 5.582386      </td><td>47.247540      </td><td>40.451157      </td><td>52.295040      </td><td>26.8525850     </td><td>19.9064920     </td><td>⋯              </td><td>54.058870      </td><td>13.8178580     </td><td>15.780485      </td><td>43.901165      </td><td>48.9454540     </td><td> 8.758680      </td><td>33.806385      </td><td>11.960064      </td><td> 2.3029330     </td><td>29.7585540     </td></tr>\n",
       "\t<tr><td>ENSG00000000005</td><td>X              </td><td> 99848620      </td><td> 99852528      </td><td> 0.184989      </td><td> 0.458678      </td><td> 0.530185      </td><td> 0.323010      </td><td> 0.0179871     </td><td> 0.0348188     </td><td>⋯              </td><td> 0.388434      </td><td> 0.0597863     </td><td> 1.011637      </td><td> 1.261265      </td><td> 0.0407298     </td><td> 0.000000      </td><td> 2.328550      </td><td> 1.168567      </td><td> 0.0000000     </td><td> 0.0146269     </td></tr>\n",
       "\t<tr><td>ENSG00000000419</td><td>20             </td><td> 49552684      </td><td> 49575069      </td><td>24.160618      </td><td>40.233930      </td><td>41.576668      </td><td>39.247640      </td><td>67.8753740     </td><td>47.4610250     </td><td>⋯              </td><td>43.513496      </td><td>40.7490540     </td><td>40.796820      </td><td>30.094984      </td><td>75.5939700     </td><td>30.650616      </td><td>44.815240      </td><td>53.111034      </td><td>41.3761370     </td><td>44.4212100     </td></tr>\n",
       "\t<tr><td>ENSG00000000457</td><td>1              </td><td>169828259      </td><td>169863093      </td><td> 4.812248      </td><td>21.976360      </td><td>10.609933      </td><td>17.628784      </td><td> 6.2702703     </td><td>14.5898370     </td><td>⋯              </td><td>21.850689      </td><td>13.7404950     </td><td>16.930092      </td><td>22.844444      </td><td>10.3847420     </td><td> 2.426898      </td><td>32.798695      </td><td>10.641923      </td><td>10.5848040     </td><td> 8.6213500     </td></tr>\n",
       "\t<tr><td>ENSG00000000460</td><td>1              </td><td>169764549      </td><td>169823221      </td><td> 4.153088      </td><td> 8.105289      </td><td> 5.267715      </td><td>11.751167      </td><td> 3.8672616     </td><td> 5.3468010     </td><td>⋯              </td><td> 6.662964      </td><td> 8.6789330     </td><td>10.266292      </td><td> 7.405015      </td><td>11.3897220     </td><td> 3.796204      </td><td>11.655321      </td><td> 6.609096      </td><td>12.1621140     </td><td> 5.5730260     </td></tr>\n",
       "\t<tr><td>ENSG00000000938</td><td>1              </td><td> 27949917      </td><td> 27952751      </td><td>15.878628      </td><td> 9.686910      </td><td> 3.379977      </td><td> 4.563198      </td><td> 3.4157195     </td><td> 1.7646550     </td><td>⋯              </td><td> 6.652488      </td><td> 9.0676800     </td><td> 7.020875      </td><td> 2.535830      </td><td> 5.4399815     </td><td> 1.468878      </td><td> 6.060028      </td><td> 2.245563      </td><td> 0.6440384     </td><td>10.7489500     </td></tr>\n",
       "</tbody>\n",
       "</table>\n"
      ],
      "text/latex": [
       "\\begin{tabular}{r|lllllllllllllllllllllllllllllllllllllllllllllllllllllllllllllllllllllllllllllllllllllllllllllllllllllllllllllllllllllllllllllllllllllllllllllllllllllllllllllllllllllllllllllllllllllllllllllllllllllllllllllllllllllllllllllllllllllllllllllllllllllllllllllllllllllllllllllllllllllllllllllllllllllllllllllllllllllllllllllllllllllllllllllllllllllllllllllllllllllllllllllllllllllllllllllllllllllllllllllllllllllllllllllllllllllllllllllllllllllllllllllllllllllllllllllllllllllllllllllllllllllllllllllllllllllllllllllllllllllllllllllllllllllllllllllllllllllllllllllllllllllllllllllllllllllllllllllllllllllllllllllllllllllllllllllllllllllllllllllllllllllllllllllllllllllllllllllllllllllllllllllllllllllllllllllllllllllllllllllllllllllllllllllllllllllllllllllllllllllllllllllllllllllllllllllllllllllllllllllllllllllllllllllllllllllllllllllllllllllllllllllllllllllllllllllllllllllllllllllllllllllllllllllllllllllllllllllllllllllllllllllllllllllllllllllllllllllllllllllllllllllllllllllllllllllllllllllllllllllllllllllllllllllllllllllllllllllllllllllllllllllllllllllllllllllllllllllll}\n",
       " gene & chr & start & end & TCGA-GM-A2DO & TCGA-OL-A6VQ & TCGA-E9-A295 & TCGA-A2-A0YL & TCGA-AQ-A54O & TCGA-BH-A0E7 & ⋯ & TCGA-OL-A5RV & TCGA-AR-A1AX & TCGA-D8-A27N & TCGA-A8-A08C & TCGA-E2-A150 & TCGA-LL-A8F5 & TCGA-AQ-A1H3 & TCGA-A2-A1FW & TCGA-B6-A0X5 & TCGA-S3-AA17\\\\\n",
       "\\hline\n",
       "\t ENSG00000000003 & X               &  99888438       &  99894988       &  5.582386       & 47.247540       & 40.451157       & 52.295040       & 26.8525850      & 19.9064920      & ⋯               & 54.058870       & 13.8178580      & 15.780485       & 43.901165       & 48.9454540      &  8.758680       & 33.806385       & 11.960064       &  2.3029330      & 29.7585540     \\\\\n",
       "\t ENSG00000000005 & X               &  99848620       &  99852528       &  0.184989       &  0.458678       &  0.530185       &  0.323010       &  0.0179871      &  0.0348188      & ⋯               &  0.388434       &  0.0597863      &  1.011637       &  1.261265       &  0.0407298      &  0.000000       &  2.328550       &  1.168567       &  0.0000000      &  0.0146269     \\\\\n",
       "\t ENSG00000000419 & 20              &  49552684       &  49575069       & 24.160618       & 40.233930       & 41.576668       & 39.247640       & 67.8753740      & 47.4610250      & ⋯               & 43.513496       & 40.7490540      & 40.796820       & 30.094984       & 75.5939700      & 30.650616       & 44.815240       & 53.111034       & 41.3761370      & 44.4212100     \\\\\n",
       "\t ENSG00000000457 & 1               & 169828259       & 169863093       &  4.812248       & 21.976360       & 10.609933       & 17.628784       &  6.2702703      & 14.5898370      & ⋯               & 21.850689       & 13.7404950      & 16.930092       & 22.844444       & 10.3847420      &  2.426898       & 32.798695       & 10.641923       & 10.5848040      &  8.6213500     \\\\\n",
       "\t ENSG00000000460 & 1               & 169764549       & 169823221       &  4.153088       &  8.105289       &  5.267715       & 11.751167       &  3.8672616      &  5.3468010      & ⋯               &  6.662964       &  8.6789330      & 10.266292       &  7.405015       & 11.3897220      &  3.796204       & 11.655321       &  6.609096       & 12.1621140      &  5.5730260     \\\\\n",
       "\t ENSG00000000938 & 1               &  27949917       &  27952751       & 15.878628       &  9.686910       &  3.379977       &  4.563198       &  3.4157195      &  1.7646550      & ⋯               &  6.652488       &  9.0676800      &  7.020875       &  2.535830       &  5.4399815      &  1.468878       &  6.060028       &  2.245563       &  0.6440384      & 10.7489500     \\\\\n",
       "\\end{tabular}\n"
      ],
      "text/markdown": [
       "\n",
       "gene | chr | start | end | TCGA-GM-A2DO | TCGA-OL-A6VQ | TCGA-E9-A295 | TCGA-A2-A0YL | TCGA-AQ-A54O | TCGA-BH-A0E7 | ⋯ | TCGA-OL-A5RV | TCGA-AR-A1AX | TCGA-D8-A27N | TCGA-A8-A08C | TCGA-E2-A150 | TCGA-LL-A8F5 | TCGA-AQ-A1H3 | TCGA-A2-A1FW | TCGA-B6-A0X5 | TCGA-S3-AA17 | \n",
       "|---|---|---|---|---|---|\n",
       "| ENSG00000000003 | X               |  99888438       |  99894988       |  5.582386       | 47.247540       | 40.451157       | 52.295040       | 26.8525850      | 19.9064920      | ⋯               | 54.058870       | 13.8178580      | 15.780485       | 43.901165       | 48.9454540      |  8.758680       | 33.806385       | 11.960064       |  2.3029330      | 29.7585540      | \n",
       "| ENSG00000000005 | X               |  99848620       |  99852528       |  0.184989       |  0.458678       |  0.530185       |  0.323010       |  0.0179871      |  0.0348188      | ⋯               |  0.388434       |  0.0597863      |  1.011637       |  1.261265       |  0.0407298      |  0.000000       |  2.328550       |  1.168567       |  0.0000000      |  0.0146269      | \n",
       "| ENSG00000000419 | 20              |  49552684       |  49575069       | 24.160618       | 40.233930       | 41.576668       | 39.247640       | 67.8753740      | 47.4610250      | ⋯               | 43.513496       | 40.7490540      | 40.796820       | 30.094984       | 75.5939700      | 30.650616       | 44.815240       | 53.111034       | 41.3761370      | 44.4212100      | \n",
       "| ENSG00000000457 | 1               | 169828259       | 169863093       |  4.812248       | 21.976360       | 10.609933       | 17.628784       |  6.2702703      | 14.5898370      | ⋯               | 21.850689       | 13.7404950      | 16.930092       | 22.844444       | 10.3847420      |  2.426898       | 32.798695       | 10.641923       | 10.5848040      |  8.6213500      | \n",
       "| ENSG00000000460 | 1               | 169764549       | 169823221       |  4.153088       |  8.105289       |  5.267715       | 11.751167       |  3.8672616      |  5.3468010      | ⋯               |  6.662964       |  8.6789330      | 10.266292       |  7.405015       | 11.3897220      |  3.796204       | 11.655321       |  6.609096       | 12.1621140      |  5.5730260      | \n",
       "| ENSG00000000938 | 1               |  27949917       |  27952751       | 15.878628       |  9.686910       |  3.379977       |  4.563198       |  3.4157195      |  1.7646550      | ⋯               |  6.652488       |  9.0676800      |  7.020875       |  2.535830       |  5.4399815      |  1.468878       |  6.060028       |  2.245563       |  0.6440384      | 10.7489500      | \n",
       "\n",
       "\n"
      ],
      "text/plain": [
       "  gene            chr start     end       TCGA-GM-A2DO TCGA-OL-A6VQ\n",
       "1 ENSG00000000003 X    99888438  99894988  5.582386    47.247540   \n",
       "2 ENSG00000000005 X    99848620  99852528  0.184989     0.458678   \n",
       "3 ENSG00000000419 20   49552684  49575069 24.160618    40.233930   \n",
       "4 ENSG00000000457 1   169828259 169863093  4.812248    21.976360   \n",
       "5 ENSG00000000460 1   169764549 169823221  4.153088     8.105289   \n",
       "6 ENSG00000000938 1    27949917  27952751 15.878628     9.686910   \n",
       "  TCGA-E9-A295 TCGA-A2-A0YL TCGA-AQ-A54O TCGA-BH-A0E7 ⋯ TCGA-OL-A5RV\n",
       "1 40.451157    52.295040    26.8525850   19.9064920   ⋯ 54.058870   \n",
       "2  0.530185     0.323010     0.0179871    0.0348188   ⋯  0.388434   \n",
       "3 41.576668    39.247640    67.8753740   47.4610250   ⋯ 43.513496   \n",
       "4 10.609933    17.628784     6.2702703   14.5898370   ⋯ 21.850689   \n",
       "5  5.267715    11.751167     3.8672616    5.3468010   ⋯  6.662964   \n",
       "6  3.379977     4.563198     3.4157195    1.7646550   ⋯  6.652488   \n",
       "  TCGA-AR-A1AX TCGA-D8-A27N TCGA-A8-A08C TCGA-E2-A150 TCGA-LL-A8F5 TCGA-AQ-A1H3\n",
       "1 13.8178580   15.780485    43.901165    48.9454540    8.758680    33.806385   \n",
       "2  0.0597863    1.011637     1.261265     0.0407298    0.000000     2.328550   \n",
       "3 40.7490540   40.796820    30.094984    75.5939700   30.650616    44.815240   \n",
       "4 13.7404950   16.930092    22.844444    10.3847420    2.426898    32.798695   \n",
       "5  8.6789330   10.266292     7.405015    11.3897220    3.796204    11.655321   \n",
       "6  9.0676800    7.020875     2.535830     5.4399815    1.468878     6.060028   \n",
       "  TCGA-A2-A1FW TCGA-B6-A0X5 TCGA-S3-AA17\n",
       "1 11.960064     2.3029330   29.7585540  \n",
       "2  1.168567     0.0000000    0.0146269  \n",
       "3 53.111034    41.3761370   44.4212100  \n",
       "4 10.641923    10.5848040    8.6213500  \n",
       "5  6.609096    12.1621140    5.5730260  \n",
       "6  2.245563     0.6440384   10.7489500  "
      ]
     },
     "metadata": {},
     "output_type": "display_data"
    }
   ],
   "source": [
    "# load parsed expression table\n",
    "expr <- fread('TCGA-BRCA_expression_matrix_ENSG_RPKM.txt')\n",
    "head(expr)"
   ]
  },
  {
   "cell_type": "code",
   "execution_count": 21,
   "metadata": {},
   "outputs": [],
   "source": [
    "# subset to just RPKM values\n",
    "sub_expr <- expr[,-c(1:4)]"
   ]
  },
  {
   "cell_type": "markdown",
   "metadata": {},
   "source": [
    "### Remove rows where median RPKM == 0"
   ]
  },
  {
   "cell_type": "code",
   "execution_count": 22,
   "metadata": {},
   "outputs": [],
   "source": [
    "row_meds <- apply(sub_expr, 1, median)\n",
    "expr <- expr[which(row_meds!=0),]"
   ]
  },
  {
   "cell_type": "markdown",
   "metadata": {},
   "source": [
    "### log2RPKM"
   ]
  },
  {
   "cell_type": "code",
   "execution_count": 23,
   "metadata": {},
   "outputs": [],
   "source": [
    "# add pseudocount \n",
    "pseudocount <- expr[,-c(1:4)]+0.1\n",
    "log2_expr <- apply(pseudocount, c(1,2), log2)"
   ]
  },
  {
   "cell_type": "code",
   "execution_count": 24,
   "metadata": {},
   "outputs": [
    {
     "data": {
      "text/html": [
       "<table>\n",
       "<thead><tr><th scope=col>TCGA-GM-A2DO</th><th scope=col>TCGA-OL-A6VQ</th><th scope=col>TCGA-E9-A295</th><th scope=col>TCGA-A2-A0YL</th><th scope=col>TCGA-AQ-A54O</th><th scope=col>TCGA-BH-A0E7</th><th scope=col>TCGA-B6-A0I5</th><th scope=col>TCGA-E2-A15K</th><th scope=col>TCGA-C8-A133</th><th scope=col>TCGA-AO-A12F</th><th scope=col>⋯</th><th scope=col>TCGA-OL-A5RV</th><th scope=col>TCGA-AR-A1AX</th><th scope=col>TCGA-D8-A27N</th><th scope=col>TCGA-A8-A08C</th><th scope=col>TCGA-E2-A150</th><th scope=col>TCGA-LL-A8F5</th><th scope=col>TCGA-AQ-A1H3</th><th scope=col>TCGA-A2-A1FW</th><th scope=col>TCGA-B6-A0X5</th><th scope=col>TCGA-S3-AA17</th></tr></thead>\n",
       "<tbody>\n",
       "\t<tr><td> 2.506497 </td><td> 5.5652176</td><td> 5.3416712</td><td> 5.711358 </td><td> 4.752352 </td><td> 4.3223963</td><td> 4.899877 </td><td> 2.056146 </td><td> 4.0155709</td><td>5.9751042 </td><td>⋯         </td><td> 5.759126 </td><td> 3.798865 </td><td>3.9891831 </td><td>5.4594698 </td><td> 5.616048 </td><td> 3.1470917</td><td>5.083485  </td><td>3.5921657 </td><td> 1.264796 </td><td> 4.900072 </td></tr>\n",
       "\t<tr><td>-1.811022 </td><td>-0.8399111</td><td>-0.6661527</td><td>-1.241236 </td><td>-3.083299 </td><td>-2.8909064</td><td>-2.963245 </td><td>-1.082716 </td><td>-2.1577790</td><td>0.9152502 </td><td>⋯         </td><td>-1.033764 </td><td>-2.645784 </td><td>0.1526858 </td><td>0.4449479 </td><td>-2.829000 </td><td>-3.3219281</td><td>1.280095  </td><td>0.3431997 </td><td>-3.321928 </td><td>-3.124982 </td></tr>\n",
       "\t<tr><td> 4.600544 </td><td> 5.3339221</td><td> 5.3811680</td><td> 5.298205 </td><td> 6.086940 </td><td> 5.5717079</td><td> 4.430193 </td><td> 5.410783 </td><td> 4.9785485</td><td>5.9567580 </td><td>⋯         </td><td> 5.446703 </td><td> 5.352231 </td><td>5.3539168 </td><td>4.9162370 </td><td> 6.242106 </td><td> 4.9425434</td><td>5.489133  </td><td>5.7336535 </td><td> 5.374210 </td><td> 5.476421 </td></tr>\n",
       "\t<tr><td> 2.296383 </td><td> 4.4644304</td><td> 3.4208775</td><td> 4.148022 </td><td> 2.671355 </td><td> 3.8767465</td><td> 2.670898 </td><td> 4.288878 </td><td> 2.2249756</td><td>3.5462149 </td><td>⋯         </td><td> 4.456194 </td><td> 3.790824 </td><td>4.0900143 </td><td>4.5200729 </td><td> 3.390219 </td><td> 1.3373674</td><td>5.039958  </td><td>3.4251804 </td><td> 3.417489 </td><td> 3.124551 </td></tr>\n",
       "\t<tr><td> 2.088511 </td><td> 3.0365541</td><td> 2.4243081</td><td> 3.566957 </td><td> 1.988144 </td><td> 2.4454092</td><td> 1.333611 </td><td> 4.113638 </td><td> 0.6021193</td><td>3.3882278 </td><td>⋯         </td><td> 2.757656 </td><td> 3.134046 </td><td>3.3738280 </td><td>2.9078550 </td><td> 3.522272 </td><td> 1.9620693</td><td>3.555242  </td><td>2.7461183 </td><td> 3.616136 </td><td> 2.504118 </td></tr>\n",
       "\t<tr><td> 3.998072 </td><td> 3.2908534</td><td> 1.7990778</td><td> 2.221320 </td><td> 1.813820 </td><td> 0.8989087</td><td> 1.470532 </td><td> 2.705891 </td><td>-0.9558241</td><td>1.8484265 </td><td>⋯         </td><td> 2.755419 </td><td> 3.196557 </td><td>2.8320545 </td><td>1.3982572 </td><td> 2.469881 </td><td> 0.6497334</td><td>2.622937  </td><td>1.2299346 </td><td>-0.426551 </td><td> 3.439484 </td></tr>\n",
       "</tbody>\n",
       "</table>\n"
      ],
      "text/latex": [
       "\\begin{tabular}{lllllllllllllllllllllllllllllllllllllllllllllllllllllllllllllllllllllllllllllllllllllllllllllllllllllllllllllllllllllllllllllllllllllllllllllllllllllllllllllllllllllllllllllllllllllllllllllllllllllllllllllllllllllllllllllllllllllllllllllllllllllllllllllllllllllllllllllllllllllllllllllllllllllllllllllllllllllllllllllllllllllllllllllllllllllllllllllllllllllllllllllllllllllllllllllllllllllllllllllllllllllllllllllllllllllllllllllllllllllllllllllllllllllllllllllllllllllllllllllllllllllllllllllllllllllllllllllllllllllllllllllllllllllllllllllllllllllllllllllllllllllllllllllllllllllllllllllllllllllllllllllllllllllllllllllllllllllllllllllllllllllllllllllllllllllllllllllllllllllllllllllllllllllllllllllllllllllllllllllllllllllllllllllllllllllllllllllllllllllllllllllllllllllllllllllllllllllllllllllllllllllllllllllllllllllllllllllllllllllllllllllllllllllllllllllllllllllllllllllllllllllllllllllllllllllllllllllllllllllllllllllllllllllllllllllllllllllllllllllllllllllllllllllllllllllllllllllllllllllllllllllllllllllllllllllllllllllllllllllllllllllllllllllllllllllllllll}\n",
       " TCGA-GM-A2DO & TCGA-OL-A6VQ & TCGA-E9-A295 & TCGA-A2-A0YL & TCGA-AQ-A54O & TCGA-BH-A0E7 & TCGA-B6-A0I5 & TCGA-E2-A15K & TCGA-C8-A133 & TCGA-AO-A12F & ⋯ & TCGA-OL-A5RV & TCGA-AR-A1AX & TCGA-D8-A27N & TCGA-A8-A08C & TCGA-E2-A150 & TCGA-LL-A8F5 & TCGA-AQ-A1H3 & TCGA-A2-A1FW & TCGA-B6-A0X5 & TCGA-S3-AA17\\\\\n",
       "\\hline\n",
       "\t  2.506497  &  5.5652176 &  5.3416712 &  5.711358  &  4.752352  &  4.3223963 &  4.899877  &  2.056146  &  4.0155709 & 5.9751042  & ⋯          &  5.759126  &  3.798865  & 3.9891831  & 5.4594698  &  5.616048  &  3.1470917 & 5.083485   & 3.5921657  &  1.264796  &  4.900072 \\\\\n",
       "\t -1.811022  & -0.8399111 & -0.6661527 & -1.241236  & -3.083299  & -2.8909064 & -2.963245  & -1.082716  & -2.1577790 & 0.9152502  & ⋯          & -1.033764  & -2.645784  & 0.1526858  & 0.4449479  & -2.829000  & -3.3219281 & 1.280095   & 0.3431997  & -3.321928  & -3.124982 \\\\\n",
       "\t  4.600544  &  5.3339221 &  5.3811680 &  5.298205  &  6.086940  &  5.5717079 &  4.430193  &  5.410783  &  4.9785485 & 5.9567580  & ⋯          &  5.446703  &  5.352231  & 5.3539168  & 4.9162370  &  6.242106  &  4.9425434 & 5.489133   & 5.7336535  &  5.374210  &  5.476421 \\\\\n",
       "\t  2.296383  &  4.4644304 &  3.4208775 &  4.148022  &  2.671355  &  3.8767465 &  2.670898  &  4.288878  &  2.2249756 & 3.5462149  & ⋯          &  4.456194  &  3.790824  & 4.0900143  & 4.5200729  &  3.390219  &  1.3373674 & 5.039958   & 3.4251804  &  3.417489  &  3.124551 \\\\\n",
       "\t  2.088511  &  3.0365541 &  2.4243081 &  3.566957  &  1.988144  &  2.4454092 &  1.333611  &  4.113638  &  0.6021193 & 3.3882278  & ⋯          &  2.757656  &  3.134046  & 3.3738280  & 2.9078550  &  3.522272  &  1.9620693 & 3.555242   & 2.7461183  &  3.616136  &  2.504118 \\\\\n",
       "\t  3.998072  &  3.2908534 &  1.7990778 &  2.221320  &  1.813820  &  0.8989087 &  1.470532  &  2.705891  & -0.9558241 & 1.8484265  & ⋯          &  2.755419  &  3.196557  & 2.8320545  & 1.3982572  &  2.469881  &  0.6497334 & 2.622937   & 1.2299346  & -0.426551  &  3.439484 \\\\\n",
       "\\end{tabular}\n"
      ],
      "text/markdown": [
       "\n",
       "TCGA-GM-A2DO | TCGA-OL-A6VQ | TCGA-E9-A295 | TCGA-A2-A0YL | TCGA-AQ-A54O | TCGA-BH-A0E7 | TCGA-B6-A0I5 | TCGA-E2-A15K | TCGA-C8-A133 | TCGA-AO-A12F | ⋯ | TCGA-OL-A5RV | TCGA-AR-A1AX | TCGA-D8-A27N | TCGA-A8-A08C | TCGA-E2-A150 | TCGA-LL-A8F5 | TCGA-AQ-A1H3 | TCGA-A2-A1FW | TCGA-B6-A0X5 | TCGA-S3-AA17 | \n",
       "|---|---|---|---|---|---|\n",
       "|  2.506497  |  5.5652176 |  5.3416712 |  5.711358  |  4.752352  |  4.3223963 |  4.899877  |  2.056146  |  4.0155709 | 5.9751042  | ⋯          |  5.759126  |  3.798865  | 3.9891831  | 5.4594698  |  5.616048  |  3.1470917 | 5.083485   | 3.5921657  |  1.264796  |  4.900072  | \n",
       "| -1.811022  | -0.8399111 | -0.6661527 | -1.241236  | -3.083299  | -2.8909064 | -2.963245  | -1.082716  | -2.1577790 | 0.9152502  | ⋯          | -1.033764  | -2.645784  | 0.1526858  | 0.4449479  | -2.829000  | -3.3219281 | 1.280095   | 0.3431997  | -3.321928  | -3.124982  | \n",
       "|  4.600544  |  5.3339221 |  5.3811680 |  5.298205  |  6.086940  |  5.5717079 |  4.430193  |  5.410783  |  4.9785485 | 5.9567580  | ⋯          |  5.446703  |  5.352231  | 5.3539168  | 4.9162370  |  6.242106  |  4.9425434 | 5.489133   | 5.7336535  |  5.374210  |  5.476421  | \n",
       "|  2.296383  |  4.4644304 |  3.4208775 |  4.148022  |  2.671355  |  3.8767465 |  2.670898  |  4.288878  |  2.2249756 | 3.5462149  | ⋯          |  4.456194  |  3.790824  | 4.0900143  | 4.5200729  |  3.390219  |  1.3373674 | 5.039958   | 3.4251804  |  3.417489  |  3.124551  | \n",
       "|  2.088511  |  3.0365541 |  2.4243081 |  3.566957  |  1.988144  |  2.4454092 |  1.333611  |  4.113638  |  0.6021193 | 3.3882278  | ⋯          |  2.757656  |  3.134046  | 3.3738280  | 2.9078550  |  3.522272  |  1.9620693 | 3.555242   | 2.7461183  |  3.616136  |  2.504118  | \n",
       "|  3.998072  |  3.2908534 |  1.7990778 |  2.221320  |  1.813820  |  0.8989087 |  1.470532  |  2.705891  | -0.9558241 | 1.8484265  | ⋯          |  2.755419  |  3.196557  | 2.8320545  | 1.3982572  |  2.469881  |  0.6497334 | 2.622937   | 1.2299346  | -0.426551  |  3.439484  | \n",
       "\n",
       "\n"
      ],
      "text/plain": [
       "     TCGA-GM-A2DO TCGA-OL-A6VQ TCGA-E9-A295 TCGA-A2-A0YL TCGA-AQ-A54O\n",
       "[1,]  2.506497     5.5652176    5.3416712    5.711358     4.752352   \n",
       "[2,] -1.811022    -0.8399111   -0.6661527   -1.241236    -3.083299   \n",
       "[3,]  4.600544     5.3339221    5.3811680    5.298205     6.086940   \n",
       "[4,]  2.296383     4.4644304    3.4208775    4.148022     2.671355   \n",
       "[5,]  2.088511     3.0365541    2.4243081    3.566957     1.988144   \n",
       "[6,]  3.998072     3.2908534    1.7990778    2.221320     1.813820   \n",
       "     TCGA-BH-A0E7 TCGA-B6-A0I5 TCGA-E2-A15K TCGA-C8-A133 TCGA-AO-A12F ⋯\n",
       "[1,]  4.3223963    4.899877     2.056146     4.0155709   5.9751042    ⋯\n",
       "[2,] -2.8909064   -2.963245    -1.082716    -2.1577790   0.9152502    ⋯\n",
       "[3,]  5.5717079    4.430193     5.410783     4.9785485   5.9567580    ⋯\n",
       "[4,]  3.8767465    2.670898     4.288878     2.2249756   3.5462149    ⋯\n",
       "[5,]  2.4454092    1.333611     4.113638     0.6021193   3.3882278    ⋯\n",
       "[6,]  0.8989087    1.470532     2.705891    -0.9558241   1.8484265    ⋯\n",
       "     TCGA-OL-A5RV TCGA-AR-A1AX TCGA-D8-A27N TCGA-A8-A08C TCGA-E2-A150\n",
       "[1,]  5.759126     3.798865    3.9891831    5.4594698     5.616048   \n",
       "[2,] -1.033764    -2.645784    0.1526858    0.4449479    -2.829000   \n",
       "[3,]  5.446703     5.352231    5.3539168    4.9162370     6.242106   \n",
       "[4,]  4.456194     3.790824    4.0900143    4.5200729     3.390219   \n",
       "[5,]  2.757656     3.134046    3.3738280    2.9078550     3.522272   \n",
       "[6,]  2.755419     3.196557    2.8320545    1.3982572     2.469881   \n",
       "     TCGA-LL-A8F5 TCGA-AQ-A1H3 TCGA-A2-A1FW TCGA-B6-A0X5 TCGA-S3-AA17\n",
       "[1,]  3.1470917   5.083485     3.5921657     1.264796     4.900072   \n",
       "[2,] -3.3219281   1.280095     0.3431997    -3.321928    -3.124982   \n",
       "[3,]  4.9425434   5.489133     5.7336535     5.374210     5.476421   \n",
       "[4,]  1.3373674   5.039958     3.4251804     3.417489     3.124551   \n",
       "[5,]  1.9620693   3.555242     2.7461183     3.616136     2.504118   \n",
       "[6,]  0.6497334   2.622937     1.2299346    -0.426551     3.439484   "
      ]
     },
     "metadata": {},
     "output_type": "display_data"
    }
   ],
   "source": [
    "head(log2_expr)"
   ]
  },
  {
   "cell_type": "markdown",
   "metadata": {},
   "source": [
    "### Quantile normalize"
   ]
  },
  {
   "cell_type": "code",
   "execution_count": 25,
   "metadata": {},
   "outputs": [],
   "source": [
    "# quantile normalize\n",
    "normed <- normalize.quantiles(log2_expr)"
   ]
  },
  {
   "cell_type": "code",
   "execution_count": 26,
   "metadata": {},
   "outputs": [
    {
     "data": {
      "text/html": [
       "<table>\n",
       "<tbody>\n",
       "\t<tr><td> 2.786638 </td><td> 5.365579 </td><td> 5.3944343</td><td> 5.638751 </td><td> 5.016731 </td><td> 3.897272 </td><td> 5.484084 </td><td> 1.851054 </td><td> 4.3956953</td><td>6.051804  </td><td>⋯         </td><td> 5.442068 </td><td> 3.411678 </td><td>3.9958289 </td><td>5.2990084 </td><td> 5.501651 </td><td> 4.343148 </td><td>4.8217186 </td><td>3.3447211 </td><td> 1.517290 </td><td> 5.213864 </td></tr>\n",
       "\t<tr><td>-1.828613 </td><td>-1.307399 </td><td>-0.8008862</td><td>-1.644195 </td><td>-2.550998 </td><td>-2.850677 </td><td>-2.675139 </td><td>-1.159151 </td><td>-1.0713053</td><td>1.092977  </td><td>⋯         </td><td>-1.828613 </td><td>-2.945825 </td><td>0.1957566 </td><td>0.5137719 </td><td>-2.682430 </td><td>-3.316035 </td><td>0.7843795 </td><td>0.2705021 </td><td>-3.256463 </td><td>-3.134685 </td></tr>\n",
       "\t<tr><td> 4.951401 </td><td> 5.115647 </td><td> 5.4329395</td><td> 5.172728 </td><td> 6.155236 </td><td> 5.193406 </td><td> 5.098780 </td><td> 5.218798 </td><td> 5.2070313</td><td>6.031495  </td><td>⋯         </td><td> 5.076911 </td><td> 5.224689 </td><td>5.2754568 </td><td>4.7123910 </td><td> 6.123929 </td><td> 5.897500 </td><td>5.2949784 </td><td>5.5073010 </td><td> 5.225656 </td><td> 5.820909 </td></tr>\n",
       "\t<tr><td> 2.563457 </td><td> 4.126493 </td><td> 3.4764983</td><td> 3.803173 </td><td> 3.220903 </td><td> 3.461660 </td><td> 3.561036 </td><td> 4.071476 </td><td> 2.9064574</td><td>3.740179  </td><td>⋯         </td><td> 3.977093 </td><td> 3.403637 </td><td>4.0930699 </td><td>4.2934437 </td><td> 3.267066 </td><td> 2.704704 </td><td>4.7741475 </td><td>3.1937070 </td><td> 3.225815 </td><td> 3.307822 </td></tr>\n",
       "\t<tr><td> 2.341505 </td><td> 2.544588 </td><td> 2.4401145</td><td> 3.136034 </td><td> 2.554440 </td><td> 2.194653 </td><td> 2.210404 </td><td> 3.889939 </td><td> 1.6017805</td><td>3.584631  </td><td>⋯         </td><td> 2.134703 </td><td> 2.659136 </td><td>3.3806436 </td><td>2.7621814 </td><td> 3.397604 </td><td> 3.324164 </td><td>3.1288596 </td><td>2.5509992 </td><td> 3.414912 </td><td> 2.658662 </td></tr>\n",
       "\t<tr><td> 4.354195 </td><td> 2.816182 </td><td> 1.7670729</td><td> 1.646240 </td><td> 2.362818 </td><td> 0.849941 </td><td> 2.368614 </td><td> 2.506883 </td><td> 0.2576642</td><td>2.058348  </td><td>⋯         </td><td> 2.131212 </td><td> 2.731684 </td><td>2.8432163 </td><td>1.4651250 </td><td> 2.369658 </td><td> 1.940307 </td><td>2.1643014 </td><td>1.1769154 </td><td> 0.073499 </td><td> 3.647672 </td></tr>\n",
       "</tbody>\n",
       "</table>\n"
      ],
      "text/latex": [
       "\\begin{tabular}{lllllllllllllllllllllllllllllllllllllllllllllllllllllllllllllllllllllllllllllllllllllllllllllllllllllllllllllllllllllllllllllllllllllllllllllllllllllllllllllllllllllllllllllllllllllllllllllllllllllllllllllllllllllllllllllllllllllllllllllllllllllllllllllllllllllllllllllllllllllllllllllllllllllllllllllllllllllllllllllllllllllllllllllllllllllllllllllllllllllllllllllllllllllllllllllllllllllllllllllllllllllllllllllllllllllllllllllllllllllllllllllllllllllllllllllllllllllllllllllllllllllllllllllllllllllllllllllllllllllllllllllllllllllllllllllllllllllllllllllllllllllllllllllllllllllllllllllllllllllllllllllllllllllllllllllllllllllllllllllllllllllllllllllllllllllllllllllllllllllllllllllllllllllllllllllllllllllllllllllllllllllllllllllllllllllllllllllllllllllllllllllllllllllllllllllllllllllllllllllllllllllllllllllllllllllllllllllllllllllllllllllllllllllllllllllllllllllllllllllllllllllllllllllllllllllllllllllllllllllllllllllllllllllllllllllllllllllllllllllllllllllllllllllllllllllllllllllllllllllllllllllllllllllllllllllllllllllllllllllllllllllllllllllllllllllllllll}\n",
       "\t  2.786638  &  5.365579  &  5.3944343 &  5.638751  &  5.016731  &  3.897272  &  5.484084  &  1.851054  &  4.3956953 & 6.051804   & ⋯          &  5.442068  &  3.411678  & 3.9958289  & 5.2990084  &  5.501651  &  4.343148  & 4.8217186  & 3.3447211  &  1.517290  &  5.213864 \\\\\n",
       "\t -1.828613  & -1.307399  & -0.8008862 & -1.644195  & -2.550998  & -2.850677  & -2.675139  & -1.159151  & -1.0713053 & 1.092977   & ⋯          & -1.828613  & -2.945825  & 0.1957566  & 0.5137719  & -2.682430  & -3.316035  & 0.7843795  & 0.2705021  & -3.256463  & -3.134685 \\\\\n",
       "\t  4.951401  &  5.115647  &  5.4329395 &  5.172728  &  6.155236  &  5.193406  &  5.098780  &  5.218798  &  5.2070313 & 6.031495   & ⋯          &  5.076911  &  5.224689  & 5.2754568  & 4.7123910  &  6.123929  &  5.897500  & 5.2949784  & 5.5073010  &  5.225656  &  5.820909 \\\\\n",
       "\t  2.563457  &  4.126493  &  3.4764983 &  3.803173  &  3.220903  &  3.461660  &  3.561036  &  4.071476  &  2.9064574 & 3.740179   & ⋯          &  3.977093  &  3.403637  & 4.0930699  & 4.2934437  &  3.267066  &  2.704704  & 4.7741475  & 3.1937070  &  3.225815  &  3.307822 \\\\\n",
       "\t  2.341505  &  2.544588  &  2.4401145 &  3.136034  &  2.554440  &  2.194653  &  2.210404  &  3.889939  &  1.6017805 & 3.584631   & ⋯          &  2.134703  &  2.659136  & 3.3806436  & 2.7621814  &  3.397604  &  3.324164  & 3.1288596  & 2.5509992  &  3.414912  &  2.658662 \\\\\n",
       "\t  4.354195  &  2.816182  &  1.7670729 &  1.646240  &  2.362818  &  0.849941  &  2.368614  &  2.506883  &  0.2576642 & 2.058348   & ⋯          &  2.131212  &  2.731684  & 2.8432163  & 1.4651250  &  2.369658  &  1.940307  & 2.1643014  & 1.1769154  &  0.073499  &  3.647672 \\\\\n",
       "\\end{tabular}\n"
      ],
      "text/markdown": [
       "\n",
       "|  2.786638  |  5.365579  |  5.3944343 |  5.638751  |  5.016731  |  3.897272  |  5.484084  |  1.851054  |  4.3956953 | 6.051804   | ⋯          |  5.442068  |  3.411678  | 3.9958289  | 5.2990084  |  5.501651  |  4.343148  | 4.8217186  | 3.3447211  |  1.517290  |  5.213864  | \n",
       "| -1.828613  | -1.307399  | -0.8008862 | -1.644195  | -2.550998  | -2.850677  | -2.675139  | -1.159151  | -1.0713053 | 1.092977   | ⋯          | -1.828613  | -2.945825  | 0.1957566  | 0.5137719  | -2.682430  | -3.316035  | 0.7843795  | 0.2705021  | -3.256463  | -3.134685  | \n",
       "|  4.951401  |  5.115647  |  5.4329395 |  5.172728  |  6.155236  |  5.193406  |  5.098780  |  5.218798  |  5.2070313 | 6.031495   | ⋯          |  5.076911  |  5.224689  | 5.2754568  | 4.7123910  |  6.123929  |  5.897500  | 5.2949784  | 5.5073010  |  5.225656  |  5.820909  | \n",
       "|  2.563457  |  4.126493  |  3.4764983 |  3.803173  |  3.220903  |  3.461660  |  3.561036  |  4.071476  |  2.9064574 | 3.740179   | ⋯          |  3.977093  |  3.403637  | 4.0930699  | 4.2934437  |  3.267066  |  2.704704  | 4.7741475  | 3.1937070  |  3.225815  |  3.307822  | \n",
       "|  2.341505  |  2.544588  |  2.4401145 |  3.136034  |  2.554440  |  2.194653  |  2.210404  |  3.889939  |  1.6017805 | 3.584631   | ⋯          |  2.134703  |  2.659136  | 3.3806436  | 2.7621814  |  3.397604  |  3.324164  | 3.1288596  | 2.5509992  |  3.414912  |  2.658662  | \n",
       "|  4.354195  |  2.816182  |  1.7670729 |  1.646240  |  2.362818  |  0.849941  |  2.368614  |  2.506883  |  0.2576642 | 2.058348   | ⋯          |  2.131212  |  2.731684  | 2.8432163  | 1.4651250  |  2.369658  |  1.940307  | 2.1643014  | 1.1769154  |  0.073499  |  3.647672  | \n",
       "\n",
       "\n"
      ],
      "text/plain": [
       "     [,1]      [,2]      [,3]       [,4]      [,5]      [,6]      [,7]     \n",
       "[1,]  2.786638  5.365579  5.3944343  5.638751  5.016731  3.897272  5.484084\n",
       "[2,] -1.828613 -1.307399 -0.8008862 -1.644195 -2.550998 -2.850677 -2.675139\n",
       "[3,]  4.951401  5.115647  5.4329395  5.172728  6.155236  5.193406  5.098780\n",
       "[4,]  2.563457  4.126493  3.4764983  3.803173  3.220903  3.461660  3.561036\n",
       "[5,]  2.341505  2.544588  2.4401145  3.136034  2.554440  2.194653  2.210404\n",
       "[6,]  4.354195  2.816182  1.7670729  1.646240  2.362818  0.849941  2.368614\n",
       "     [,8]      [,9]       [,10]    [,11] [,12]     [,13]     [,14]    \n",
       "[1,]  1.851054  4.3956953 6.051804 ⋯      5.442068  3.411678 3.9958289\n",
       "[2,] -1.159151 -1.0713053 1.092977 ⋯     -1.828613 -2.945825 0.1957566\n",
       "[3,]  5.218798  5.2070313 6.031495 ⋯      5.076911  5.224689 5.2754568\n",
       "[4,]  4.071476  2.9064574 3.740179 ⋯      3.977093  3.403637 4.0930699\n",
       "[5,]  3.889939  1.6017805 3.584631 ⋯      2.134703  2.659136 3.3806436\n",
       "[6,]  2.506883  0.2576642 2.058348 ⋯      2.131212  2.731684 2.8432163\n",
       "     [,15]     [,16]     [,17]     [,18]     [,19]     [,20]     [,21]    \n",
       "[1,] 5.2990084  5.501651  4.343148 4.8217186 3.3447211  1.517290  5.213864\n",
       "[2,] 0.5137719 -2.682430 -3.316035 0.7843795 0.2705021 -3.256463 -3.134685\n",
       "[3,] 4.7123910  6.123929  5.897500 5.2949784 5.5073010  5.225656  5.820909\n",
       "[4,] 4.2934437  3.267066  2.704704 4.7741475 3.1937070  3.225815  3.307822\n",
       "[5,] 2.7621814  3.397604  3.324164 3.1288596 2.5509992  3.414912  2.658662\n",
       "[6,] 1.4651250  2.369658  1.940307 2.1643014 1.1769154  0.073499  3.647672"
      ]
     },
     "metadata": {},
     "output_type": "display_data"
    }
   ],
   "source": [
    "head(normed)"
   ]
  },
  {
   "cell_type": "code",
   "execution_count": 27,
   "metadata": {},
   "outputs": [
    {
     "data": {
      "text/html": [
       "0"
      ],
      "text/latex": [
       "0"
      ],
      "text/markdown": [
       "0"
      ],
      "text/plain": [
       "[1] 0"
      ]
     },
     "metadata": {},
     "output_type": "display_data"
    }
   ],
   "source": [
    "sum(is.infinite(normed))"
   ]
  },
  {
   "cell_type": "markdown",
   "metadata": {},
   "source": [
    "### Inverse normalize by gene"
   ]
  },
  {
   "cell_type": "code",
   "execution_count": 28,
   "metadata": {},
   "outputs": [
    {
     "data": {
      "text/html": [
       "<table>\n",
       "<tbody>\n",
       "\t<tr><td>-1.6713229  </td><td> 0.8581396  </td><td> 0.88042027 </td><td> 1.145242504</td><td> 0.4675416  </td><td>-0.73241136 </td><td> 0.9593260  </td><td>-2.2981059  </td><td>-0.2274727  </td><td>1.62562248  </td><td>⋯           </td><td> 0.9137947  </td><td>-1.1407280  </td><td>-0.6402280  </td><td> 0.7856843  </td><td> 0.9876248  </td><td>-0.2857491  </td><td> 0.2226537  </td><td>-1.20134927 </td><td>-2.6341483  </td><td> 0.6781809  </td></tr>\n",
       "\t<tr><td>-0.1283848  </td><td> 0.1962383  </td><td> 0.46754156 </td><td> 0.001174615</td><td>-0.6634708  </td><td>-0.98762476 </td><td>-0.8180855  </td><td> 0.2710965  </td><td> 0.3140086  </td><td>1.37337921  </td><td>⋯           </td><td>-0.1283848  </td><td>-1.1141156  </td><td> 0.9372285  </td><td> 1.0714353  </td><td>-0.8312885  </td><td>-1.8878652  </td><td> 1.2258804  </td><td> 0.95746665 </td><td>-1.4771186  </td><td>-1.3438201  </td></tr>\n",
       "\t<tr><td>-1.4771186  </td><td>-0.9686727  </td><td>-0.12720060 </td><td>-0.826320504</td><td> 1.1362366  </td><td>-0.74785859 </td><td>-1.0226640  </td><td>-0.6767034  </td><td>-0.7110739  </td><td>0.92815517  </td><td>⋯           </td><td>-1.0946626  </td><td>-0.6489029  </td><td>-0.5152576  </td><td>-2.1580000  </td><td> 1.1054181  </td><td> 0.7324114  </td><td>-0.4401979  </td><td> 0.01996978 </td><td>-0.6344714  </td><td> 0.6088213  </td></tr>\n",
       "\t<tr><td>-1.6168790  </td><td> 1.0798142  </td><td>-0.01879495 </td><td> 0.520630526</td><td>-0.4806850  </td><td>-0.05641142 </td><td> 0.1248326  </td><td> 0.9686727  </td><td>-1.0286267  </td><td>0.42343556  </td><td>⋯           </td><td> 0.8131711  </td><td>-0.1532983  </td><td> 1.0147698  </td><td> 1.3584513  </td><td>-0.3851940  </td><td>-1.4363937  </td><td> 2.2981059  </td><td>-0.52332262 </td><td>-0.4727891  </td><td>-0.3214211  </td></tr>\n",
       "\t<tr><td>-0.7509695  </td><td>-0.4649226  </td><td>-0.58635312 </td><td> 0.332573275</td><td>-0.4492749  </td><td>-0.99145789 </td><td>-0.9686727  </td><td> 1.3153907  </td><td>-1.8606552  </td><td>0.97621143  </td><td>⋯           </td><td>-1.0968036  </td><td>-0.2930983  </td><td> 0.6930393  </td><td>-0.1795008  </td><td> 0.7232265  </td><td> 0.6102357  </td><td> 0.3214211  </td><td>-0.45187512 </td><td> 0.7447550  </td><td>-0.2955515  </td></tr>\n",
       "\t<tr><td> 2.1121141  </td><td> 0.8115373  </td><td>-0.27841536 </td><td>-0.458389109</td><td> 0.3851940  </td><td>-1.45645419 </td><td> 0.3877253  </td><td> 0.5504575  </td><td>-2.1827609  </td><td>0.04935386  </td><td>⋯           </td><td> 0.1354942  </td><td> 0.7509695  </td><td> 0.8362770  </td><td>-0.6605461  </td><td> 0.3902592  </td><td>-0.0752463  </td><td> 0.1723432  </td><td>-1.00304572 </td><td>-2.4104576  </td><td> 1.5628491  </td></tr>\n",
       "</tbody>\n",
       "</table>\n"
      ],
      "text/latex": [
       "\\begin{tabular}{lllllllllllllllllllllllllllllllllllllllllllllllllllllllllllllllllllllllllllllllllllllllllllllllllllllllllllllllllllllllllllllllllllllllllllllllllllllllllllllllllllllllllllllllllllllllllllllllllllllllllllllllllllllllllllllllllllllllllllllllllllllllllllllllllllllllllllllllllllllllllllllllllllllllllllllllllllllllllllllllllllllllllllllllllllllllllllllllllllllllllllllllllllllllllllllllllllllllllllllllllllllllllllllllllllllllllllllllllllllllllllllllllllllllllllllllllllllllllllllllllllllllllllllllllllllllllllllllllllllllllllllllllllllllllllllllllllllllllllllllllllllllllllllllllllllllllllllllllllllllllllllllllllllllllllllllllllllllllllllllllllllllllllllllllllllllllllllllllllllllllllllllllllllllllllllllllllllllllllllllllllllllllllllllllllllllllllllllllllllllllllllllllllllllllllllllllllllllllllllllllllllllllllllllllllllllllllllllllllllllllllllllllllllllllllllllllllllllllllllllllllllllllllllllllllllllllllllllllllllllllllllllllllllllllllllllllllllllllllllllllllllllllllllllllllllllllllllllllllllllllllllllllllllllllllllllllllllllllllllllllllllllllllllllllllllllllll}\n",
       "\t -1.6713229   &  0.8581396   &  0.88042027  &  1.145242504 &  0.4675416   & -0.73241136  &  0.9593260   & -2.2981059   & -0.2274727   & 1.62562248   & ⋯            &  0.9137947   & -1.1407280   & -0.6402280   &  0.7856843   &  0.9876248   & -0.2857491   &  0.2226537   & -1.20134927  & -2.6341483   &  0.6781809  \\\\\n",
       "\t -0.1283848   &  0.1962383   &  0.46754156  &  0.001174615 & -0.6634708   & -0.98762476  & -0.8180855   &  0.2710965   &  0.3140086   & 1.37337921   & ⋯            & -0.1283848   & -1.1141156   &  0.9372285   &  1.0714353   & -0.8312885   & -1.8878652   &  1.2258804   &  0.95746665  & -1.4771186   & -1.3438201  \\\\\n",
       "\t -1.4771186   & -0.9686727   & -0.12720060  & -0.826320504 &  1.1362366   & -0.74785859  & -1.0226640   & -0.6767034   & -0.7110739   & 0.92815517   & ⋯            & -1.0946626   & -0.6489029   & -0.5152576   & -2.1580000   &  1.1054181   &  0.7324114   & -0.4401979   &  0.01996978  & -0.6344714   &  0.6088213  \\\\\n",
       "\t -1.6168790   &  1.0798142   & -0.01879495  &  0.520630526 & -0.4806850   & -0.05641142  &  0.1248326   &  0.9686727   & -1.0286267   & 0.42343556   & ⋯            &  0.8131711   & -0.1532983   &  1.0147698   &  1.3584513   & -0.3851940   & -1.4363937   &  2.2981059   & -0.52332262  & -0.4727891   & -0.3214211  \\\\\n",
       "\t -0.7509695   & -0.4649226   & -0.58635312  &  0.332573275 & -0.4492749   & -0.99145789  & -0.9686727   &  1.3153907   & -1.8606552   & 0.97621143   & ⋯            & -1.0968036   & -0.2930983   &  0.6930393   & -0.1795008   &  0.7232265   &  0.6102357   &  0.3214211   & -0.45187512  &  0.7447550   & -0.2955515  \\\\\n",
       "\t  2.1121141   &  0.8115373   & -0.27841536  & -0.458389109 &  0.3851940   & -1.45645419  &  0.3877253   &  0.5504575   & -2.1827609   & 0.04935386   & ⋯            &  0.1354942   &  0.7509695   &  0.8362770   & -0.6605461   &  0.3902592   & -0.0752463   &  0.1723432   & -1.00304572  & -2.4104576   &  1.5628491  \\\\\n",
       "\\end{tabular}\n"
      ],
      "text/markdown": [
       "\n",
       "| -1.6713229   |  0.8581396   |  0.88042027  |  1.145242504 |  0.4675416   | -0.73241136  |  0.9593260   | -2.2981059   | -0.2274727   | 1.62562248   | ⋯            |  0.9137947   | -1.1407280   | -0.6402280   |  0.7856843   |  0.9876248   | -0.2857491   |  0.2226537   | -1.20134927  | -2.6341483   |  0.6781809   | \n",
       "| -0.1283848   |  0.1962383   |  0.46754156  |  0.001174615 | -0.6634708   | -0.98762476  | -0.8180855   |  0.2710965   |  0.3140086   | 1.37337921   | ⋯            | -0.1283848   | -1.1141156   |  0.9372285   |  1.0714353   | -0.8312885   | -1.8878652   |  1.2258804   |  0.95746665  | -1.4771186   | -1.3438201   | \n",
       "| -1.4771186   | -0.9686727   | -0.12720060  | -0.826320504 |  1.1362366   | -0.74785859  | -1.0226640   | -0.6767034   | -0.7110739   | 0.92815517   | ⋯            | -1.0946626   | -0.6489029   | -0.5152576   | -2.1580000   |  1.1054181   |  0.7324114   | -0.4401979   |  0.01996978  | -0.6344714   |  0.6088213   | \n",
       "| -1.6168790   |  1.0798142   | -0.01879495  |  0.520630526 | -0.4806850   | -0.05641142  |  0.1248326   |  0.9686727   | -1.0286267   | 0.42343556   | ⋯            |  0.8131711   | -0.1532983   |  1.0147698   |  1.3584513   | -0.3851940   | -1.4363937   |  2.2981059   | -0.52332262  | -0.4727891   | -0.3214211   | \n",
       "| -0.7509695   | -0.4649226   | -0.58635312  |  0.332573275 | -0.4492749   | -0.99145789  | -0.9686727   |  1.3153907   | -1.8606552   | 0.97621143   | ⋯            | -1.0968036   | -0.2930983   |  0.6930393   | -0.1795008   |  0.7232265   |  0.6102357   |  0.3214211   | -0.45187512  |  0.7447550   | -0.2955515   | \n",
       "|  2.1121141   |  0.8115373   | -0.27841536  | -0.458389109 |  0.3851940   | -1.45645419  |  0.3877253   |  0.5504575   | -2.1827609   | 0.04935386   | ⋯            |  0.1354942   |  0.7509695   |  0.8362770   | -0.6605461   |  0.3902592   | -0.0752463   |  0.1723432   | -1.00304572  | -2.4104576   |  1.5628491   | \n",
       "\n",
       "\n"
      ],
      "text/plain": [
       "     [,1]       [,2]       [,3]        [,4]         [,5]       [,6]       \n",
       "[1,] -1.6713229  0.8581396  0.88042027  1.145242504  0.4675416 -0.73241136\n",
       "[2,] -0.1283848  0.1962383  0.46754156  0.001174615 -0.6634708 -0.98762476\n",
       "[3,] -1.4771186 -0.9686727 -0.12720060 -0.826320504  1.1362366 -0.74785859\n",
       "[4,] -1.6168790  1.0798142 -0.01879495  0.520630526 -0.4806850 -0.05641142\n",
       "[5,] -0.7509695 -0.4649226 -0.58635312  0.332573275 -0.4492749 -0.99145789\n",
       "[6,]  2.1121141  0.8115373 -0.27841536 -0.458389109  0.3851940 -1.45645419\n",
       "     [,7]       [,8]       [,9]       [,10]      [,11] [,12]      [,13]     \n",
       "[1,]  0.9593260 -2.2981059 -0.2274727 1.62562248 ⋯      0.9137947 -1.1407280\n",
       "[2,] -0.8180855  0.2710965  0.3140086 1.37337921 ⋯     -0.1283848 -1.1141156\n",
       "[3,] -1.0226640 -0.6767034 -0.7110739 0.92815517 ⋯     -1.0946626 -0.6489029\n",
       "[4,]  0.1248326  0.9686727 -1.0286267 0.42343556 ⋯      0.8131711 -0.1532983\n",
       "[5,] -0.9686727  1.3153907 -1.8606552 0.97621143 ⋯     -1.0968036 -0.2930983\n",
       "[6,]  0.3877253  0.5504575 -2.1827609 0.04935386 ⋯      0.1354942  0.7509695\n",
       "     [,14]      [,15]      [,16]      [,17]      [,18]      [,19]      \n",
       "[1,] -0.6402280  0.7856843  0.9876248 -0.2857491  0.2226537 -1.20134927\n",
       "[2,]  0.9372285  1.0714353 -0.8312885 -1.8878652  1.2258804  0.95746665\n",
       "[3,] -0.5152576 -2.1580000  1.1054181  0.7324114 -0.4401979  0.01996978\n",
       "[4,]  1.0147698  1.3584513 -0.3851940 -1.4363937  2.2981059 -0.52332262\n",
       "[5,]  0.6930393 -0.1795008  0.7232265  0.6102357  0.3214211 -0.45187512\n",
       "[6,]  0.8362770 -0.6605461  0.3902592 -0.0752463  0.1723432 -1.00304572\n",
       "     [,20]      [,21]     \n",
       "[1,] -2.6341483  0.6781809\n",
       "[2,] -1.4771186 -1.3438201\n",
       "[3,] -0.6344714  0.6088213\n",
       "[4,] -0.4727891 -0.3214211\n",
       "[5,]  0.7447550 -0.2955515\n",
       "[6,] -2.4104576  1.5628491"
      ]
     },
     "metadata": {},
     "output_type": "display_data"
    }
   ],
   "source": [
    "# per gene inverse normalization\n",
    "qnormed <- t(apply(normed,1,function(x) qnorm((rank(x)-0.5)/length(x))))\n",
    "head(qnormed)"
   ]
  },
  {
   "cell_type": "code",
   "execution_count": 29,
   "metadata": {},
   "outputs": [
    {
     "name": "stdout",
     "output_type": "stream",
     "text": [
      "[1] 0\n",
      "[1] 0\n"
     ]
    }
   ],
   "source": [
    "# check for NA\n",
    "print(sum(is.na(qnormed)))\n",
    "\n",
    "# check for inf\n",
    "print(sum(is.infinite(qnormed)))"
   ]
  },
  {
   "cell_type": "code",
   "execution_count": 30,
   "metadata": {},
   "outputs": [
    {
     "data": {
      "text/html": [
       "<ol class=list-inline>\n",
       "\t<li>18879</li>\n",
       "\t<li>1067</li>\n",
       "</ol>\n"
      ],
      "text/latex": [
       "\\begin{enumerate*}\n",
       "\\item 18879\n",
       "\\item 1067\n",
       "\\end{enumerate*}\n"
      ],
      "text/markdown": [
       "1. 18879\n",
       "2. 1067\n",
       "\n",
       "\n"
      ],
      "text/plain": [
       "[1] 18879  1067"
      ]
     },
     "metadata": {},
     "output_type": "display_data"
    }
   ],
   "source": [
    "dim(qnormed)"
   ]
  },
  {
   "cell_type": "markdown",
   "metadata": {},
   "source": [
    "### Reparse with col/row info"
   ]
  },
  {
   "cell_type": "code",
   "execution_count": 31,
   "metadata": {},
   "outputs": [],
   "source": [
    "# reassign column names\n",
    "qnormed_df <- as.data.frame(qnormed)\n",
    "colnames(qnormed_df) <- colnames(expr)[-c(1,2,3,4)]"
   ]
  },
  {
   "cell_type": "code",
   "execution_count": 32,
   "metadata": {},
   "outputs": [],
   "source": [
    "# add gene/chr/pos information\n",
    "log2_qnormed_df <- cbind(expr[,1:4],qnormed_df, deparse.level = 1, stringsAsFactors = FALSE)"
   ]
  },
  {
   "cell_type": "code",
   "execution_count": 33,
   "metadata": {},
   "outputs": [
    {
     "data": {
      "text/html": [
       "<table>\n",
       "<thead><tr><th scope=col>gene</th><th scope=col>chr</th><th scope=col>start</th><th scope=col>end</th><th scope=col>TCGA-GM-A2DO</th><th scope=col>TCGA-OL-A6VQ</th><th scope=col>TCGA-E9-A295</th><th scope=col>TCGA-A2-A0YL</th><th scope=col>TCGA-AQ-A54O</th><th scope=col>TCGA-BH-A0E7</th><th scope=col>⋯</th><th scope=col>TCGA-OL-A5RV</th><th scope=col>TCGA-AR-A1AX</th><th scope=col>TCGA-D8-A27N</th><th scope=col>TCGA-A8-A08C</th><th scope=col>TCGA-E2-A150</th><th scope=col>TCGA-LL-A8F5</th><th scope=col>TCGA-AQ-A1H3</th><th scope=col>TCGA-A2-A1FW</th><th scope=col>TCGA-B6-A0X5</th><th scope=col>TCGA-S3-AA17</th></tr></thead>\n",
       "<tbody>\n",
       "\t<tr><td>ENSG00000000003</td><td>X              </td><td> 99888438      </td><td> 99894988      </td><td>-1.6713229     </td><td> 0.8581396     </td><td> 0.88042027    </td><td> 1.145242504   </td><td> 0.4675416     </td><td>-0.73241136    </td><td>⋯              </td><td> 0.9137947     </td><td>-1.1407280     </td><td>-0.6402280     </td><td> 0.7856843     </td><td> 0.9876248     </td><td>-0.2857491     </td><td> 0.2226537     </td><td>-1.20134927    </td><td>-2.6341483     </td><td> 0.6781809     </td></tr>\n",
       "\t<tr><td>ENSG00000000005</td><td>X              </td><td> 99848620      </td><td> 99852528      </td><td>-0.1283848     </td><td> 0.1962383     </td><td> 0.46754156    </td><td> 0.001174615   </td><td>-0.6634708     </td><td>-0.98762476    </td><td>⋯              </td><td>-0.1283848     </td><td>-1.1141156     </td><td> 0.9372285     </td><td> 1.0714353     </td><td>-0.8312885     </td><td>-1.8878652     </td><td> 1.2258804     </td><td> 0.95746665    </td><td>-1.4771186     </td><td>-1.3438201     </td></tr>\n",
       "\t<tr><td>ENSG00000000419</td><td>20             </td><td> 49552684      </td><td> 49575069      </td><td>-1.4771186     </td><td>-0.9686727     </td><td>-0.12720060    </td><td>-0.826320504   </td><td> 1.1362366     </td><td>-0.74785859    </td><td>⋯              </td><td>-1.0946626     </td><td>-0.6489029     </td><td>-0.5152576     </td><td>-2.1580000     </td><td> 1.1054181     </td><td> 0.7324114     </td><td>-0.4401979     </td><td> 0.01996978    </td><td>-0.6344714     </td><td> 0.6088213     </td></tr>\n",
       "\t<tr><td>ENSG00000000457</td><td>1              </td><td>169828259      </td><td>169863093      </td><td>-1.6168790     </td><td> 1.0798142     </td><td>-0.01879495    </td><td> 0.520630526   </td><td>-0.4806850     </td><td>-0.05641142    </td><td>⋯              </td><td> 0.8131711     </td><td>-0.1532983     </td><td> 1.0147698     </td><td> 1.3584513     </td><td>-0.3851940     </td><td>-1.4363937     </td><td> 2.2981059     </td><td>-0.52332262    </td><td>-0.4727891     </td><td>-0.3214211     </td></tr>\n",
       "\t<tr><td>ENSG00000000460</td><td>1              </td><td>169764549      </td><td>169823221      </td><td>-0.7509695     </td><td>-0.4649226     </td><td>-0.58635312    </td><td> 0.332573275   </td><td>-0.4492749     </td><td>-0.99145789    </td><td>⋯              </td><td>-1.0968036     </td><td>-0.2930983     </td><td> 0.6930393     </td><td>-0.1795008     </td><td> 0.7232265     </td><td> 0.6102357     </td><td> 0.3214211     </td><td>-0.45187512    </td><td> 0.7447550     </td><td>-0.2955515     </td></tr>\n",
       "\t<tr><td>ENSG00000000938</td><td>1              </td><td> 27949917      </td><td> 27952751      </td><td> 2.1121141     </td><td> 0.8115373     </td><td>-0.27841536    </td><td>-0.458389109   </td><td> 0.3851940     </td><td>-1.45645419    </td><td>⋯              </td><td> 0.1354942     </td><td> 0.7509695     </td><td> 0.8362770     </td><td>-0.6605461     </td><td> 0.3902592     </td><td>-0.0752463     </td><td> 0.1723432     </td><td>-1.00304572    </td><td>-2.4104576     </td><td> 1.5628491     </td></tr>\n",
       "</tbody>\n",
       "</table>\n"
      ],
      "text/latex": [
       "\\begin{tabular}{r|lllllllllllllllllllllllllllllllllllllllllllllllllllllllllllllllllllllllllllllllllllllllllllllllllllllllllllllllllllllllllllllllllllllllllllllllllllllllllllllllllllllllllllllllllllllllllllllllllllllllllllllllllllllllllllllllllllllllllllllllllllllllllllllllllllllllllllllllllllllllllllllllllllllllllllllllllllllllllllllllllllllllllllllllllllllllllllllllllllllllllllllllllllllllllllllllllllllllllllllllllllllllllllllllllllllllllllllllllllllllllllllllllllllllllllllllllllllllllllllllllllllllllllllllllllllllllllllllllllllllllllllllllllllllllllllllllllllllllllllllllllllllllllllllllllllllllllllllllllllllllllllllllllllllllllllllllllllllllllllllllllllllllllllllllllllllllllllllllllllllllllllllllllllllllllllllllllllllllllllllllllllllllllllllllllllllllllllllllllllllllllllllllllllllllllllllllllllllllllllllllllllllllllllllllllllllllllllllllllllllllllllllllllllllllllllllllllllllllllllllllllllllllllllllllllllllllllllllllllllllllllllllllllllllllllllllllllllllllllllllllllllllllllllllllllllllllllllllllllllllllllllllllllllllllllllllllllllllllllllllllllllllllllllllllllllllllllllll}\n",
       " gene & chr & start & end & TCGA-GM-A2DO & TCGA-OL-A6VQ & TCGA-E9-A295 & TCGA-A2-A0YL & TCGA-AQ-A54O & TCGA-BH-A0E7 & ⋯ & TCGA-OL-A5RV & TCGA-AR-A1AX & TCGA-D8-A27N & TCGA-A8-A08C & TCGA-E2-A150 & TCGA-LL-A8F5 & TCGA-AQ-A1H3 & TCGA-A2-A1FW & TCGA-B6-A0X5 & TCGA-S3-AA17\\\\\n",
       "\\hline\n",
       "\t ENSG00000000003 & X               &  99888438       &  99894988       & -1.6713229      &  0.8581396      &  0.88042027     &  1.145242504    &  0.4675416      & -0.73241136     & ⋯               &  0.9137947      & -1.1407280      & -0.6402280      &  0.7856843      &  0.9876248      & -0.2857491      &  0.2226537      & -1.20134927     & -2.6341483      &  0.6781809     \\\\\n",
       "\t ENSG00000000005 & X               &  99848620       &  99852528       & -0.1283848      &  0.1962383      &  0.46754156     &  0.001174615    & -0.6634708      & -0.98762476     & ⋯               & -0.1283848      & -1.1141156      &  0.9372285      &  1.0714353      & -0.8312885      & -1.8878652      &  1.2258804      &  0.95746665     & -1.4771186      & -1.3438201     \\\\\n",
       "\t ENSG00000000419 & 20              &  49552684       &  49575069       & -1.4771186      & -0.9686727      & -0.12720060     & -0.826320504    &  1.1362366      & -0.74785859     & ⋯               & -1.0946626      & -0.6489029      & -0.5152576      & -2.1580000      &  1.1054181      &  0.7324114      & -0.4401979      &  0.01996978     & -0.6344714      &  0.6088213     \\\\\n",
       "\t ENSG00000000457 & 1               & 169828259       & 169863093       & -1.6168790      &  1.0798142      & -0.01879495     &  0.520630526    & -0.4806850      & -0.05641142     & ⋯               &  0.8131711      & -0.1532983      &  1.0147698      &  1.3584513      & -0.3851940      & -1.4363937      &  2.2981059      & -0.52332262     & -0.4727891      & -0.3214211     \\\\\n",
       "\t ENSG00000000460 & 1               & 169764549       & 169823221       & -0.7509695      & -0.4649226      & -0.58635312     &  0.332573275    & -0.4492749      & -0.99145789     & ⋯               & -1.0968036      & -0.2930983      &  0.6930393      & -0.1795008      &  0.7232265      &  0.6102357      &  0.3214211      & -0.45187512     &  0.7447550      & -0.2955515     \\\\\n",
       "\t ENSG00000000938 & 1               &  27949917       &  27952751       &  2.1121141      &  0.8115373      & -0.27841536     & -0.458389109    &  0.3851940      & -1.45645419     & ⋯               &  0.1354942      &  0.7509695      &  0.8362770      & -0.6605461      &  0.3902592      & -0.0752463      &  0.1723432      & -1.00304572     & -2.4104576      &  1.5628491     \\\\\n",
       "\\end{tabular}\n"
      ],
      "text/markdown": [
       "\n",
       "gene | chr | start | end | TCGA-GM-A2DO | TCGA-OL-A6VQ | TCGA-E9-A295 | TCGA-A2-A0YL | TCGA-AQ-A54O | TCGA-BH-A0E7 | ⋯ | TCGA-OL-A5RV | TCGA-AR-A1AX | TCGA-D8-A27N | TCGA-A8-A08C | TCGA-E2-A150 | TCGA-LL-A8F5 | TCGA-AQ-A1H3 | TCGA-A2-A1FW | TCGA-B6-A0X5 | TCGA-S3-AA17 | \n",
       "|---|---|---|---|---|---|\n",
       "| ENSG00000000003 | X               |  99888438       |  99894988       | -1.6713229      |  0.8581396      |  0.88042027     |  1.145242504    |  0.4675416      | -0.73241136     | ⋯               |  0.9137947      | -1.1407280      | -0.6402280      |  0.7856843      |  0.9876248      | -0.2857491      |  0.2226537      | -1.20134927     | -2.6341483      |  0.6781809      | \n",
       "| ENSG00000000005 | X               |  99848620       |  99852528       | -0.1283848      |  0.1962383      |  0.46754156     |  0.001174615    | -0.6634708      | -0.98762476     | ⋯               | -0.1283848      | -1.1141156      |  0.9372285      |  1.0714353      | -0.8312885      | -1.8878652      |  1.2258804      |  0.95746665     | -1.4771186      | -1.3438201      | \n",
       "| ENSG00000000419 | 20              |  49552684       |  49575069       | -1.4771186      | -0.9686727      | -0.12720060     | -0.826320504    |  1.1362366      | -0.74785859     | ⋯               | -1.0946626      | -0.6489029      | -0.5152576      | -2.1580000      |  1.1054181      |  0.7324114      | -0.4401979      |  0.01996978     | -0.6344714      |  0.6088213      | \n",
       "| ENSG00000000457 | 1               | 169828259       | 169863093       | -1.6168790      |  1.0798142      | -0.01879495     |  0.520630526    | -0.4806850      | -0.05641142     | ⋯               |  0.8131711      | -0.1532983      |  1.0147698      |  1.3584513      | -0.3851940      | -1.4363937      |  2.2981059      | -0.52332262     | -0.4727891      | -0.3214211      | \n",
       "| ENSG00000000460 | 1               | 169764549       | 169823221       | -0.7509695      | -0.4649226      | -0.58635312     |  0.332573275    | -0.4492749      | -0.99145789     | ⋯               | -1.0968036      | -0.2930983      |  0.6930393      | -0.1795008      |  0.7232265      |  0.6102357      |  0.3214211      | -0.45187512     |  0.7447550      | -0.2955515      | \n",
       "| ENSG00000000938 | 1               |  27949917       |  27952751       |  2.1121141      |  0.8115373      | -0.27841536     | -0.458389109    |  0.3851940      | -1.45645419     | ⋯               |  0.1354942      |  0.7509695      |  0.8362770      | -0.6605461      |  0.3902592      | -0.0752463      |  0.1723432      | -1.00304572     | -2.4104576      |  1.5628491      | \n",
       "\n",
       "\n"
      ],
      "text/plain": [
       "  gene            chr start     end       TCGA-GM-A2DO TCGA-OL-A6VQ\n",
       "1 ENSG00000000003 X    99888438  99894988 -1.6713229    0.8581396  \n",
       "2 ENSG00000000005 X    99848620  99852528 -0.1283848    0.1962383  \n",
       "3 ENSG00000000419 20   49552684  49575069 -1.4771186   -0.9686727  \n",
       "4 ENSG00000000457 1   169828259 169863093 -1.6168790    1.0798142  \n",
       "5 ENSG00000000460 1   169764549 169823221 -0.7509695   -0.4649226  \n",
       "6 ENSG00000000938 1    27949917  27952751  2.1121141    0.8115373  \n",
       "  TCGA-E9-A295 TCGA-A2-A0YL TCGA-AQ-A54O TCGA-BH-A0E7 ⋯ TCGA-OL-A5RV\n",
       "1  0.88042027   1.145242504  0.4675416   -0.73241136  ⋯  0.9137947  \n",
       "2  0.46754156   0.001174615 -0.6634708   -0.98762476  ⋯ -0.1283848  \n",
       "3 -0.12720060  -0.826320504  1.1362366   -0.74785859  ⋯ -1.0946626  \n",
       "4 -0.01879495   0.520630526 -0.4806850   -0.05641142  ⋯  0.8131711  \n",
       "5 -0.58635312   0.332573275 -0.4492749   -0.99145789  ⋯ -1.0968036  \n",
       "6 -0.27841536  -0.458389109  0.3851940   -1.45645419  ⋯  0.1354942  \n",
       "  TCGA-AR-A1AX TCGA-D8-A27N TCGA-A8-A08C TCGA-E2-A150 TCGA-LL-A8F5 TCGA-AQ-A1H3\n",
       "1 -1.1407280   -0.6402280    0.7856843    0.9876248   -0.2857491    0.2226537  \n",
       "2 -1.1141156    0.9372285    1.0714353   -0.8312885   -1.8878652    1.2258804  \n",
       "3 -0.6489029   -0.5152576   -2.1580000    1.1054181    0.7324114   -0.4401979  \n",
       "4 -0.1532983    1.0147698    1.3584513   -0.3851940   -1.4363937    2.2981059  \n",
       "5 -0.2930983    0.6930393   -0.1795008    0.7232265    0.6102357    0.3214211  \n",
       "6  0.7509695    0.8362770   -0.6605461    0.3902592   -0.0752463    0.1723432  \n",
       "  TCGA-A2-A1FW TCGA-B6-A0X5 TCGA-S3-AA17\n",
       "1 -1.20134927  -2.6341483    0.6781809  \n",
       "2  0.95746665  -1.4771186   -1.3438201  \n",
       "3  0.01996978  -0.6344714    0.6088213  \n",
       "4 -0.52332262  -0.4727891   -0.3214211  \n",
       "5 -0.45187512   0.7447550   -0.2955515  \n",
       "6 -1.00304572  -2.4104576    1.5628491  "
      ]
     },
     "metadata": {},
     "output_type": "display_data"
    }
   ],
   "source": [
    "head(log2_qnormed_df)"
   ]
  },
  {
   "cell_type": "code",
   "execution_count": 34,
   "metadata": {},
   "outputs": [
    {
     "data": {
      "text/html": [
       "<ol class=list-inline>\n",
       "\t<li>'X'</li>\n",
       "\t<li>'20'</li>\n",
       "\t<li>'1'</li>\n",
       "\t<li>'6'</li>\n",
       "\t<li>'3'</li>\n",
       "\t<li>'7'</li>\n",
       "\t<li>'12'</li>\n",
       "\t<li>'11'</li>\n",
       "\t<li>'4'</li>\n",
       "\t<li>'17'</li>\n",
       "\t<li>'2'</li>\n",
       "\t<li>'16'</li>\n",
       "\t<li>'8'</li>\n",
       "\t<li>'19'</li>\n",
       "\t<li>'9'</li>\n",
       "\t<li>'13'</li>\n",
       "\t<li>'14'</li>\n",
       "\t<li>'5'</li>\n",
       "\t<li>'22'</li>\n",
       "\t<li>'Y'</li>\n",
       "\t<li>'10'</li>\n",
       "\t<li>'18'</li>\n",
       "\t<li>'15'</li>\n",
       "\t<li>'21'</li>\n",
       "\t<li>'M'</li>\n",
       "</ol>\n"
      ],
      "text/latex": [
       "\\begin{enumerate*}\n",
       "\\item 'X'\n",
       "\\item '20'\n",
       "\\item '1'\n",
       "\\item '6'\n",
       "\\item '3'\n",
       "\\item '7'\n",
       "\\item '12'\n",
       "\\item '11'\n",
       "\\item '4'\n",
       "\\item '17'\n",
       "\\item '2'\n",
       "\\item '16'\n",
       "\\item '8'\n",
       "\\item '19'\n",
       "\\item '9'\n",
       "\\item '13'\n",
       "\\item '14'\n",
       "\\item '5'\n",
       "\\item '22'\n",
       "\\item 'Y'\n",
       "\\item '10'\n",
       "\\item '18'\n",
       "\\item '15'\n",
       "\\item '21'\n",
       "\\item 'M'\n",
       "\\end{enumerate*}\n"
      ],
      "text/markdown": [
       "1. 'X'\n",
       "2. '20'\n",
       "3. '1'\n",
       "4. '6'\n",
       "5. '3'\n",
       "6. '7'\n",
       "7. '12'\n",
       "8. '11'\n",
       "9. '4'\n",
       "10. '17'\n",
       "11. '2'\n",
       "12. '16'\n",
       "13. '8'\n",
       "14. '19'\n",
       "15. '9'\n",
       "16. '13'\n",
       "17. '14'\n",
       "18. '5'\n",
       "19. '22'\n",
       "20. 'Y'\n",
       "21. '10'\n",
       "22. '18'\n",
       "23. '15'\n",
       "24. '21'\n",
       "25. 'M'\n",
       "\n",
       "\n"
      ],
      "text/plain": [
       " [1] \"X\"  \"20\" \"1\"  \"6\"  \"3\"  \"7\"  \"12\" \"11\" \"4\"  \"17\" \"2\"  \"16\" \"8\"  \"19\" \"9\" \n",
       "[16] \"13\" \"14\" \"5\"  \"22\" \"Y\"  \"10\" \"18\" \"15\" \"21\" \"M\" "
      ]
     },
     "metadata": {},
     "output_type": "display_data"
    }
   ],
   "source": [
    "unique(log2_qnormed_df$chr)"
   ]
  },
  {
   "cell_type": "code",
   "execution_count": 35,
   "metadata": {},
   "outputs": [
    {
     "data": {
      "text/html": [
       "<ol class=list-inline>\n",
       "\t<li>18113</li>\n",
       "\t<li>1071</li>\n",
       "</ol>\n"
      ],
      "text/latex": [
       "\\begin{enumerate*}\n",
       "\\item 18113\n",
       "\\item 1071\n",
       "\\end{enumerate*}\n"
      ],
      "text/markdown": [
       "1. 18113\n",
       "2. 1071\n",
       "\n",
       "\n"
      ],
      "text/plain": [
       "[1] 18113  1071"
      ]
     },
     "metadata": {},
     "output_type": "display_data"
    }
   ],
   "source": [
    "# remove chrs that aren't 1-22\n",
    "filtered_chrs  <- dplyr::filter(log2_qnormed_df, chr %in% as.character(seq(1,22)))\n",
    "dim(filtered_chrs)"
   ]
  },
  {
   "cell_type": "code",
   "execution_count": 36,
   "metadata": {},
   "outputs": [],
   "source": [
    "# write to file\n",
    "write.table(filtered_chrs, file='TCGA-BRCA.ENSG.chr1-22.median-filt.log2RPKM.qnorm.txt', quote=F, sep='\\t', row.names=F)"
   ]
  },
  {
   "cell_type": "code",
   "execution_count": 3,
   "metadata": {},
   "outputs": [
    {
     "data": {
      "text/html": [
       "<table>\n",
       "<thead><tr><th scope=col>gene</th><th scope=col>chr</th><th scope=col>start</th><th scope=col>end</th><th scope=col>TCGA-GM-A2DO</th><th scope=col>TCGA-OL-A6VQ</th><th scope=col>TCGA-E9-A295</th><th scope=col>TCGA-A2-A0YL</th><th scope=col>TCGA-AQ-A54O</th><th scope=col>TCGA-BH-A0E7</th><th scope=col>⋯</th><th scope=col>TCGA-OL-A5RV</th><th scope=col>TCGA-AR-A1AX</th><th scope=col>TCGA-D8-A27N</th><th scope=col>TCGA-A8-A08C</th><th scope=col>TCGA-E2-A150</th><th scope=col>TCGA-LL-A8F5</th><th scope=col>TCGA-AQ-A1H3</th><th scope=col>TCGA-A2-A1FW</th><th scope=col>TCGA-B6-A0X5</th><th scope=col>TCGA-S3-AA17</th></tr></thead>\n",
       "<tbody>\n",
       "\t<tr><td>ENSG00000000419</td><td>20             </td><td> 49552684      </td><td> 49575069      </td><td>-1.4771186     </td><td>-0.9686727     </td><td>-0.12720060    </td><td>-0.8263205     </td><td> 1.1362366     </td><td>-0.74785859    </td><td>⋯              </td><td>-1.0946626     </td><td>-0.6489029     </td><td>-0.51525762    </td><td>-2.1580000     </td><td> 1.10541815    </td><td> 0.7324114     </td><td>-0.4401979     </td><td> 0.01996978    </td><td>-0.6344714     </td><td> 0.6088213     </td></tr>\n",
       "\t<tr><td>ENSG00000000457</td><td> 1             </td><td>169828259      </td><td>169863093      </td><td>-1.6168790     </td><td> 1.0798142     </td><td>-0.01879495    </td><td> 0.5206305     </td><td>-0.4806850     </td><td>-0.05641142    </td><td>⋯              </td><td> 0.8131711     </td><td>-0.1532983     </td><td> 1.01476983    </td><td> 1.3584513     </td><td>-0.38519396    </td><td>-1.4363937     </td><td> 2.2981059     </td><td>-0.52332262    </td><td>-0.4727891     </td><td>-0.3214211     </td></tr>\n",
       "\t<tr><td>ENSG00000000460</td><td> 1             </td><td>169764549      </td><td>169823221      </td><td>-0.7509695     </td><td>-0.4649226     </td><td>-0.58635312    </td><td> 0.3325733     </td><td>-0.4492749     </td><td>-0.99145789    </td><td>⋯              </td><td>-1.0968036     </td><td>-0.2930983     </td><td> 0.69303926    </td><td>-0.1795008     </td><td> 0.72322645    </td><td> 0.6102357     </td><td> 0.3214211     </td><td>-0.45187512    </td><td> 0.7447550     </td><td>-0.2955515     </td></tr>\n",
       "\t<tr><td>ENSG00000000938</td><td> 1             </td><td> 27949917      </td><td> 27952751      </td><td> 2.1121141     </td><td> 0.8115373     </td><td>-0.27841536    </td><td>-0.4583891     </td><td> 0.3851940     </td><td>-1.45645419    </td><td>⋯              </td><td> 0.1354942     </td><td> 0.7509695     </td><td> 0.83627705    </td><td>-0.6605461     </td><td> 0.39025920    </td><td>-0.0752463     </td><td> 0.1723432     </td><td>-1.00304572    </td><td>-2.4104576     </td><td> 1.5628491     </td></tr>\n",
       "\t<tr><td>ENSG00000000971</td><td> 1             </td><td>196706037      </td><td>196710216      </td><td>-0.5586767     </td><td> 1.0631309     </td><td> 1.65262725    </td><td> 1.0069384     </td><td>-2.1580000     </td><td>-1.12732198    </td><td>⋯              </td><td>-0.9819021     </td><td> 0.7603460     </td><td> 0.76978986    </td><td>-0.8961048     </td><td>-0.51794220    </td><td>-0.7262813     </td><td> 0.9281552     </td><td>-0.11182102    </td><td>-1.0714353     </td><td> 0.2565020     </td></tr>\n",
       "\t<tr><td>ENSG00000001036</td><td> 6             </td><td>143823081      </td><td>143832827      </td><td>-0.8666582     </td><td>-0.7186568     </td><td> 1.12289807    </td><td>-0.3325733     </td><td>-1.3153907     </td><td>-0.70805220    </td><td>⋯              </td><td>-1.1941294     </td><td>-0.4170203     </td><td> 0.07995894    </td><td>-0.2833028     </td><td> 0.06582594    </td><td>-0.8180855     </td><td>-0.1902546     </td><td>-1.26151662    </td><td> 2.3323678     </td><td> 0.5573042     </td></tr>\n",
       "</tbody>\n",
       "</table>\n"
      ],
      "text/latex": [
       "\\begin{tabular}{r|lllllllllllllllllllllllllllllllllllllllllllllllllllllllllllllllllllllllllllllllllllllllllllllllllllllllllllllllllllllllllllllllllllllllllllllllllllllllllllllllllllllllllllllllllllllllllllllllllllllllllllllllllllllllllllllllllllllllllllllllllllllllllllllllllllllllllllllllllllllllllllllllllllllllllllllllllllllllllllllllllllllllllllllllllllllllllllllllllllllllllllllllllllllllllllllllllllllllllllllllllllllllllllllllllllllllllllllllllllllllllllllllllllllllllllllllllllllllllllllllllllllllllllllllllllllllllllllllllllllllllllllllllllllllllllllllllllllllllllllllllllllllllllllllllllllllllllllllllllllllllllllllllllllllllllllllllllllllllllllllllllllllllllllllllllllllllllllllllllllllllllllllllllllllllllllllllllllllllllllllllllllllllllllllllllllllllllllllllllllllllllllllllllllllllllllllllllllllllllllllllllllllllllllllllllllllllllllllllllllllllllllllllllllllllllllllllllllllllllllllllllllllllllllllllllllllllllllllllllllllllllllllllllllllllllllllllllllllllllllllllllllllllllllllllllllllllllllllllllllllllllllllllllllllllllllllllllllllllllllllllllllllllllllllllllllllllllllll}\n",
       " gene & chr & start & end & TCGA-GM-A2DO & TCGA-OL-A6VQ & TCGA-E9-A295 & TCGA-A2-A0YL & TCGA-AQ-A54O & TCGA-BH-A0E7 & ⋯ & TCGA-OL-A5RV & TCGA-AR-A1AX & TCGA-D8-A27N & TCGA-A8-A08C & TCGA-E2-A150 & TCGA-LL-A8F5 & TCGA-AQ-A1H3 & TCGA-A2-A1FW & TCGA-B6-A0X5 & TCGA-S3-AA17\\\\\n",
       "\\hline\n",
       "\t ENSG00000000419 & 20              &  49552684       &  49575069       & -1.4771186      & -0.9686727      & -0.12720060     & -0.8263205      &  1.1362366      & -0.74785859     & ⋯               & -1.0946626      & -0.6489029      & -0.51525762     & -2.1580000      &  1.10541815     &  0.7324114      & -0.4401979      &  0.01996978     & -0.6344714      &  0.6088213     \\\\\n",
       "\t ENSG00000000457 &  1              & 169828259       & 169863093       & -1.6168790      &  1.0798142      & -0.01879495     &  0.5206305      & -0.4806850      & -0.05641142     & ⋯               &  0.8131711      & -0.1532983      &  1.01476983     &  1.3584513      & -0.38519396     & -1.4363937      &  2.2981059      & -0.52332262     & -0.4727891      & -0.3214211     \\\\\n",
       "\t ENSG00000000460 &  1              & 169764549       & 169823221       & -0.7509695      & -0.4649226      & -0.58635312     &  0.3325733      & -0.4492749      & -0.99145789     & ⋯               & -1.0968036      & -0.2930983      &  0.69303926     & -0.1795008      &  0.72322645     &  0.6102357      &  0.3214211      & -0.45187512     &  0.7447550      & -0.2955515     \\\\\n",
       "\t ENSG00000000938 &  1              &  27949917       &  27952751       &  2.1121141      &  0.8115373      & -0.27841536     & -0.4583891      &  0.3851940      & -1.45645419     & ⋯               &  0.1354942      &  0.7509695      &  0.83627705     & -0.6605461      &  0.39025920     & -0.0752463      &  0.1723432      & -1.00304572     & -2.4104576      &  1.5628491     \\\\\n",
       "\t ENSG00000000971 &  1              & 196706037       & 196710216       & -0.5586767      &  1.0631309      &  1.65262725     &  1.0069384      & -2.1580000      & -1.12732198     & ⋯               & -0.9819021      &  0.7603460      &  0.76978986     & -0.8961048      & -0.51794220     & -0.7262813      &  0.9281552      & -0.11182102     & -1.0714353      &  0.2565020     \\\\\n",
       "\t ENSG00000001036 &  6              & 143823081       & 143832827       & -0.8666582      & -0.7186568      &  1.12289807     & -0.3325733      & -1.3153907      & -0.70805220     & ⋯               & -1.1941294      & -0.4170203      &  0.07995894     & -0.2833028      &  0.06582594     & -0.8180855      & -0.1902546      & -1.26151662     &  2.3323678      &  0.5573042     \\\\\n",
       "\\end{tabular}\n"
      ],
      "text/markdown": [
       "\n",
       "gene | chr | start | end | TCGA-GM-A2DO | TCGA-OL-A6VQ | TCGA-E9-A295 | TCGA-A2-A0YL | TCGA-AQ-A54O | TCGA-BH-A0E7 | ⋯ | TCGA-OL-A5RV | TCGA-AR-A1AX | TCGA-D8-A27N | TCGA-A8-A08C | TCGA-E2-A150 | TCGA-LL-A8F5 | TCGA-AQ-A1H3 | TCGA-A2-A1FW | TCGA-B6-A0X5 | TCGA-S3-AA17 | \n",
       "|---|---|---|---|---|---|\n",
       "| ENSG00000000419 | 20              |  49552684       |  49575069       | -1.4771186      | -0.9686727      | -0.12720060     | -0.8263205      |  1.1362366      | -0.74785859     | ⋯               | -1.0946626      | -0.6489029      | -0.51525762     | -2.1580000      |  1.10541815     |  0.7324114      | -0.4401979      |  0.01996978     | -0.6344714      |  0.6088213      | \n",
       "| ENSG00000000457 |  1              | 169828259       | 169863093       | -1.6168790      |  1.0798142      | -0.01879495     |  0.5206305      | -0.4806850      | -0.05641142     | ⋯               |  0.8131711      | -0.1532983      |  1.01476983     |  1.3584513      | -0.38519396     | -1.4363937      |  2.2981059      | -0.52332262     | -0.4727891      | -0.3214211      | \n",
       "| ENSG00000000460 |  1              | 169764549       | 169823221       | -0.7509695      | -0.4649226      | -0.58635312     |  0.3325733      | -0.4492749      | -0.99145789     | ⋯               | -1.0968036      | -0.2930983      |  0.69303926     | -0.1795008      |  0.72322645     |  0.6102357      |  0.3214211      | -0.45187512     |  0.7447550      | -0.2955515      | \n",
       "| ENSG00000000938 |  1              |  27949917       |  27952751       |  2.1121141      |  0.8115373      | -0.27841536     | -0.4583891      |  0.3851940      | -1.45645419     | ⋯               |  0.1354942      |  0.7509695      |  0.83627705     | -0.6605461      |  0.39025920     | -0.0752463      |  0.1723432      | -1.00304572     | -2.4104576      |  1.5628491      | \n",
       "| ENSG00000000971 |  1              | 196706037       | 196710216       | -0.5586767      |  1.0631309      |  1.65262725     |  1.0069384      | -2.1580000      | -1.12732198     | ⋯               | -0.9819021      |  0.7603460      |  0.76978986     | -0.8961048      | -0.51794220     | -0.7262813      |  0.9281552      | -0.11182102     | -1.0714353      |  0.2565020      | \n",
       "| ENSG00000001036 |  6              | 143823081       | 143832827       | -0.8666582      | -0.7186568      |  1.12289807     | -0.3325733      | -1.3153907      | -0.70805220     | ⋯               | -1.1941294      | -0.4170203      |  0.07995894     | -0.2833028      |  0.06582594     | -0.8180855      | -0.1902546      | -1.26151662     |  2.3323678      |  0.5573042      | \n",
       "\n",
       "\n"
      ],
      "text/plain": [
       "  gene            chr start     end       TCGA-GM-A2DO TCGA-OL-A6VQ\n",
       "1 ENSG00000000419 20   49552684  49575069 -1.4771186   -0.9686727  \n",
       "2 ENSG00000000457  1  169828259 169863093 -1.6168790    1.0798142  \n",
       "3 ENSG00000000460  1  169764549 169823221 -0.7509695   -0.4649226  \n",
       "4 ENSG00000000938  1   27949917  27952751  2.1121141    0.8115373  \n",
       "5 ENSG00000000971  1  196706037 196710216 -0.5586767    1.0631309  \n",
       "6 ENSG00000001036  6  143823081 143832827 -0.8666582   -0.7186568  \n",
       "  TCGA-E9-A295 TCGA-A2-A0YL TCGA-AQ-A54O TCGA-BH-A0E7 ⋯ TCGA-OL-A5RV\n",
       "1 -0.12720060  -0.8263205    1.1362366   -0.74785859  ⋯ -1.0946626  \n",
       "2 -0.01879495   0.5206305   -0.4806850   -0.05641142  ⋯  0.8131711  \n",
       "3 -0.58635312   0.3325733   -0.4492749   -0.99145789  ⋯ -1.0968036  \n",
       "4 -0.27841536  -0.4583891    0.3851940   -1.45645419  ⋯  0.1354942  \n",
       "5  1.65262725   1.0069384   -2.1580000   -1.12732198  ⋯ -0.9819021  \n",
       "6  1.12289807  -0.3325733   -1.3153907   -0.70805220  ⋯ -1.1941294  \n",
       "  TCGA-AR-A1AX TCGA-D8-A27N TCGA-A8-A08C TCGA-E2-A150 TCGA-LL-A8F5 TCGA-AQ-A1H3\n",
       "1 -0.6489029   -0.51525762  -2.1580000    1.10541815   0.7324114   -0.4401979  \n",
       "2 -0.1532983    1.01476983   1.3584513   -0.38519396  -1.4363937    2.2981059  \n",
       "3 -0.2930983    0.69303926  -0.1795008    0.72322645   0.6102357    0.3214211  \n",
       "4  0.7509695    0.83627705  -0.6605461    0.39025920  -0.0752463    0.1723432  \n",
       "5  0.7603460    0.76978986  -0.8961048   -0.51794220  -0.7262813    0.9281552  \n",
       "6 -0.4170203    0.07995894  -0.2833028    0.06582594  -0.8180855   -0.1902546  \n",
       "  TCGA-A2-A1FW TCGA-B6-A0X5 TCGA-S3-AA17\n",
       "1  0.01996978  -0.6344714    0.6088213  \n",
       "2 -0.52332262  -0.4727891   -0.3214211  \n",
       "3 -0.45187512   0.7447550   -0.2955515  \n",
       "4 -1.00304572  -2.4104576    1.5628491  \n",
       "5 -0.11182102  -1.0714353    0.2565020  \n",
       "6 -1.26151662   2.3323678    0.5573042  "
      ]
     },
     "metadata": {},
     "output_type": "display_data"
    }
   ],
   "source": [
    "expr_for_models <- fread('TCGA-BRCA.ENSG.chr1-22.median-filt.log2RPKM.qnorm.txt')\n",
    "head(expr_for_models)"
   ]
  },
  {
   "cell_type": "code",
   "execution_count": 4,
   "metadata": {},
   "outputs": [
    {
     "data": {
      "text/html": [
       "<ol class=list-inline>\n",
       "\t<li>18113</li>\n",
       "\t<li>1071</li>\n",
       "</ol>\n"
      ],
      "text/latex": [
       "\\begin{enumerate*}\n",
       "\\item 18113\n",
       "\\item 1071\n",
       "\\end{enumerate*}\n"
      ],
      "text/markdown": [
       "1. 18113\n",
       "2. 1071\n",
       "\n",
       "\n"
      ],
      "text/plain": [
       "[1] 18113  1071"
      ]
     },
     "metadata": {},
     "output_type": "display_data"
    }
   ],
   "source": [
    "dim(expr_for_models)"
   ]
  },
  {
   "cell_type": "markdown",
   "metadata": {},
   "source": [
    "### Subset into train/test"
   ]
  },
  {
   "cell_type": "code",
   "execution_count": 5,
   "metadata": {},
   "outputs": [],
   "source": [
    "# subset into test/train data\n",
    "test_patients <- fread('tcga-brca_test_patients.txt',header=F)$V1\n",
    "train_patients <- fread('tcga-brca_train_patients.txt',header=F)$V1\n",
    "\n",
    "# train_mtx <- subset(expr_for_models, select=c('gene','chr','start','end',train_patients))\n",
    "# test_mtx <- subset(expr_for_models, select=c('gene','chr','start','end',test_patients))"
   ]
  },
  {
   "cell_type": "code",
   "execution_count": 40,
   "metadata": {},
   "outputs": [
    {
     "name": "stdout",
     "output_type": "stream",
     "text": [
      "[1] 214\n",
      "[1] 853\n"
     ]
    }
   ],
   "source": [
    "print(length(test_patients))\n",
    "print(length(train_patients))"
   ]
  },
  {
   "cell_type": "code",
   "execution_count": 41,
   "metadata": {},
   "outputs": [
    {
     "name": "stdout",
     "output_type": "stream",
     "text": [
      "[1] 18113   857\n",
      "[1] 18113   218\n"
     ]
    }
   ],
   "source": [
    "print(dim(train_mtx))\n",
    "print(dim(test_mtx))"
   ]
  },
  {
   "cell_type": "code",
   "execution_count": 43,
   "metadata": {},
   "outputs": [],
   "source": [
    "# write test/train to files\n",
    "write.table(train_mtx, file='TCGA-BRCA.ENSG.chr1-22.median-filt.log2RPKM.qnorm.train.txt', quote=F, sep='\\t', row.names=F)\n",
    "write.table(test_mtx, file='TCGA-BRCA.ENSG.chr1-22.median-filt.log2RPKM.qnorm.test.txt', quote=F, sep='\\t', row.names=F)"
   ]
  },
  {
   "cell_type": "code",
   "execution_count": 6,
   "metadata": {},
   "outputs": [],
   "source": [
    "# load test/train matrices\n",
    "train_mtx <- fread('TCGA-BRCA.ENSG.chr1-22.median-filt.log2RPKM.qnorm.train.txt')\n",
    "test_mtx <- fread('TCGA-BRCA.ENSG.chr1-22.median-filt.log2RPKM.qnorm.test.txt')"
   ]
  },
  {
   "cell_type": "code",
   "execution_count": null,
   "metadata": {},
   "outputs": [],
   "source": []
  }
 ],
 "metadata": {
  "kernelspec": {
   "display_name": "R",
   "language": "R",
   "name": "ir"
  },
  "language_info": {
   "codemirror_mode": "r",
   "file_extension": ".r",
   "mimetype": "text/x-r-source",
   "name": "R",
   "pygments_lexer": "r",
   "version": "3.4.3"
  }
 },
 "nbformat": 4,
 "nbformat_minor": 2
}
