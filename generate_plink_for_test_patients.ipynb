{
 "cells": [
  {
   "cell_type": "markdown",
   "metadata": {},
   "source": [
    "This code will generate .bed, .bim, .fam files for the patients in the test set in the windows of each gene in the test expression file"
   ]
  },
  {
   "cell_type": "code",
   "execution_count": 1,
   "metadata": {},
   "outputs": [],
   "source": [
    "# PATH TO DIRECTORY CONTAINING IMPUTED TCGA GENOTYPES\n",
    "TCGA_GENO='/cellar/users/jlz014/Data/TCGA/TCGA_EUR_imputed'"
   ]
  },
  {
   "cell_type": "code",
   "execution_count": null,
   "metadata": {},
   "outputs": [],
   "source": [
    "# PATH TO TEST GENE EXPRESSION MATRIX:\n",
    "PRE_GEXP_DIR='/data/cellardata/users/jlz014/TCGA/expression/'\n",
    "PRE_GEXP=\"TCGA-BRCA.ENSG.chr1-22.median-filt.log2RPKM.qnorm.test.for_predictions.txt\"\n",
    "\n",
    "# PATH TO PREFIX FOR GEUVADIS GENOTYPES SPLIT BY CHROMOSOME\n",
    "# SUBSAMPLE THESE TO THE LDREF SNPS FOR EFFICIENCY\n",
    "PRE_GENO=\"EUR_imputed_females_filtered\"\n",
    "\n",
    "# PATH TO OUTPUT DIRECTORY \n",
    "OUT_DIR=\"./brca_test_patients_tmp_plink\"\n",
    "if [[ ! -e $OUT_DIR ]]; then\n",
    "    mkdir -p $OUT_DIR\n",
    "fi\n",
    "\n",
    "# ROWS IN THE MATRIX TO ANALYZE (FOR BATCHED RUNS)\n",
    "BATCH_START=1\n",
    "BATCH_END=10\n",
    "\n",
    "# make *.ID for gene expression file\n",
    "echo `awk 'NR==1' $PRE_GEXP_DIR$PRE_GEXP` | tr ' ' '\\n' | tail -n+5 > $PRE_GEXP.ID.tmp\n",
    "paste $PRE_GEXP.ID.tmp $PRE_GEXP.ID.tmp | column -s $'\\t' -t > $PRE_GEXP.ID\n",
    "rm $PRE_GEXP.ID.tmp"
   ]
  },
  {
   "cell_type": "code",
   "execution_count": 4,
   "metadata": {},
   "outputs": [
    {
     "name": "stdout",
     "output_type": "stream",
     "text": [
      "TCGA-OL-A5RZ  TCGA-OL-A5RZ\n",
      "TCGA-C8-A27A  TCGA-C8-A27A\n",
      "TCGA-BH-A2L8  TCGA-BH-A2L8\n",
      "TCGA-AR-A5QP  TCGA-AR-A5QP\n",
      "TCGA-E9-A1RE  TCGA-E9-A1RE\n",
      "TCGA-S3-AA0Z  TCGA-S3-AA0Z\n",
      "TCGA-E9-A1R6  TCGA-E9-A1R6\n",
      "TCGA-BH-A0DG  TCGA-BH-A0DG\n",
      "TCGA-AQ-A1H3  TCGA-AQ-A1H3\n",
      "TCGA-BH-A0H0  TCGA-BH-A0H0\n"
     ]
    }
   ],
   "source": [
    "head $PRE_GEXP.ID"
   ]
  },
  {
   "cell_type": "code",
   "execution_count": null,
   "metadata": {},
   "outputs": [],
   "source": [
    "# --- BEGIN SCRIPT:\n",
    "NR=\"${BATCH_START}_${BATCH_END}\"\n",
    "# mkdir $OUT_DIR\n",
    "mkdir --parents $OUT_DIR/1_10\n",
    "\n",
    "cat $PRE_GEXP_DIR$PRE_GEXP | awk -vs=$BATCH_START -ve=$BATCH_END 'NR > s && NR <= e' |  while read PARAM; do\n",
    "# PARAM=`awk 'NR==14808' $PRE_GEXP_DIR$PRE_GEXP`\n",
    "\n",
    "# Get the gene positions +/- 500kb (1MB window)\n",
    "CHR=`echo $PARAM | awk '{ print $2 }'`\n",
    "P0=`echo $PARAM | awk '{ print $3 - 0.5e6 }'`\n",
    "P1=`echo $PARAM | awk '{ print $4 + 0.5e6 }'`\n",
    "GNAME=`echo $PARAM | awk '{ print $1 }'`\n",
    "\n",
    "# # output directory for tmp plink files generated \n",
    "OUT=\"$OUT_DIR/$NR/$PRE_GEXP.$GNAME\"\n",
    "echo $GNAME $CHR $P0 $P1\n",
    "echo $OUT\n",
    "\n",
    "# Pull out the current gene expression phenotype\n",
    "echo $PARAM | tr ' ' '\\n' | tail -n+5 | paste $PRE_GEXP.ID - > $OUT.pheno\n",
    "\n",
    "echo 'running plink'\n",
    "# # Get the locus genotypes for all samples and set current gene expression as the phenotype\n",
    "plink2 --bfile $TCGA_GENO/$PRE_GENO.$CHR --pheno $OUT.pheno --make-bed --out $OUT --keep $OUT.pheno --chr $CHR --from-bp $P0 --to-bp $P1 --extract $TCGA_GENO/$PRE_GENO.$CHR.bim\n",
    "\n",
    "echo 'done'\n",
    "done"
   ]
  }
 ],
 "metadata": {
  "kernelspec": {
   "display_name": "Bash",
   "language": "bash",
   "name": "bash"
  },
  "language_info": {
   "codemirror_mode": "shell",
   "file_extension": ".sh",
   "mimetype": "text/x-sh",
   "name": "bash"
  }
 },
 "nbformat": 4,
 "nbformat_minor": 2
}
