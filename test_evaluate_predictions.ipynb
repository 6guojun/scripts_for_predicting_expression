{
 "cells": [
  {
   "cell_type": "code",
   "execution_count": 44,
   "metadata": {},
   "outputs": [],
   "source": [
    "suppressMessages(library(data.table))\n",
    "suppressMessages(library(dplyr))\n",
    "suppressMessages(library(ggplot2))\n",
    "suppressMessages(library(Cairo))"
   ]
  },
  {
   "cell_type": "code",
   "execution_count": 2,
   "metadata": {},
   "outputs": [],
   "source": [
    "test_expr <- fread('/data/cellardata/users/jlz014/TCGA/expression/TCGA-BRCA.ENSG.chr1-22.median-filt.log2RPKM.qnorm.test.txt')\n",
    "predicted_files <- Sys.glob('/cellar/users/jlz014/fusion_twas-master/TCGA-BRCA_normed_weights/prediction_results/*')\n",
    "predicted_genes <- fread('predicted_genes_ordered.txt',header=F)$V1\n",
    "predicted_genes_files <- fread('predicted_genes_ordered_files.txt',header=F)$V1"
   ]
  },
  {
   "cell_type": "code",
   "execution_count": 33,
   "metadata": {},
   "outputs": [
    {
     "data": {
      "text/html": [
       "'/cellar/users/jlz014/fusion_twas-master/TCGA-BRCA_normed_weights/predicted_genes_ordered.txt'"
      ],
      "text/latex": [
       "'/cellar/users/jlz014/fusion\\_twas-master/TCGA-BRCA\\_normed\\_weights/predicted\\_genes\\_ordered.txt'"
      ],
      "text/markdown": [
       "'/cellar/users/jlz014/fusion_twas-master/TCGA-BRCA_normed_weights/predicted_genes_ordered.txt'"
      ],
      "text/plain": [
       "[1] \"/cellar/users/jlz014/fusion_twas-master/TCGA-BRCA_normed_weights/predicted_genes_ordered.txt\""
      ]
     },
     "metadata": {},
     "output_type": "display_data"
    }
   ],
   "source": [
    "WD <- '/cellar/users/jlz014/fusion_twas-master/TCGA-BRCA_normed_weights'\n",
    "file.path(WD, 'predicted_genes_ordered.txt')"
   ]
  },
  {
   "cell_type": "markdown",
   "metadata": {},
   "source": [
    "# Generate subset of expression data matching order of genes in predicted_genes_ordered.txt"
   ]
  },
  {
   "cell_type": "code",
   "execution_count": 4,
   "metadata": {},
   "outputs": [],
   "source": [
    "# filtered_expr <- filter(test_expr, gene %in% predicted_genes)\n",
    "# head(filtered_expr[match(predicted_genes, filtered_expr$gene),])\n",
    "# write.table(filtered_expr, 'filtered_test_expr_matched_to_predicted_genes.txt',sep='\\t', col.names=T, row.names=F, quote=F)"
   ]
  },
  {
   "cell_type": "code",
   "execution_count": 32,
   "metadata": {},
   "outputs": [
    {
     "data": {
      "text/html": [
       "<table>\n",
       "<thead><tr><th scope=col>gene</th><th scope=col>chr</th><th scope=col>start</th><th scope=col>end</th><th scope=col>TCGA-E9-A1NI</th><th scope=col>TCGA-E9-A22E</th><th scope=col>TCGA-AO-A0J6</th><th scope=col>TCGA-A7-A26F.22</th><th scope=col>TCGA-AO-A129</th><th scope=col>TCGA-E2-A14N</th><th scope=col>⋯</th><th scope=col>TCGA-AC-A2FM</th><th scope=col>TCGA-A8-A08C</th><th scope=col>TCGA-AQ-A1H3</th><th scope=col>TCGA-AO-A12A</th><th scope=col>TCGA-A7-A425</th><th scope=col>TCGA-E2-A14Q</th><th scope=col>TCGA-A7-A0DC.8</th><th scope=col>TCGA-C8-A12O</th><th scope=col>TCGA-AN-A0XR</th><th scope=col>TCGA-E2-A1LS.1</th></tr></thead>\n",
       "<tbody>\n",
       "\t<tr><td>ENSG00000002016</td><td>12             </td><td> 1034628       </td><td> 1042224       </td><td> 0.21329002    </td><td>-1.9592171     </td><td>-2.1022991     </td><td>-1.80142083    </td><td> 1.0131101     </td><td> 0.8455804     </td><td>⋯              </td><td>-1.6031076     </td><td> 0.5575240     </td><td>-0.19391371    </td><td> 0.8487155     </td><td> 1.4324701     </td><td>-1.6300696     </td><td> 1.6788269     </td><td>-0.24325959    </td><td> 1.44895543    </td><td> 0.1450358     </td></tr>\n",
       "\t<tr><td>ENSG00000005471</td><td> 7             </td><td>87092176       </td><td>87109751       </td><td> 0.60594021    </td><td> 1.9349257     </td><td>-1.7656137     </td><td> 0.06940037    </td><td>-0.7944949     </td><td>-0.2065741     </td><td>⋯              </td><td>-1.5122900     </td><td>-0.4144986     </td><td> 0.38681467    </td><td> 0.1998676     </td><td> 0.4667870     </td><td>-0.8816153     </td><td>-0.6758650     </td><td> 0.03796622    </td><td> 1.03780822    </td><td> 0.3077148     </td></tr>\n",
       "\t<tr><td>ENSG00000005801</td><td>11             </td><td> 3392209       </td><td> 3400384       </td><td> 0.02190008    </td><td>-1.3372842     </td><td> 1.2855441     </td><td> 0.41927583    </td><td> 0.9255336     </td><td> 1.4084487     </td><td>⋯              </td><td>-1.5308729     </td><td>-0.5037404     </td><td>-0.66489865    </td><td> 0.8372606     </td><td>-1.3337229     </td><td>-0.1583269     </td><td> 2.0341785     </td><td>-0.28559376    </td><td>-0.06135378    </td><td>-1.0478666     </td></tr>\n",
       "\t<tr><td>ENSG00000006282</td><td>17             </td><td>48628094       </td><td>48629300       </td><td> 0.15389357    </td><td>-0.3161445     </td><td>-0.1406113     </td><td>-1.03905978    </td><td>-2.3644934     </td><td>-2.8721512     </td><td>⋯              </td><td> 0.8320899     </td><td>-0.2613450     </td><td> 0.08770561    </td><td>-1.0747885     </td><td> 0.1325066     </td><td> 0.3844558     </td><td>-0.4798505     </td><td> 0.53464612    </td><td>-0.27648156    </td><td>-0.3092458     </td></tr>\n",
       "\t<tr><td>ENSG00000006453</td><td> 7             </td><td>97984352       </td><td>98029649       </td><td>-1.06187258    </td><td>-0.7706992     </td><td> 1.2625360     </td><td> 1.83182642    </td><td> 0.7186843     </td><td> 0.6164986     </td><td>⋯              </td><td>-0.1354527     </td><td> 0.2886364     </td><td>-0.10383838    </td><td>-0.5609380     </td><td>-1.5285210     </td><td>-0.5626474     </td><td>-0.4137033     </td><td> 1.10385423    </td><td> 0.60594021    </td><td>-2.2318316     </td></tr>\n",
       "\t<tr><td>ENSG00000006788</td><td>17             </td><td>10204182       </td><td>10276322       </td><td> 0.87946412    </td><td> 1.3058215     </td><td>-1.4064833     </td><td> 1.01189140    </td><td> 0.1111801     </td><td>-1.5238425     </td><td>⋯              </td><td>-0.7845260     </td><td>-0.6147341     </td><td> 0.68414330    </td><td> 0.1288256     </td><td> 0.2530456     </td><td> 0.9210620     </td><td> 1.2449164     </td><td> 1.07869842    </td><td>-0.39075091    </td><td>-1.5031912     </td></tr>\n",
       "</tbody>\n",
       "</table>\n"
      ],
      "text/latex": [
       "\\begin{tabular}{r|llllllllllllllllllllllllllllllllllllllllllllllllllllllllllllllllllllllllllllllllllllllllllllllllllllllllllllllllllllllllllllllllllllllllllllllllllllllllllllllllllllllllllllllllllllllllllllllllllllllllllllllllllllllllllllllllllllllllllllllllllllllllllllllllllllllllllllllllllllllllllllllllllllllllllllllllllllllllllllllllllllllllllllllllllllllllllll}\n",
       " gene & chr & start & end & TCGA-E9-A1NI & TCGA-E9-A22E & TCGA-AO-A0J6 & TCGA-A7-A26F.22 & TCGA-AO-A129 & TCGA-E2-A14N & ⋯ & TCGA-AC-A2FM & TCGA-A8-A08C & TCGA-AQ-A1H3 & TCGA-AO-A12A & TCGA-A7-A425 & TCGA-E2-A14Q & TCGA-A7-A0DC.8 & TCGA-C8-A12O & TCGA-AN-A0XR & TCGA-E2-A1LS.1\\\\\n",
       "\\hline\n",
       "\t ENSG00000002016 & 12              &  1034628        &  1042224        &  0.21329002     & -1.9592171      & -2.1022991      & -1.80142083     &  1.0131101      &  0.8455804      & ⋯               & -1.6031076      &  0.5575240      & -0.19391371     &  0.8487155      &  1.4324701      & -1.6300696      &  1.6788269      & -0.24325959     &  1.44895543     &  0.1450358     \\\\\n",
       "\t ENSG00000005471 &  7              & 87092176        & 87109751        &  0.60594021     &  1.9349257      & -1.7656137      &  0.06940037     & -0.7944949      & -0.2065741      & ⋯               & -1.5122900      & -0.4144986      &  0.38681467     &  0.1998676      &  0.4667870      & -0.8816153      & -0.6758650      &  0.03796622     &  1.03780822     &  0.3077148     \\\\\n",
       "\t ENSG00000005801 & 11              &  3392209        &  3400384        &  0.02190008     & -1.3372842      &  1.2855441      &  0.41927583     &  0.9255336      &  1.4084487      & ⋯               & -1.5308729      & -0.5037404      & -0.66489865     &  0.8372606      & -1.3337229      & -0.1583269      &  2.0341785      & -0.28559376     & -0.06135378     & -1.0478666     \\\\\n",
       "\t ENSG00000006282 & 17              & 48628094        & 48629300        &  0.15389357     & -0.3161445      & -0.1406113      & -1.03905978     & -2.3644934      & -2.8721512      & ⋯               &  0.8320899      & -0.2613450      &  0.08770561     & -1.0747885      &  0.1325066      &  0.3844558      & -0.4798505      &  0.53464612     & -0.27648156     & -0.3092458     \\\\\n",
       "\t ENSG00000006453 &  7              & 97984352        & 98029649        & -1.06187258     & -0.7706992      &  1.2625360      &  1.83182642     &  0.7186843      &  0.6164986      & ⋯               & -0.1354527      &  0.2886364      & -0.10383838     & -0.5609380      & -1.5285210      & -0.5626474      & -0.4137033      &  1.10385423     &  0.60594021     & -2.2318316     \\\\\n",
       "\t ENSG00000006788 & 17              & 10204182        & 10276322        &  0.87946412     &  1.3058215      & -1.4064833      &  1.01189140     &  0.1111801      & -1.5238425      & ⋯               & -0.7845260      & -0.6147341      &  0.68414330     &  0.1288256      &  0.2530456      &  0.9210620      &  1.2449164      &  1.07869842     & -0.39075091     & -1.5031912     \\\\\n",
       "\\end{tabular}\n"
      ],
      "text/markdown": [
       "\n",
       "gene | chr | start | end | TCGA-E9-A1NI | TCGA-E9-A22E | TCGA-AO-A0J6 | TCGA-A7-A26F.22 | TCGA-AO-A129 | TCGA-E2-A14N | ⋯ | TCGA-AC-A2FM | TCGA-A8-A08C | TCGA-AQ-A1H3 | TCGA-AO-A12A | TCGA-A7-A425 | TCGA-E2-A14Q | TCGA-A7-A0DC.8 | TCGA-C8-A12O | TCGA-AN-A0XR | TCGA-E2-A1LS.1 | \n",
       "|---|---|---|---|---|---|\n",
       "| ENSG00000002016 | 12              |  1034628        |  1042224        |  0.21329002     | -1.9592171      | -2.1022991      | -1.80142083     |  1.0131101      |  0.8455804      | ⋯               | -1.6031076      |  0.5575240      | -0.19391371     |  0.8487155      |  1.4324701      | -1.6300696      |  1.6788269      | -0.24325959     |  1.44895543     |  0.1450358      | \n",
       "| ENSG00000005471 |  7              | 87092176        | 87109751        |  0.60594021     |  1.9349257      | -1.7656137      |  0.06940037     | -0.7944949      | -0.2065741      | ⋯               | -1.5122900      | -0.4144986      |  0.38681467     |  0.1998676      |  0.4667870      | -0.8816153      | -0.6758650      |  0.03796622     |  1.03780822     |  0.3077148      | \n",
       "| ENSG00000005801 | 11              |  3392209        |  3400384        |  0.02190008     | -1.3372842      |  1.2855441      |  0.41927583     |  0.9255336      |  1.4084487      | ⋯               | -1.5308729      | -0.5037404      | -0.66489865     |  0.8372606      | -1.3337229      | -0.1583269      |  2.0341785      | -0.28559376     | -0.06135378     | -1.0478666      | \n",
       "| ENSG00000006282 | 17              | 48628094        | 48629300        |  0.15389357     | -0.3161445      | -0.1406113      | -1.03905978     | -2.3644934      | -2.8721512      | ⋯               |  0.8320899      | -0.2613450      |  0.08770561     | -1.0747885      |  0.1325066      |  0.3844558      | -0.4798505      |  0.53464612     | -0.27648156     | -0.3092458      | \n",
       "| ENSG00000006453 |  7              | 97984352        | 98029649        | -1.06187258     | -0.7706992      |  1.2625360      |  1.83182642     |  0.7186843      |  0.6164986      | ⋯               | -0.1354527      |  0.2886364      | -0.10383838     | -0.5609380      | -1.5285210      | -0.5626474      | -0.4137033      |  1.10385423     |  0.60594021     | -2.2318316      | \n",
       "| ENSG00000006788 | 17              | 10204182        | 10276322        |  0.87946412     |  1.3058215      | -1.4064833      |  1.01189140     |  0.1111801      | -1.5238425      | ⋯               | -0.7845260      | -0.6147341      |  0.68414330     |  0.1288256      |  0.2530456      |  0.9210620      |  1.2449164      |  1.07869842     | -0.39075091     | -1.5031912      | \n",
       "\n",
       "\n"
      ],
      "text/plain": [
       "  gene            chr start    end      TCGA-E9-A1NI TCGA-E9-A22E TCGA-AO-A0J6\n",
       "1 ENSG00000002016 12   1034628  1042224  0.21329002  -1.9592171   -2.1022991  \n",
       "2 ENSG00000005471  7  87092176 87109751  0.60594021   1.9349257   -1.7656137  \n",
       "3 ENSG00000005801 11   3392209  3400384  0.02190008  -1.3372842    1.2855441  \n",
       "4 ENSG00000006282 17  48628094 48629300  0.15389357  -0.3161445   -0.1406113  \n",
       "5 ENSG00000006453  7  97984352 98029649 -1.06187258  -0.7706992    1.2625360  \n",
       "6 ENSG00000006788 17  10204182 10276322  0.87946412   1.3058215   -1.4064833  \n",
       "  TCGA-A7-A26F.22 TCGA-AO-A129 TCGA-E2-A14N ⋯ TCGA-AC-A2FM TCGA-A8-A08C\n",
       "1 -1.80142083      1.0131101    0.8455804   ⋯ -1.6031076    0.5575240  \n",
       "2  0.06940037     -0.7944949   -0.2065741   ⋯ -1.5122900   -0.4144986  \n",
       "3  0.41927583      0.9255336    1.4084487   ⋯ -1.5308729   -0.5037404  \n",
       "4 -1.03905978     -2.3644934   -2.8721512   ⋯  0.8320899   -0.2613450  \n",
       "5  1.83182642      0.7186843    0.6164986   ⋯ -0.1354527    0.2886364  \n",
       "6  1.01189140      0.1111801   -1.5238425   ⋯ -0.7845260   -0.6147341  \n",
       "  TCGA-AQ-A1H3 TCGA-AO-A12A TCGA-A7-A425 TCGA-E2-A14Q TCGA-A7-A0DC.8\n",
       "1 -0.19391371   0.8487155    1.4324701   -1.6300696    1.6788269    \n",
       "2  0.38681467   0.1998676    0.4667870   -0.8816153   -0.6758650    \n",
       "3 -0.66489865   0.8372606   -1.3337229   -0.1583269    2.0341785    \n",
       "4  0.08770561  -1.0747885    0.1325066    0.3844558   -0.4798505    \n",
       "5 -0.10383838  -0.5609380   -1.5285210   -0.5626474   -0.4137033    \n",
       "6  0.68414330   0.1288256    0.2530456    0.9210620    1.2449164    \n",
       "  TCGA-C8-A12O TCGA-AN-A0XR TCGA-E2-A1LS.1\n",
       "1 -0.24325959   1.44895543   0.1450358    \n",
       "2  0.03796622   1.03780822   0.3077148    \n",
       "3 -0.28559376  -0.06135378  -1.0478666    \n",
       "4  0.53464612  -0.27648156  -0.3092458    \n",
       "5  1.10385423   0.60594021  -2.2318316    \n",
       "6  1.07869842  -0.39075091  -1.5031912    "
      ]
     },
     "metadata": {},
     "output_type": "display_data"
    }
   ],
   "source": [
    "filtered_expr <- fread('filtered_test_expr_matched_to_predicted_genes.txt')\n",
    "head(filtered_expr)"
   ]
  },
  {
   "cell_type": "code",
   "execution_count": 48,
   "metadata": {},
   "outputs": [
    {
     "data": {
      "text/html": [
       "<ol class=list-inline>\n",
       "\t<li>1455</li>\n",
       "\t<li>348</li>\n",
       "</ol>\n"
      ],
      "text/latex": [
       "\\begin{enumerate*}\n",
       "\\item 1455\n",
       "\\item 348\n",
       "\\end{enumerate*}\n"
      ],
      "text/markdown": [
       "1. 1455\n",
       "2. 348\n",
       "\n",
       "\n"
      ],
      "text/plain": [
       "[1] 1455  348"
      ]
     },
     "metadata": {},
     "output_type": "display_data"
    }
   ],
   "source": [
    "dim(filtered_expr)"
   ]
  },
  {
   "cell_type": "markdown",
   "metadata": {},
   "source": [
    "# Compute $R^2$"
   ]
  },
  {
   "cell_type": "code",
   "execution_count": 29,
   "metadata": {},
   "outputs": [],
   "source": [
    "compute_rsq <- function(gene, true_values=filtered_expr, predicted_fh) {\n",
    "    curr <- gene\n",
    "    true <- filter(true_values, gene==curr)\n",
    "    predicted <- fread(predicted_fh)\n",
    "    sub_true <- true[which(colnames(true) %in% predicted$V1)]\n",
    "    sub_true <- sub_true[match(predicted$V1,colnames(sub_true))]\n",
    "    dat <- data.frame(observed=as.numeric(sub_observed[1,]), predicted=as.numeric(predicted$V2), row.names=colnames(sub_observed))\n",
    "    return(summary(lm(observed~predicted,data=dat))$adj.r.squared)\n",
    "}"
   ]
  },
  {
   "cell_type": "code",
   "execution_count": 38,
   "metadata": {},
   "outputs": [
    {
     "data": {
      "text/html": [
       "<table>\n",
       "<thead><tr><th></th><th scope=col>rsq</th></tr></thead>\n",
       "<tbody>\n",
       "\t<tr><th scope=row>ENSG00000124549</th><td>-0.002341487</td></tr>\n",
       "\t<tr><th scope=row>ENSG00000124143</th><td>-0.007069258</td></tr>\n",
       "\t<tr><th scope=row>ENSG00000143552</th><td>-0.007046502</td></tr>\n",
       "\t<tr><th scope=row>ENSG00000124688</th><td>-0.006249311</td></tr>\n",
       "\t<tr><th scope=row>ENSG00000171853</th><td> 0.012622027</td></tr>\n",
       "</tbody>\n",
       "</table>\n"
      ],
      "text/latex": [
       "\\begin{tabular}{r|l}\n",
       "  & rsq\\\\\n",
       "\\hline\n",
       "\tENSG00000124549 & -0.002341487\\\\\n",
       "\tENSG00000124143 & -0.007069258\\\\\n",
       "\tENSG00000143552 & -0.007046502\\\\\n",
       "\tENSG00000124688 & -0.006249311\\\\\n",
       "\tENSG00000171853 &  0.012622027\\\\\n",
       "\\end{tabular}\n"
      ],
      "text/markdown": [
       "\n",
       "| <!--/--> | rsq | \n",
       "|---|---|---|---|---|\n",
       "| ENSG00000124549 | -0.002341487 | \n",
       "| ENSG00000124143 | -0.007069258 | \n",
       "| ENSG00000143552 | -0.007046502 | \n",
       "| ENSG00000124688 | -0.006249311 | \n",
       "| ENSG00000171853 |  0.012622027 | \n",
       "\n",
       "\n"
      ],
      "text/plain": [
       "                rsq         \n",
       "ENSG00000124549 -0.002341487\n",
       "ENSG00000124143 -0.007069258\n",
       "ENSG00000143552 -0.007046502\n",
       "ENSG00000124688 -0.006249311\n",
       "ENSG00000171853  0.012622027"
      ]
     },
     "metadata": {},
     "output_type": "display_data"
    }
   ],
   "source": [
    "rsq <- rep(NA, 5)\n",
    "for (i in 1:5){\n",
    "    gene <- predicted_genes[i]\n",
    "    file <- predicted_genes_files[i]\n",
    "    rsq[i] <- compute_rsq(gene, true_values=filtered_expr, predicted_fh=file)\n",
    "}\n",
    "rsq_df <- as.data.frame(rsq, row.names=predicted_genes[1:5])\n",
    "rsq_df\n",
    "write.table(rsq_df, 'tcga-brca_predictions_rsq.txt',quote=F, col.names=F, sep='\\t')"
   ]
  },
  {
   "cell_type": "markdown",
   "metadata": {},
   "source": [
    "# Test measure Rsq"
   ]
  },
  {
   "cell_type": "code",
   "execution_count": 6,
   "metadata": {},
   "outputs": [],
   "source": [
    "curr_gene <- 'ENSG00000002016'"
   ]
  },
  {
   "cell_type": "code",
   "execution_count": 7,
   "metadata": {},
   "outputs": [
    {
     "data": {
      "text/html": [
       "<table>\n",
       "<thead><tr><th scope=col>gene</th><th scope=col>chr</th><th scope=col>start</th><th scope=col>end</th><th scope=col>TCGA-E9-A1NI</th><th scope=col>TCGA-E9-A22E</th><th scope=col>TCGA-AO-A0J6</th><th scope=col>TCGA-A7-A26F.22</th><th scope=col>TCGA-AO-A129</th><th scope=col>TCGA-E2-A14N</th><th scope=col>⋯</th><th scope=col>TCGA-AC-A2FM</th><th scope=col>TCGA-A8-A08C</th><th scope=col>TCGA-AQ-A1H3</th><th scope=col>TCGA-AO-A12A</th><th scope=col>TCGA-A7-A425</th><th scope=col>TCGA-E2-A14Q</th><th scope=col>TCGA-A7-A0DC.8</th><th scope=col>TCGA-C8-A12O</th><th scope=col>TCGA-AN-A0XR</th><th scope=col>TCGA-E2-A1LS.1</th></tr></thead>\n",
       "<tbody>\n",
       "\t<tr><td>ENSG00000002016</td><td>12             </td><td>1034628        </td><td>1042224        </td><td>0.21329        </td><td>-1.959217      </td><td>-2.102299      </td><td>-1.801421      </td><td>1.01311        </td><td>0.8455804      </td><td>⋯              </td><td>-1.603108      </td><td>0.557524       </td><td>-0.1939137     </td><td>0.8487155      </td><td>1.43247        </td><td>-1.63007       </td><td>1.678827       </td><td>-0.2432596     </td><td>1.448955       </td><td>0.1450358      </td></tr>\n",
       "</tbody>\n",
       "</table>\n"
      ],
      "text/latex": [
       "\\begin{tabular}{r|llllllllllllllllllllllllllllllllllllllllllllllllllllllllllllllllllllllllllllllllllllllllllllllllllllllllllllllllllllllllllllllllllllllllllllllllllllllllllllllllllllllllllllllllllllllllllllllllllllllllllllllllllllllllllllllllllllllllllllllllllllllllllllllllllllllllllllllllllllllllllllllllllllllllllllllllllllllllllllllllllllllllllllllllllllllllllll}\n",
       " gene & chr & start & end & TCGA-E9-A1NI & TCGA-E9-A22E & TCGA-AO-A0J6 & TCGA-A7-A26F.22 & TCGA-AO-A129 & TCGA-E2-A14N & ⋯ & TCGA-AC-A2FM & TCGA-A8-A08C & TCGA-AQ-A1H3 & TCGA-AO-A12A & TCGA-A7-A425 & TCGA-E2-A14Q & TCGA-A7-A0DC.8 & TCGA-C8-A12O & TCGA-AN-A0XR & TCGA-E2-A1LS.1\\\\\n",
       "\\hline\n",
       "\t ENSG00000002016 & 12              & 1034628         & 1042224         & 0.21329         & -1.959217       & -2.102299       & -1.801421       & 1.01311         & 0.8455804       & ⋯               & -1.603108       & 0.557524        & -0.1939137      & 0.8487155       & 1.43247         & -1.63007        & 1.678827        & -0.2432596      & 1.448955        & 0.1450358      \\\\\n",
       "\\end{tabular}\n"
      ],
      "text/markdown": [
       "\n",
       "gene | chr | start | end | TCGA-E9-A1NI | TCGA-E9-A22E | TCGA-AO-A0J6 | TCGA-A7-A26F.22 | TCGA-AO-A129 | TCGA-E2-A14N | ⋯ | TCGA-AC-A2FM | TCGA-A8-A08C | TCGA-AQ-A1H3 | TCGA-AO-A12A | TCGA-A7-A425 | TCGA-E2-A14Q | TCGA-A7-A0DC.8 | TCGA-C8-A12O | TCGA-AN-A0XR | TCGA-E2-A1LS.1 | \n",
       "|---|\n",
       "| ENSG00000002016 | 12              | 1034628         | 1042224         | 0.21329         | -1.959217       | -2.102299       | -1.801421       | 1.01311         | 0.8455804       | ⋯               | -1.603108       | 0.557524        | -0.1939137      | 0.8487155       | 1.43247         | -1.63007        | 1.678827        | -0.2432596      | 1.448955        | 0.1450358       | \n",
       "\n",
       "\n"
      ],
      "text/plain": [
       "  gene            chr start   end     TCGA-E9-A1NI TCGA-E9-A22E TCGA-AO-A0J6\n",
       "1 ENSG00000002016 12  1034628 1042224 0.21329      -1.959217    -2.102299   \n",
       "  TCGA-A7-A26F.22 TCGA-AO-A129 TCGA-E2-A14N ⋯ TCGA-AC-A2FM TCGA-A8-A08C\n",
       "1 -1.801421       1.01311      0.8455804    ⋯ -1.603108    0.557524    \n",
       "  TCGA-AQ-A1H3 TCGA-AO-A12A TCGA-A7-A425 TCGA-E2-A14Q TCGA-A7-A0DC.8\n",
       "1 -0.1939137   0.8487155    1.43247      -1.63007     1.678827      \n",
       "  TCGA-C8-A12O TCGA-AN-A0XR TCGA-E2-A1LS.1\n",
       "1 -0.2432596   1.448955     0.1450358     "
      ]
     },
     "metadata": {},
     "output_type": "display_data"
    }
   ],
   "source": [
    "curr_target <- filter(filtered_expr, gene==curr_gene)\n",
    "curr_target"
   ]
  },
  {
   "cell_type": "code",
   "execution_count": 16,
   "metadata": {},
   "outputs": [],
   "source": [
    "predicted <- fread('prediction_results/ENSG00000002016.predictions.txt')"
   ]
  },
  {
   "cell_type": "code",
   "execution_count": 17,
   "metadata": {},
   "outputs": [
    {
     "data": {
      "text/html": [
       "<table>\n",
       "<thead><tr><th scope=col>V1</th><th scope=col>V2</th></tr></thead>\n",
       "<tbody>\n",
       "\t<tr><td>TCGA-A1-A0SG</td><td>-0.15118534 </td></tr>\n",
       "\t<tr><td>TCGA-A2-A04N</td><td> 0.01393538 </td></tr>\n",
       "\t<tr><td>TCGA-A2-A0D1</td><td>-0.06439425 </td></tr>\n",
       "\t<tr><td>TCGA-A2-A0D2</td><td> 0.00000000 </td></tr>\n",
       "\t<tr><td>TCGA-A2-A0EM</td><td>-0.10744758 </td></tr>\n",
       "\t<tr><td>TCGA-A2-A0ES</td><td> 0.00000000 </td></tr>\n",
       "</tbody>\n",
       "</table>\n"
      ],
      "text/latex": [
       "\\begin{tabular}{r|ll}\n",
       " V1 & V2\\\\\n",
       "\\hline\n",
       "\t TCGA-A1-A0SG & -0.15118534 \\\\\n",
       "\t TCGA-A2-A04N &  0.01393538 \\\\\n",
       "\t TCGA-A2-A0D1 & -0.06439425 \\\\\n",
       "\t TCGA-A2-A0D2 &  0.00000000 \\\\\n",
       "\t TCGA-A2-A0EM & -0.10744758 \\\\\n",
       "\t TCGA-A2-A0ES &  0.00000000 \\\\\n",
       "\\end{tabular}\n"
      ],
      "text/markdown": [
       "\n",
       "V1 | V2 | \n",
       "|---|---|---|---|---|---|\n",
       "| TCGA-A1-A0SG | -0.15118534  | \n",
       "| TCGA-A2-A04N |  0.01393538  | \n",
       "| TCGA-A2-A0D1 | -0.06439425  | \n",
       "| TCGA-A2-A0D2 |  0.00000000  | \n",
       "| TCGA-A2-A0EM | -0.10744758  | \n",
       "| TCGA-A2-A0ES |  0.00000000  | \n",
       "\n",
       "\n"
      ],
      "text/plain": [
       "  V1           V2         \n",
       "1 TCGA-A1-A0SG -0.15118534\n",
       "2 TCGA-A2-A04N  0.01393538\n",
       "3 TCGA-A2-A0D1 -0.06439425\n",
       "4 TCGA-A2-A0D2  0.00000000\n",
       "5 TCGA-A2-A0EM -0.10744758\n",
       "6 TCGA-A2-A0ES  0.00000000"
      ]
     },
     "metadata": {},
     "output_type": "display_data"
    }
   ],
   "source": [
    "head(predicted)"
   ]
  },
  {
   "cell_type": "code",
   "execution_count": 10,
   "metadata": {},
   "outputs": [],
   "source": [
    "sub_observed <- curr_target[which(colnames(curr_target) %in% predicted$V1)]"
   ]
  },
  {
   "cell_type": "code",
   "execution_count": 11,
   "metadata": {},
   "outputs": [
    {
     "data": {
      "text/html": [
       "<table>\n",
       "<thead><tr><th scope=col>TCGA-A1-A0SG</th><th scope=col>TCGA-A2-A04N</th><th scope=col>TCGA-A2-A0D1</th><th scope=col>TCGA-A2-A0D2</th><th scope=col>TCGA-A2-A0EM</th><th scope=col>TCGA-A2-A0ES</th><th scope=col>TCGA-A2-A0EX</th><th scope=col>TCGA-A2-A0YD</th><th scope=col>TCGA-A2-A0YH</th><th scope=col>TCGA-A2-A0YJ</th><th scope=col>⋯</th><th scope=col>TCGA-E9-A249</th><th scope=col>TCGA-EW-A1PG</th><th scope=col>TCGA-EW-A2FV</th><th scope=col>TCGA-GI-A2C8</th><th scope=col>TCGA-GM-A2DN</th><th scope=col>TCGA-GM-A3NW</th><th scope=col>TCGA-GM-A3XG</th><th scope=col>TCGA-GM-A3XN</th><th scope=col>TCGA-LD-A7W6</th><th scope=col>TCGA-Z7-A8R6</th></tr></thead>\n",
       "<tbody>\n",
       "\t<tr><td>-0.5798337</td><td>0.6740316 </td><td>0.8581713 </td><td>-0.8848498</td><td>-0.8055526</td><td>-0.2817942</td><td>-2.000669 </td><td>-0.4336658</td><td>0.09210302</td><td>-0.6630787</td><td>⋯         </td><td>1.188309  </td><td>-0.8372606</td><td>-0.8351896</td><td>-0.8116258</td><td>-0.4449202</td><td>0.4065573 </td><td>-0.2901587</td><td>0.2492789 </td><td>1.474448  </td><td>0.4864129 </td></tr>\n",
       "</tbody>\n",
       "</table>\n"
      ],
      "text/latex": [
       "\\begin{tabular}{r|llllllllllllllllllllllllllllllllllllllllllllllllllllllllllllllllllllllllllllllllllllllllllllllllllllllllllllllllllllllllllllllllllllllllllllll}\n",
       " TCGA-A1-A0SG & TCGA-A2-A04N & TCGA-A2-A0D1 & TCGA-A2-A0D2 & TCGA-A2-A0EM & TCGA-A2-A0ES & TCGA-A2-A0EX & TCGA-A2-A0YD & TCGA-A2-A0YH & TCGA-A2-A0YJ & ⋯ & TCGA-E9-A249 & TCGA-EW-A1PG & TCGA-EW-A2FV & TCGA-GI-A2C8 & TCGA-GM-A2DN & TCGA-GM-A3NW & TCGA-GM-A3XG & TCGA-GM-A3XN & TCGA-LD-A7W6 & TCGA-Z7-A8R6\\\\\n",
       "\\hline\n",
       "\t -0.5798337 & 0.6740316  & 0.8581713  & -0.8848498 & -0.8055526 & -0.2817942 & -2.000669  & -0.4336658 & 0.09210302 & -0.6630787 & ⋯          & 1.188309   & -0.8372606 & -0.8351896 & -0.8116258 & -0.4449202 & 0.4065573  & -0.2901587 & 0.2492789  & 1.474448   & 0.4864129 \\\\\n",
       "\\end{tabular}\n"
      ],
      "text/markdown": [
       "\n",
       "TCGA-A1-A0SG | TCGA-A2-A04N | TCGA-A2-A0D1 | TCGA-A2-A0D2 | TCGA-A2-A0EM | TCGA-A2-A0ES | TCGA-A2-A0EX | TCGA-A2-A0YD | TCGA-A2-A0YH | TCGA-A2-A0YJ | ⋯ | TCGA-E9-A249 | TCGA-EW-A1PG | TCGA-EW-A2FV | TCGA-GI-A2C8 | TCGA-GM-A2DN | TCGA-GM-A3NW | TCGA-GM-A3XG | TCGA-GM-A3XN | TCGA-LD-A7W6 | TCGA-Z7-A8R6 | \n",
       "|---|\n",
       "| -0.5798337 | 0.6740316  | 0.8581713  | -0.8848498 | -0.8055526 | -0.2817942 | -2.000669  | -0.4336658 | 0.09210302 | -0.6630787 | ⋯          | 1.188309   | -0.8372606 | -0.8351896 | -0.8116258 | -0.4449202 | 0.4065573  | -0.2901587 | 0.2492789  | 1.474448   | 0.4864129  | \n",
       "\n",
       "\n"
      ],
      "text/plain": [
       "  TCGA-A1-A0SG TCGA-A2-A04N TCGA-A2-A0D1 TCGA-A2-A0D2 TCGA-A2-A0EM TCGA-A2-A0ES\n",
       "1 -0.5798337   0.6740316    0.8581713    -0.8848498   -0.8055526   -0.2817942  \n",
       "  TCGA-A2-A0EX TCGA-A2-A0YD TCGA-A2-A0YH TCGA-A2-A0YJ ⋯ TCGA-E9-A249\n",
       "1 -2.000669    -0.4336658   0.09210302   -0.6630787   ⋯ 1.188309    \n",
       "  TCGA-EW-A1PG TCGA-EW-A2FV TCGA-GI-A2C8 TCGA-GM-A2DN TCGA-GM-A3NW TCGA-GM-A3XG\n",
       "1 -0.8372606   -0.8351896   -0.8116258   -0.4449202   0.4065573    -0.2901587  \n",
       "  TCGA-GM-A3XN TCGA-LD-A7W6 TCGA-Z7-A8R6\n",
       "1 0.2492789    1.474448     0.4864129   "
      ]
     },
     "metadata": {},
     "output_type": "display_data"
    }
   ],
   "source": [
    "sub_observed <- sub_observed[match(predicted$V1,colnames(sub_observed))]\n",
    "sub_observed"
   ]
  },
  {
   "cell_type": "code",
   "execution_count": 12,
   "metadata": {},
   "outputs": [
    {
     "data": {
      "text/html": [
       "<table>\n",
       "<thead><tr><th></th><th scope=col>observed</th><th scope=col>predicted</th></tr></thead>\n",
       "<tbody>\n",
       "\t<tr><th scope=row>TCGA-A1-A0SG</th><td>-0.5798337 </td><td>-0.15118534</td></tr>\n",
       "\t<tr><th scope=row>TCGA-A2-A04N</th><td> 0.6740316 </td><td> 0.01393538</td></tr>\n",
       "\t<tr><th scope=row>TCGA-A2-A0D1</th><td> 0.8581713 </td><td>-0.06439425</td></tr>\n",
       "\t<tr><th scope=row>TCGA-A2-A0D2</th><td>-0.8848498 </td><td> 0.00000000</td></tr>\n",
       "\t<tr><th scope=row>TCGA-A2-A0EM</th><td>-0.8055526 </td><td>-0.10744758</td></tr>\n",
       "\t<tr><th scope=row>TCGA-A2-A0ES</th><td>-0.2817942 </td><td> 0.00000000</td></tr>\n",
       "</tbody>\n",
       "</table>\n"
      ],
      "text/latex": [
       "\\begin{tabular}{r|ll}\n",
       "  & observed & predicted\\\\\n",
       "\\hline\n",
       "\tTCGA-A1-A0SG & -0.5798337  & -0.15118534\\\\\n",
       "\tTCGA-A2-A04N &  0.6740316  &  0.01393538\\\\\n",
       "\tTCGA-A2-A0D1 &  0.8581713  & -0.06439425\\\\\n",
       "\tTCGA-A2-A0D2 & -0.8848498  &  0.00000000\\\\\n",
       "\tTCGA-A2-A0EM & -0.8055526  & -0.10744758\\\\\n",
       "\tTCGA-A2-A0ES & -0.2817942  &  0.00000000\\\\\n",
       "\\end{tabular}\n"
      ],
      "text/markdown": [
       "\n",
       "| <!--/--> | observed | predicted | \n",
       "|---|---|---|---|---|---|\n",
       "| TCGA-A1-A0SG | -0.5798337  | -0.15118534 | \n",
       "| TCGA-A2-A04N |  0.6740316  |  0.01393538 | \n",
       "| TCGA-A2-A0D1 |  0.8581713  | -0.06439425 | \n",
       "| TCGA-A2-A0D2 | -0.8848498  |  0.00000000 | \n",
       "| TCGA-A2-A0EM | -0.8055526  | -0.10744758 | \n",
       "| TCGA-A2-A0ES | -0.2817942  |  0.00000000 | \n",
       "\n",
       "\n"
      ],
      "text/plain": [
       "             observed   predicted  \n",
       "TCGA-A1-A0SG -0.5798337 -0.15118534\n",
       "TCGA-A2-A04N  0.6740316  0.01393538\n",
       "TCGA-A2-A0D1  0.8581713 -0.06439425\n",
       "TCGA-A2-A0D2 -0.8848498  0.00000000\n",
       "TCGA-A2-A0EM -0.8055526 -0.10744758\n",
       "TCGA-A2-A0ES -0.2817942  0.00000000"
      ]
     },
     "metadata": {},
     "output_type": "display_data"
    }
   ],
   "source": [
    "dat <- data.frame(observed=as.numeric(sub_observed[1,]), predicted=as.numeric(predicted$V2), row.names=colnames(sub_observed))\n",
    "head(dat)"
   ]
  },
  {
   "cell_type": "code",
   "execution_count": 14,
   "metadata": {},
   "outputs": [
    {
     "data": {
      "text/html": [
       "0.0278819347039185"
      ],
      "text/latex": [
       "0.0278819347039185"
      ],
      "text/markdown": [
       "0.0278819347039185"
      ],
      "text/plain": [
       "[1] 0.02788193"
      ]
     },
     "metadata": {},
     "output_type": "display_data"
    }
   ],
   "source": [
    "summary(lm(observed~predicted,data=dat))$adj.r.squared"
   ]
  },
  {
   "cell_type": "markdown",
   "metadata": {},
   "source": [
    "# Plot $R^2$"
   ]
  },
  {
   "cell_type": "code",
   "execution_count": 42,
   "metadata": {
    "scrolled": true
   },
   "outputs": [
    {
     "data": {
      "text/html": [
       "<table>\n",
       "<thead><tr><th scope=col>gene</th><th scope=col>rsq</th></tr></thead>\n",
       "<tbody>\n",
       "\t<tr><td>ENSG00000124549</td><td> 0.028241679   </td></tr>\n",
       "\t<tr><td>ENSG00000124143</td><td>-0.006335525   </td></tr>\n",
       "\t<tr><td>ENSG00000143552</td><td> 0.045258769   </td></tr>\n",
       "\t<tr><td>ENSG00000124688</td><td>-0.006504400   </td></tr>\n",
       "\t<tr><td>ENSG00000171853</td><td> 0.069118046   </td></tr>\n",
       "\t<tr><td>ENSG00000125551</td><td> 0.027063066   </td></tr>\n",
       "</tbody>\n",
       "</table>\n"
      ],
      "text/latex": [
       "\\begin{tabular}{r|ll}\n",
       " gene & rsq\\\\\n",
       "\\hline\n",
       "\t ENSG00000124549 &  0.028241679   \\\\\n",
       "\t ENSG00000124143 & -0.006335525   \\\\\n",
       "\t ENSG00000143552 &  0.045258769   \\\\\n",
       "\t ENSG00000124688 & -0.006504400   \\\\\n",
       "\t ENSG00000171853 &  0.069118046   \\\\\n",
       "\t ENSG00000125551 &  0.027063066   \\\\\n",
       "\\end{tabular}\n"
      ],
      "text/markdown": [
       "\n",
       "gene | rsq | \n",
       "|---|---|---|---|---|---|\n",
       "| ENSG00000124549 |  0.028241679    | \n",
       "| ENSG00000124143 | -0.006335525    | \n",
       "| ENSG00000143552 |  0.045258769    | \n",
       "| ENSG00000124688 | -0.006504400    | \n",
       "| ENSG00000171853 |  0.069118046    | \n",
       "| ENSG00000125551 |  0.027063066    | \n",
       "\n",
       "\n"
      ],
      "text/plain": [
       "  gene            rsq         \n",
       "1 ENSG00000124549  0.028241679\n",
       "2 ENSG00000124143 -0.006335525\n",
       "3 ENSG00000143552  0.045258769\n",
       "4 ENSG00000124688 -0.006504400\n",
       "5 ENSG00000171853  0.069118046\n",
       "6 ENSG00000125551  0.027063066"
      ]
     },
     "metadata": {},
     "output_type": "display_data"
    }
   ],
   "source": [
    "rsq <- fread('tcga-brca_predictions_rsq.txt')\n",
    "colnames(rsq) <- c('gene','rsq')\n",
    "head(rsq)"
   ]
  },
  {
   "cell_type": "code",
   "execution_count": 47,
   "metadata": {},
   "outputs": [
    {
     "name": "stderr",
     "output_type": "stream",
     "text": [
      "`stat_bin()` using `bins = 30`. Pick better value with `binwidth`.\n"
     ]
    },
    {
     "data": {},
     "metadata": {},
     "output_type": "display_data"
    },
    {
     "data": {
      "text/html": [
       "<strong>png:</strong> 2"
      ],
      "text/latex": [
       "\\textbf{png:} 2"
      ],
      "text/markdown": [
       "**png:** 2"
      ],
      "text/plain": [
       "png \n",
       "  2 "
      ]
     },
     "metadata": {},
     "output_type": "display_data"
    },
    {
     "data": {
      "image/png": "[encoded data removed]",
      "text/plain": [
       "plot without title"
      ]
     },
     "metadata": {},
     "output_type": "display_data"
    }
   ],
   "source": [
    "CairoPNG(width=640, height=480, file='tcga-brca_enet_adj_rsq_distribution.png')\n",
    "ggplot(data=rsq, aes(rsq)) + geom_histogram() + labs(x='adj.rsq', title='Distribution of adj.rsq for elastic net predictions for 1455 genes')\n",
    "dev.off()"
   ]
  },
  {
   "cell_type": "code",
   "execution_count": null,
   "metadata": {},
   "outputs": [],
   "source": []
  }
 ],
 "metadata": {
  "kernelspec": {
   "display_name": "R",
   "language": "R",
   "name": "ir"
  },
  "language_info": {
   "codemirror_mode": "r",
   "file_extension": ".r",
   "mimetype": "text/x-r-source",
   "name": "R",
   "pygments_lexer": "r",
   "version": "3.4.3"
  }
 },
 "nbformat": 4,
 "nbformat_minor": 2
}
