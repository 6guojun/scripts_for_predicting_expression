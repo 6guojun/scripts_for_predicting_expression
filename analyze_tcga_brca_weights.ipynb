{
 "cells": [
  {
   "cell_type": "code",
   "execution_count": 1,
   "metadata": {},
   "outputs": [],
   "source": [
    "import pandas as pd\n",
    "import glob\n",
    "from matplotlib import pyplot as plt\n",
    "%matplotlib inline\n",
    "import os.path\n",
    "from collections import defaultdict"
   ]
  },
  {
   "cell_type": "code",
   "execution_count": 8,
   "metadata": {},
   "outputs": [],
   "source": [
    "# load summary.dat, checking for empty lines\n",
    "# with open('enet_summary.dat') as fh:\n",
    "#     lines=fh.read().splitlines()\n",
    "#     tab=[l.split() for l in lines if len(l.split())==4 ]\n",
    "\n",
    "# summary=pd.DataFrame(tab, columns=['file','coeffs','cv.rsq','cv.pval'])\n",
    "# summary['coeffs']=summary['coeffs'].astype('int64')\n",
    "# summary['cv.rsq']=summary['cv.rsq'].astype('float64')\n",
    "# summary['cv.pval']=summary['cv.pval'].astype('float64')\n",
    "summary=pd.read_table('enet_summary.dat',header=None, names=['file','coeffs','cv.rsq','cv.pval'])"
   ]
  },
  {
   "cell_type": "code",
   "execution_count": 9,
   "metadata": {},
   "outputs": [
    {
     "data": {
      "text/plain": [
       "8514"
      ]
     },
     "execution_count": 9,
     "metadata": {},
     "output_type": "execute_result"
    }
   ],
   "source": [
    "len(summary)"
   ]
  },
  {
   "cell_type": "code",
   "execution_count": 10,
   "metadata": {},
   "outputs": [
    {
     "data": {
      "text/html": [
       "<div>\n",
       "<style scoped>\n",
       "    .dataframe tbody tr th:only-of-type {\n",
       "        vertical-align: middle;\n",
       "    }\n",
       "\n",
       "    .dataframe tbody tr th {\n",
       "        vertical-align: top;\n",
       "    }\n",
       "\n",
       "    .dataframe thead th {\n",
       "        text-align: right;\n",
       "    }\n",
       "</style>\n",
       "<table border=\"1\" class=\"dataframe\">\n",
       "  <thead>\n",
       "    <tr style=\"text-align: right;\">\n",
       "      <th></th>\n",
       "      <th>file</th>\n",
       "      <th>coeffs</th>\n",
       "      <th>cv.rsq</th>\n",
       "      <th>cv.pval</th>\n",
       "    </tr>\n",
       "  </thead>\n",
       "  <tbody>\n",
       "    <tr>\n",
       "      <th>0</th>\n",
       "      <td>EUR.ENSG00000000457.wgt.RDat</td>\n",
       "      <td>46</td>\n",
       "      <td>0.001727</td>\n",
       "      <td>0.163376</td>\n",
       "    </tr>\n",
       "    <tr>\n",
       "      <th>1</th>\n",
       "      <td>EUR.ENSG00000000938.wgt.RDat</td>\n",
       "      <td>36</td>\n",
       "      <td>-0.001405</td>\n",
       "      <td>0.630785</td>\n",
       "    </tr>\n",
       "    <tr>\n",
       "      <th>2</th>\n",
       "      <td>EUR.ENSG00000001084.wgt.RDat</td>\n",
       "      <td>36</td>\n",
       "      <td>-0.001826</td>\n",
       "      <td>0.971351</td>\n",
       "    </tr>\n",
       "    <tr>\n",
       "      <th>3</th>\n",
       "      <td>EUR.ENSG00000001460.wgt.RDat</td>\n",
       "      <td>7</td>\n",
       "      <td>-0.001129</td>\n",
       "      <td>0.536719</td>\n",
       "    </tr>\n",
       "    <tr>\n",
       "      <th>4</th>\n",
       "      <td>EUR.ENSG00000001561.wgt.RDat</td>\n",
       "      <td>9</td>\n",
       "      <td>-0.001797</td>\n",
       "      <td>0.896094</td>\n",
       "    </tr>\n",
       "  </tbody>\n",
       "</table>\n",
       "</div>"
      ],
      "text/plain": [
       "                           file  coeffs    cv.rsq   cv.pval\n",
       "0  EUR.ENSG00000000457.wgt.RDat      46  0.001727  0.163376\n",
       "1  EUR.ENSG00000000938.wgt.RDat      36 -0.001405  0.630785\n",
       "2  EUR.ENSG00000001084.wgt.RDat      36 -0.001826  0.971351\n",
       "3  EUR.ENSG00000001460.wgt.RDat       7 -0.001129  0.536719\n",
       "4  EUR.ENSG00000001561.wgt.RDat       9 -0.001797  0.896094"
      ]
     },
     "execution_count": 10,
     "metadata": {},
     "output_type": "execute_result"
    }
   ],
   "source": [
    "summary.head()"
   ]
  },
  {
   "cell_type": "code",
   "execution_count": 11,
   "metadata": {},
   "outputs": [
    {
     "data": {
      "text/html": [
       "<div>\n",
       "<style scoped>\n",
       "    .dataframe tbody tr th:only-of-type {\n",
       "        vertical-align: middle;\n",
       "    }\n",
       "\n",
       "    .dataframe tbody tr th {\n",
       "        vertical-align: top;\n",
       "    }\n",
       "\n",
       "    .dataframe thead th {\n",
       "        text-align: right;\n",
       "    }\n",
       "</style>\n",
       "<table border=\"1\" class=\"dataframe\">\n",
       "  <thead>\n",
       "    <tr style=\"text-align: right;\">\n",
       "      <th></th>\n",
       "      <th>file</th>\n",
       "      <th>coeffs</th>\n",
       "      <th>cv.rsq</th>\n",
       "      <th>cv.pval</th>\n",
       "    </tr>\n",
       "  </thead>\n",
       "  <tbody>\n",
       "    <tr>\n",
       "      <th>6812</th>\n",
       "      <td>EUR.ENSG00000198502.wgt.RDat</td>\n",
       "      <td>114</td>\n",
       "      <td>0.735610</td>\n",
       "      <td>2.322327e-160</td>\n",
       "    </tr>\n",
       "    <tr>\n",
       "      <th>6920</th>\n",
       "      <td>EUR.ENSG00000204310.wgt.RDat</td>\n",
       "      <td>60</td>\n",
       "      <td>0.713053</td>\n",
       "      <td>1.252123e-150</td>\n",
       "    </tr>\n",
       "    <tr>\n",
       "      <th>7832</th>\n",
       "      <td>EUR.ENSG00000236104.wgt.RDat</td>\n",
       "      <td>45</td>\n",
       "      <td>0.682961</td>\n",
       "      <td>8.961344e-139</td>\n",
       "    </tr>\n",
       "    <tr>\n",
       "      <th>6935</th>\n",
       "      <td>EUR.ENSG00000204536.wgt.RDat</td>\n",
       "      <td>66</td>\n",
       "      <td>0.667600</td>\n",
       "      <td>3.778735e-133</td>\n",
       "    </tr>\n",
       "    <tr>\n",
       "      <th>7392</th>\n",
       "      <td>EUR.ENSG00000223501.wgt.RDat</td>\n",
       "      <td>66</td>\n",
       "      <td>0.661669</td>\n",
       "      <td>4.784117e-131</td>\n",
       "    </tr>\n",
       "  </tbody>\n",
       "</table>\n",
       "</div>"
      ],
      "text/plain": [
       "                              file  coeffs    cv.rsq        cv.pval\n",
       "6812  EUR.ENSG00000198502.wgt.RDat     114  0.735610  2.322327e-160\n",
       "6920  EUR.ENSG00000204310.wgt.RDat      60  0.713053  1.252123e-150\n",
       "7832  EUR.ENSG00000236104.wgt.RDat      45  0.682961  8.961344e-139\n",
       "6935  EUR.ENSG00000204536.wgt.RDat      66  0.667600  3.778735e-133\n",
       "7392  EUR.ENSG00000223501.wgt.RDat      66  0.661669  4.784117e-131"
      ]
     },
     "execution_count": 11,
     "metadata": {},
     "output_type": "execute_result"
    }
   ],
   "source": [
    "# sort on cv.pval\n",
    "sorted_summary=summary.sort_values('cv.pval')\n",
    "sorted_summary.head()"
   ]
  },
  {
   "cell_type": "code",
   "execution_count": 17,
   "metadata": {},
   "outputs": [],
   "source": [
    "# add column for just ENSG\n",
    "sorted_summary['ensg'] = sorted_summary['file'].apply(lambda x: x.split('.')[1])"
   ]
  },
  {
   "cell_type": "code",
   "execution_count": 18,
   "metadata": {},
   "outputs": [],
   "source": [
    "sorted_summary.to_csv('summary_sorted.dat',sep='\\t', index=False)"
   ]
  },
  {
   "cell_type": "code",
   "execution_count": 21,
   "metadata": {},
   "outputs": [
    {
     "data": {
      "text/plain": [
       "7784"
      ]
     },
     "execution_count": 21,
     "metadata": {},
     "output_type": "execute_result"
    }
   ],
   "source": [
    "# genes for which compute_weights function ran but all enet coeffs were 0\n",
    "all_outputs = glob.glob('/cellar/users/jlz014/fusion_twas-master/TCGA-BRCA_normed_weights/EUR/*RDat')\n",
    "all_outputs_genes=[x.split('/')[-1].split('.')[1] for x in all_outputs]\n",
    "genes_without_models = set(all_outputs_genes)-set(sorted_summary['ensg'])\n",
    "len(genes_without_models)"
   ]
  },
  {
   "cell_type": "code",
   "execution_count": 11,
   "metadata": {},
   "outputs": [],
   "source": [
    "# get genes for which compute weights function didn't run\n",
    "expr_mtx=pd.read_table('/data/cellardata/users/jlz014/TCGA/expression/TCGA-BRCA.ENSG.chr1-22.median-filt.log2RPKM.qnorm.train.txt')\n",
    "all_brca_genes=list(expr_mtx.gene)"
   ]
  },
  {
   "cell_type": "code",
   "execution_count": null,
   "metadata": {},
   "outputs": [],
   "source": [
    "# list of genes for which compute weights function ran \n",
    "genes_ran=[x.split('.')[1] for x in summary.file]+[x.split('.')[1] for x in no_models]\n",
    "# genes_ran=glob.glob('/cellar/users/jlz014/fusion_twas-master/TCGA-BRCA_normed_weights/EUR/*RDat')\n",
    "# genes_ran=[x.split('.')[1] for x in genes_ran]"
   ]
  },
  {
   "cell_type": "code",
   "execution_count": null,
   "metadata": {},
   "outputs": [],
   "source": [
    "genes_not_ran=set(all_brca_genes)-set(genes_ran)"
   ]
  },
  {
   "cell_type": "code",
   "execution_count": null,
   "metadata": {},
   "outputs": [],
   "source": [
    "# match SGE TASK ID to gene\n",
    "sge_dict=dict(zip(expr_mtx.gene,range(2,18289)))\n",
    "no_model_sge=[sge_dict[g] for g in set(all_brca_genes)-set([x.split('.')[1] for x in summary.file])]"
   ]
  },
  {
   "cell_type": "code",
   "execution_count": null,
   "metadata": {},
   "outputs": [],
   "source": [
    "not_run_sge=[sge_dict[g] for g in genes_not_ran]"
   ]
  },
  {
   "cell_type": "markdown",
   "metadata": {},
   "source": [
    "# Parse table of models with qval<0.1 (input from R)\n",
    "Map gene names to ENSG"
   ]
  },
  {
   "cell_type": "code",
   "execution_count": 13,
   "metadata": {},
   "outputs": [],
   "source": [
    "summary = pd.read_table('tcga-brca_enet_models_significant_qval.txt')"
   ]
  },
  {
   "cell_type": "code",
   "execution_count": 14,
   "metadata": {},
   "outputs": [
    {
     "data": {
      "text/html": [
       "<div>\n",
       "<style scoped>\n",
       "    .dataframe tbody tr th:only-of-type {\n",
       "        vertical-align: middle;\n",
       "    }\n",
       "\n",
       "    .dataframe tbody tr th {\n",
       "        vertical-align: top;\n",
       "    }\n",
       "\n",
       "    .dataframe thead th {\n",
       "        text-align: right;\n",
       "    }\n",
       "</style>\n",
       "<table border=\"1\" class=\"dataframe\">\n",
       "  <thead>\n",
       "    <tr style=\"text-align: right;\">\n",
       "      <th></th>\n",
       "      <th>Transcript stable ID</th>\n",
       "      <th>Gene name</th>\n",
       "    </tr>\n",
       "    <tr>\n",
       "      <th>Gene stable ID</th>\n",
       "      <th></th>\n",
       "      <th></th>\n",
       "    </tr>\n",
       "  </thead>\n",
       "  <tbody>\n",
       "    <tr>\n",
       "      <th>ENSG00000276626</th>\n",
       "      <td>ENST00000612820</td>\n",
       "      <td>RF00100</td>\n",
       "    </tr>\n",
       "    <tr>\n",
       "      <th>ENSG00000201317</th>\n",
       "      <td>ENST00000364447</td>\n",
       "      <td>RNU4-59P</td>\n",
       "    </tr>\n",
       "    <tr>\n",
       "      <th>ENSG00000200823</th>\n",
       "      <td>ENST00000363953</td>\n",
       "      <td>SNORD114-2</td>\n",
       "    </tr>\n",
       "    <tr>\n",
       "      <th>ENSG00000221598</th>\n",
       "      <td>ENST00000408671</td>\n",
       "      <td>MIR1249</td>\n",
       "    </tr>\n",
       "    <tr>\n",
       "      <th>ENSG00000199595</th>\n",
       "      <td>ENST00000362725</td>\n",
       "      <td>RF00019</td>\n",
       "    </tr>\n",
       "  </tbody>\n",
       "</table>\n",
       "</div>"
      ],
      "text/plain": [
       "                Transcript stable ID   Gene name\n",
       "Gene stable ID                                  \n",
       "ENSG00000276626      ENST00000612820     RF00100\n",
       "ENSG00000201317      ENST00000364447    RNU4-59P\n",
       "ENSG00000200823      ENST00000363953  SNORD114-2\n",
       "ENSG00000221598      ENST00000408671     MIR1249\n",
       "ENSG00000199595      ENST00000362725     RF00019"
      ]
     },
     "execution_count": 14,
     "metadata": {},
     "output_type": "execute_result"
    }
   ],
   "source": [
    "# load mapping table for ENSG/ENST/gene name (from Biomart)\n",
    "gene_map = pd.read_table('/cellar/users/jlz014/Data/ensg_enst_gene_mapping.txt',index_col=0)\n",
    "gene_map.head()"
   ]
  },
  {
   "cell_type": "code",
   "execution_count": 15,
   "metadata": {},
   "outputs": [],
   "source": [
    "ensg_lut=dict(zip(gene_map.index, gene_map['Gene name']))"
   ]
  },
  {
   "cell_type": "code",
   "execution_count": 16,
   "metadata": {},
   "outputs": [
    {
     "data": {
      "text/html": [
       "<div>\n",
       "<style scoped>\n",
       "    .dataframe tbody tr th:only-of-type {\n",
       "        vertical-align: middle;\n",
       "    }\n",
       "\n",
       "    .dataframe tbody tr th {\n",
       "        vertical-align: top;\n",
       "    }\n",
       "\n",
       "    .dataframe thead th {\n",
       "        text-align: right;\n",
       "    }\n",
       "</style>\n",
       "<table border=\"1\" class=\"dataframe\">\n",
       "  <thead>\n",
       "    <tr style=\"text-align: right;\">\n",
       "      <th></th>\n",
       "      <th>file</th>\n",
       "      <th>coeffs</th>\n",
       "      <th>cv.rsq</th>\n",
       "      <th>cv.pval</th>\n",
       "      <th>cv.qval</th>\n",
       "      <th>ensg</th>\n",
       "      <th>gene</th>\n",
       "    </tr>\n",
       "  </thead>\n",
       "  <tbody>\n",
       "    <tr>\n",
       "      <th>0</th>\n",
       "      <td>EUR.ENSG00000204310.wgt.RDat</td>\n",
       "      <td>15</td>\n",
       "      <td>0.731559</td>\n",
       "      <td>7.653302e-163</td>\n",
       "      <td>5.983352e-159</td>\n",
       "      <td>ENSG00000204310</td>\n",
       "      <td>AGPAT1</td>\n",
       "    </tr>\n",
       "    <tr>\n",
       "      <th>1</th>\n",
       "      <td>EUR.ENSG00000231925.wgt.RDat</td>\n",
       "      <td>48</td>\n",
       "      <td>0.660028</td>\n",
       "      <td>5.434318e-134</td>\n",
       "      <td>2.124275e-130</td>\n",
       "      <td>ENSG00000231925</td>\n",
       "      <td>TAPBP</td>\n",
       "    </tr>\n",
       "    <tr>\n",
       "      <th>2</th>\n",
       "      <td>EUR.ENSG00000163682.wgt.RDat</td>\n",
       "      <td>29</td>\n",
       "      <td>0.658113</td>\n",
       "      <td>2.636727e-133</td>\n",
       "      <td>6.871310e-130</td>\n",
       "      <td>ENSG00000163682</td>\n",
       "      <td>RPL9</td>\n",
       "    </tr>\n",
       "    <tr>\n",
       "      <th>3</th>\n",
       "      <td>EUR.ENSG00000198502.wgt.RDat</td>\n",
       "      <td>90</td>\n",
       "      <td>0.647999</td>\n",
       "      <td>9.604646e-130</td>\n",
       "      <td>1.877228e-126</td>\n",
       "      <td>ENSG00000198502</td>\n",
       "      <td>HLA-DRB5</td>\n",
       "    </tr>\n",
       "    <tr>\n",
       "      <th>4</th>\n",
       "      <td>EUR.ENSG00000241945.wgt.RDat</td>\n",
       "      <td>116</td>\n",
       "      <td>0.623209</td>\n",
       "      <td>1.977086e-121</td>\n",
       "      <td>3.091372e-118</td>\n",
       "      <td>ENSG00000241945</td>\n",
       "      <td>PWP2</td>\n",
       "    </tr>\n",
       "  </tbody>\n",
       "</table>\n",
       "</div>"
      ],
      "text/plain": [
       "                           file  coeffs    cv.rsq        cv.pval  \\\n",
       "0  EUR.ENSG00000204310.wgt.RDat      15  0.731559  7.653302e-163   \n",
       "1  EUR.ENSG00000231925.wgt.RDat      48  0.660028  5.434318e-134   \n",
       "2  EUR.ENSG00000163682.wgt.RDat      29  0.658113  2.636727e-133   \n",
       "3  EUR.ENSG00000198502.wgt.RDat      90  0.647999  9.604646e-130   \n",
       "4  EUR.ENSG00000241945.wgt.RDat     116  0.623209  1.977086e-121   \n",
       "\n",
       "         cv.qval             ensg      gene  \n",
       "0  5.983352e-159  ENSG00000204310    AGPAT1  \n",
       "1  2.124275e-130  ENSG00000231925     TAPBP  \n",
       "2  6.871310e-130  ENSG00000163682      RPL9  \n",
       "3  1.877228e-126  ENSG00000198502  HLA-DRB5  \n",
       "4  3.091372e-118  ENSG00000241945      PWP2  "
      ]
     },
     "execution_count": 16,
     "metadata": {},
     "output_type": "execute_result"
    }
   ],
   "source": [
    "summary['ensg']=summary['file'].apply(lambda x: x.split('.')[1])\n",
    "summary['gene']=summary['ensg'].map(ensg_lut)\n",
    "summary.head()"
   ]
  },
  {
   "cell_type": "code",
   "execution_count": 17,
   "metadata": {},
   "outputs": [],
   "source": [
    "summary.to_csv('tcga-brca_enet_models_significant_qval_with_gene_names.txt',sep='\\t', index=False)"
   ]
  },
  {
   "cell_type": "markdown",
   "metadata": {},
   "source": [
    "# Table with *RDat, tmp plink files (for patients in training set)"
   ]
  },
  {
   "cell_type": "code",
   "execution_count": 18,
   "metadata": {},
   "outputs": [],
   "source": [
    "MODELS_DIR='/cellar/users/jlz014/fusion_twas-master/TCGA-BRCA_normed_weights/EUR'\n",
    "TMP_DIR='/cellar/users/jlz014/fusion_twas-master/tmp/TCGA_BRCA_EUR_imputed_females_filtered'"
   ]
  },
  {
   "cell_type": "code",
   "execution_count": 19,
   "metadata": {},
   "outputs": [],
   "source": [
    "models_rdat = glob.glob(os.path.join(MODELS_DIR, '*RDat'))\n",
    "tmp_bed = glob.glob(os.path.join(TMP_DIR,'*tmp.bed'))\n",
    "tmp_plink_base = [x[:-4] for x in tmp_bed]"
   ]
  },
  {
   "cell_type": "code",
   "execution_count": 4,
   "metadata": {},
   "outputs": [],
   "source": [
    "# get ensg for models, generate dicts for lookup\n",
    "models_ensg = [x.split('.')[-3] for x in models_rdat]\n",
    "plink_ensg = [x.split('.')[-3] for x in tmp_plink_base]\n",
    "models_dict = dict(zip(models_ensg, models_rdat))\n",
    "plink_dict = dict(zip(plink_ensg, tmp_plink_base))"
   ]
  },
  {
   "cell_type": "code",
   "execution_count": 20,
   "metadata": {},
   "outputs": [],
   "source": [
    "files_lut= pd.DataFrame.from_dict(models_dict,orient='index')"
   ]
  },
  {
   "cell_type": "code",
   "execution_count": 21,
   "metadata": {},
   "outputs": [],
   "source": [
    "test_plink = ['/cellar/users/jlz014/fusion_twas-master/TCGA-BRCA_normed_weights/brca_test_patients_tmp_plink/TCGA-BRCA.ENSG.chr1-22.median-filt.log2RPKM.qnorm.test.txt.'+x for x in files_lut.index]"
   ]
  },
  {
   "cell_type": "code",
   "execution_count": 22,
   "metadata": {},
   "outputs": [],
   "source": [
    "files_lut['plink']=test_plink\n",
    "files_lut.to_csv('tcga-brca_enet_models_files_test_patients.txt',sep='\\t', header=None, index=True)"
   ]
  },
  {
   "cell_type": "code",
   "execution_count": 23,
   "metadata": {},
   "outputs": [
    {
     "data": {
      "text/html": [
       "<div>\n",
       "<style scoped>\n",
       "    .dataframe tbody tr th:only-of-type {\n",
       "        vertical-align: middle;\n",
       "    }\n",
       "\n",
       "    .dataframe tbody tr th {\n",
       "        vertical-align: top;\n",
       "    }\n",
       "\n",
       "    .dataframe thead th {\n",
       "        text-align: right;\n",
       "    }\n",
       "</style>\n",
       "<table border=\"1\" class=\"dataframe\">\n",
       "  <thead>\n",
       "    <tr style=\"text-align: right;\">\n",
       "      <th></th>\n",
       "      <th>0</th>\n",
       "      <th>plink</th>\n",
       "    </tr>\n",
       "  </thead>\n",
       "  <tbody>\n",
       "    <tr>\n",
       "      <th>ENSG00000243025</th>\n",
       "      <td>/cellar/users/jlz014/fusion_twas-master/TCGA-B...</td>\n",
       "      <td>/cellar/users/jlz014/fusion_twas-master/TCGA-B...</td>\n",
       "    </tr>\n",
       "    <tr>\n",
       "      <th>ENSG00000085117</th>\n",
       "      <td>/cellar/users/jlz014/fusion_twas-master/TCGA-B...</td>\n",
       "      <td>/cellar/users/jlz014/fusion_twas-master/TCGA-B...</td>\n",
       "    </tr>\n",
       "    <tr>\n",
       "      <th>ENSG00000149084</th>\n",
       "      <td>/cellar/users/jlz014/fusion_twas-master/TCGA-B...</td>\n",
       "      <td>/cellar/users/jlz014/fusion_twas-master/TCGA-B...</td>\n",
       "    </tr>\n",
       "    <tr>\n",
       "      <th>ENSG00000104886</th>\n",
       "      <td>/cellar/users/jlz014/fusion_twas-master/TCGA-B...</td>\n",
       "      <td>/cellar/users/jlz014/fusion_twas-master/TCGA-B...</td>\n",
       "    </tr>\n",
       "    <tr>\n",
       "      <th>ENSG00000237406</th>\n",
       "      <td>/cellar/users/jlz014/fusion_twas-master/TCGA-B...</td>\n",
       "      <td>/cellar/users/jlz014/fusion_twas-master/TCGA-B...</td>\n",
       "    </tr>\n",
       "  </tbody>\n",
       "</table>\n",
       "</div>"
      ],
      "text/plain": [
       "                                                                 0  \\\n",
       "ENSG00000243025  /cellar/users/jlz014/fusion_twas-master/TCGA-B...   \n",
       "ENSG00000085117  /cellar/users/jlz014/fusion_twas-master/TCGA-B...   \n",
       "ENSG00000149084  /cellar/users/jlz014/fusion_twas-master/TCGA-B...   \n",
       "ENSG00000104886  /cellar/users/jlz014/fusion_twas-master/TCGA-B...   \n",
       "ENSG00000237406  /cellar/users/jlz014/fusion_twas-master/TCGA-B...   \n",
       "\n",
       "                                                             plink  \n",
       "ENSG00000243025  /cellar/users/jlz014/fusion_twas-master/TCGA-B...  \n",
       "ENSG00000085117  /cellar/users/jlz014/fusion_twas-master/TCGA-B...  \n",
       "ENSG00000149084  /cellar/users/jlz014/fusion_twas-master/TCGA-B...  \n",
       "ENSG00000104886  /cellar/users/jlz014/fusion_twas-master/TCGA-B...  \n",
       "ENSG00000237406  /cellar/users/jlz014/fusion_twas-master/TCGA-B...  "
      ]
     },
     "execution_count": 23,
     "metadata": {},
     "output_type": "execute_result"
    }
   ],
   "source": [
    "files_lut.head()"
   ]
  },
  {
   "cell_type": "code",
   "execution_count": null,
   "metadata": {},
   "outputs": [],
   "source": []
  }
 ],
 "metadata": {
  "kernelspec": {
   "display_name": "Python 3",
   "language": "python",
   "name": "python3"
  },
  "language_info": {
   "codemirror_mode": {
    "name": "ipython",
    "version": 3
   },
   "file_extension": ".py",
   "mimetype": "text/x-python",
   "name": "python",
   "nbconvert_exporter": "python",
   "pygments_lexer": "ipython3",
   "version": "3.6.4"
  }
 },
 "nbformat": 4,
 "nbformat_minor": 2
}
