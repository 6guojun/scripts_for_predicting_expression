{
 "cells": [
  {
   "cell_type": "markdown",
   "metadata": {},
   "source": [
    "This notebook generates a table with each gene and the paths to its weights .RDat file and its respective base name for PLINK files in the 1MB window of the gene for the patients in the test set."
   ]
  },
  {
   "cell_type": "code",
   "execution_count": 1,
   "metadata": {},
   "outputs": [],
   "source": [
    "import pandas as pd"
   ]
  },
  {
   "cell_type": "code",
   "execution_count": 2,
   "metadata": {},
   "outputs": [
    {
     "data": {
      "text/html": [
       "<div>\n",
       "<style scoped>\n",
       "    .dataframe tbody tr th:only-of-type {\n",
       "        vertical-align: middle;\n",
       "    }\n",
       "\n",
       "    .dataframe tbody tr th {\n",
       "        vertical-align: top;\n",
       "    }\n",
       "\n",
       "    .dataframe thead th {\n",
       "        text-align: right;\n",
       "    }\n",
       "</style>\n",
       "<table border=\"1\" class=\"dataframe\">\n",
       "  <thead>\n",
       "    <tr style=\"text-align: right;\">\n",
       "      <th></th>\n",
       "      <th>file</th>\n",
       "      <th>coeffs</th>\n",
       "      <th>cv.rsq</th>\n",
       "      <th>cv.pval</th>\n",
       "      <th>ensg</th>\n",
       "      <th>cv.qval</th>\n",
       "    </tr>\n",
       "  </thead>\n",
       "  <tbody>\n",
       "    <tr>\n",
       "      <th>0</th>\n",
       "      <td>EUR.ENSG00000198502.wgt.RDat</td>\n",
       "      <td>114</td>\n",
       "      <td>0.735610</td>\n",
       "      <td>2.322327e-160</td>\n",
       "      <td>ENSG00000198502</td>\n",
       "      <td>1.977230e-156</td>\n",
       "    </tr>\n",
       "    <tr>\n",
       "      <th>1</th>\n",
       "      <td>EUR.ENSG00000204310.wgt.RDat</td>\n",
       "      <td>60</td>\n",
       "      <td>0.713053</td>\n",
       "      <td>1.252123e-150</td>\n",
       "      <td>ENSG00000204310</td>\n",
       "      <td>5.330288e-147</td>\n",
       "    </tr>\n",
       "    <tr>\n",
       "      <th>2</th>\n",
       "      <td>EUR.ENSG00000236104.wgt.RDat</td>\n",
       "      <td>45</td>\n",
       "      <td>0.682961</td>\n",
       "      <td>8.961344e-139</td>\n",
       "      <td>ENSG00000236104</td>\n",
       "      <td>2.543229e-135</td>\n",
       "    </tr>\n",
       "    <tr>\n",
       "      <th>3</th>\n",
       "      <td>EUR.ENSG00000204536.wgt.RDat</td>\n",
       "      <td>66</td>\n",
       "      <td>0.667600</td>\n",
       "      <td>3.778735e-133</td>\n",
       "      <td>ENSG00000204536</td>\n",
       "      <td>8.043037e-130</td>\n",
       "    </tr>\n",
       "    <tr>\n",
       "      <th>4</th>\n",
       "      <td>EUR.ENSG00000223501.wgt.RDat</td>\n",
       "      <td>66</td>\n",
       "      <td>0.661669</td>\n",
       "      <td>4.784117e-131</td>\n",
       "      <td>ENSG00000223501</td>\n",
       "      <td>8.146394e-128</td>\n",
       "    </tr>\n",
       "  </tbody>\n",
       "</table>\n",
       "</div>"
      ],
      "text/plain": [
       "                           file  coeffs    cv.rsq        cv.pval  \\\n",
       "0  EUR.ENSG00000198502.wgt.RDat     114  0.735610  2.322327e-160   \n",
       "1  EUR.ENSG00000204310.wgt.RDat      60  0.713053  1.252123e-150   \n",
       "2  EUR.ENSG00000236104.wgt.RDat      45  0.682961  8.961344e-139   \n",
       "3  EUR.ENSG00000204536.wgt.RDat      66  0.667600  3.778735e-133   \n",
       "4  EUR.ENSG00000223501.wgt.RDat      66  0.661669  4.784117e-131   \n",
       "\n",
       "              ensg        cv.qval  \n",
       "0  ENSG00000198502  1.977230e-156  \n",
       "1  ENSG00000204310  5.330288e-147  \n",
       "2  ENSG00000236104  2.543229e-135  \n",
       "3  ENSG00000204536  8.043037e-130  \n",
       "4  ENSG00000223501  8.146394e-128  "
      ]
     },
     "execution_count": 2,
     "metadata": {},
     "output_type": "execute_result"
    }
   ],
   "source": [
    "significant_models_df = pd.read_table('tcga-brca_enet_models_significant_qval.txt')\n",
    "significant_models_df.head()"
   ]
  },
  {
   "cell_type": "code",
   "execution_count": 5,
   "metadata": {},
   "outputs": [],
   "source": [
    "# PLINK fh\n",
    "PLINK_DIR='/cellar/users/jlz014/fusion_twas-master/TCGA-BRCA_normed_weights/brca_test_patients_tmp_plink/'\n",
    "FILE_PRE='TCGA-BRCA.ENSG.chr1-22.median-filt.log2RPKM.qnorm.test.for_predictions.txt.'\n",
    "plink_file=[PLINK_DIR+FILE_PRE+gene for gene in significant_models_df['ensg']]"
   ]
  },
  {
   "cell_type": "code",
   "execution_count": 8,
   "metadata": {},
   "outputs": [
    {
     "data": {
      "text/plain": [
       "(1882, 3)"
      ]
     },
     "execution_count": 8,
     "metadata": {},
     "output_type": "execute_result"
    }
   ],
   "source": [
    "out=pd.DataFrame({'ensg':significant_models_df['ensg'], 'file':significant_models_df['file'], 'plink':plink_file})\n",
    "out.shape"
   ]
  },
  {
   "cell_type": "code",
   "execution_count": 9,
   "metadata": {},
   "outputs": [
    {
     "data": {
      "text/html": [
       "<div>\n",
       "<style scoped>\n",
       "    .dataframe tbody tr th:only-of-type {\n",
       "        vertical-align: middle;\n",
       "    }\n",
       "\n",
       "    .dataframe tbody tr th {\n",
       "        vertical-align: top;\n",
       "    }\n",
       "\n",
       "    .dataframe thead th {\n",
       "        text-align: right;\n",
       "    }\n",
       "</style>\n",
       "<table border=\"1\" class=\"dataframe\">\n",
       "  <thead>\n",
       "    <tr style=\"text-align: right;\">\n",
       "      <th></th>\n",
       "      <th>ensg</th>\n",
       "      <th>file</th>\n",
       "      <th>plink</th>\n",
       "    </tr>\n",
       "  </thead>\n",
       "  <tbody>\n",
       "    <tr>\n",
       "      <th>0</th>\n",
       "      <td>ENSG00000198502</td>\n",
       "      <td>EUR.ENSG00000198502.wgt.RDat</td>\n",
       "      <td>/cellar/users/jlz014/fusion_twas-master/TCGA-B...</td>\n",
       "    </tr>\n",
       "    <tr>\n",
       "      <th>1</th>\n",
       "      <td>ENSG00000204310</td>\n",
       "      <td>EUR.ENSG00000204310.wgt.RDat</td>\n",
       "      <td>/cellar/users/jlz014/fusion_twas-master/TCGA-B...</td>\n",
       "    </tr>\n",
       "    <tr>\n",
       "      <th>2</th>\n",
       "      <td>ENSG00000236104</td>\n",
       "      <td>EUR.ENSG00000236104.wgt.RDat</td>\n",
       "      <td>/cellar/users/jlz014/fusion_twas-master/TCGA-B...</td>\n",
       "    </tr>\n",
       "    <tr>\n",
       "      <th>3</th>\n",
       "      <td>ENSG00000204536</td>\n",
       "      <td>EUR.ENSG00000204536.wgt.RDat</td>\n",
       "      <td>/cellar/users/jlz014/fusion_twas-master/TCGA-B...</td>\n",
       "    </tr>\n",
       "    <tr>\n",
       "      <th>4</th>\n",
       "      <td>ENSG00000223501</td>\n",
       "      <td>EUR.ENSG00000223501.wgt.RDat</td>\n",
       "      <td>/cellar/users/jlz014/fusion_twas-master/TCGA-B...</td>\n",
       "    </tr>\n",
       "  </tbody>\n",
       "</table>\n",
       "</div>"
      ],
      "text/plain": [
       "              ensg                          file  \\\n",
       "0  ENSG00000198502  EUR.ENSG00000198502.wgt.RDat   \n",
       "1  ENSG00000204310  EUR.ENSG00000204310.wgt.RDat   \n",
       "2  ENSG00000236104  EUR.ENSG00000236104.wgt.RDat   \n",
       "3  ENSG00000204536  EUR.ENSG00000204536.wgt.RDat   \n",
       "4  ENSG00000223501  EUR.ENSG00000223501.wgt.RDat   \n",
       "\n",
       "                                               plink  \n",
       "0  /cellar/users/jlz014/fusion_twas-master/TCGA-B...  \n",
       "1  /cellar/users/jlz014/fusion_twas-master/TCGA-B...  \n",
       "2  /cellar/users/jlz014/fusion_twas-master/TCGA-B...  \n",
       "3  /cellar/users/jlz014/fusion_twas-master/TCGA-B...  \n",
       "4  /cellar/users/jlz014/fusion_twas-master/TCGA-B...  "
      ]
     },
     "execution_count": 9,
     "metadata": {},
     "output_type": "execute_result"
    }
   ],
   "source": [
    "out.head()"
   ]
  },
  {
   "cell_type": "code",
   "execution_count": 10,
   "metadata": {},
   "outputs": [],
   "source": [
    "out.to_csv('tcga-brca_enet_models_files_test_patients_significant_models.txt',sep='\\t', index=False)"
   ]
  },
  {
   "cell_type": "code",
   "execution_count": 12,
   "metadata": {},
   "outputs": [
    {
     "data": {
      "text/plain": [
       "(1882, 3)"
      ]
     },
     "execution_count": 12,
     "metadata": {},
     "output_type": "execute_result"
    }
   ],
   "source": [
    "out.shape"
   ]
  },
  {
   "cell_type": "code",
   "execution_count": null,
   "metadata": {},
   "outputs": [],
   "source": []
  }
 ],
 "metadata": {
  "kernelspec": {
   "display_name": "Python 3",
   "language": "python",
   "name": "python3"
  },
  "language_info": {
   "codemirror_mode": {
    "name": "ipython",
    "version": 3
   },
   "file_extension": ".py",
   "mimetype": "text/x-python",
   "name": "python",
   "nbconvert_exporter": "python",
   "pygments_lexer": "ipython3",
   "version": "3.6.4"
  }
 },
 "nbformat": 4,
 "nbformat_minor": 2
}
